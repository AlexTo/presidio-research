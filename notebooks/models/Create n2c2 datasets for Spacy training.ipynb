{
 "cells": [
  {
   "cell_type": "markdown",
   "metadata": {},
   "source": [
    "# Spacy dataset creation"
   ]
  },
  {
   "cell_type": "markdown",
   "metadata": {
    "pycharm": {
     "name": "#%% md\n"
    }
   },
   "source": [
    "This notebook takes train and test  datasets (of type `List[InputSample]`)\n",
    "and transforms them into two structures consumed by Spacy:\n",
    "1. Spacy JSON (see https://spacy.io/api/annotation#json-input)\n",
    "2. Spacy Pickle files (of structure `[(full_text,\"entities\":[(start, end, type),(...))]`.  \n",
    "See more details here: https://spacy.io/api/annotation#json-input)\n",
    "\n",
    "JSON is used for Spacy's CLI trainer. \n",
    "Pickle is used for fine-tuning using the logic in [../models/spacy_retrain.py](../models/spacy_retrain.py)"
   ]
  },
  {
   "cell_type": "code",
   "execution_count": 1,
   "metadata": {
    "pycharm": {
     "is_executing": false
    }
   },
   "outputs": [],
   "source": [
    "from presidio_evaluator.data_generator import read_synth_dataset\n",
    "from presidio_evaluator.data_objects import InputSample\n",
    "%reload_ext autoreload"
   ]
  },
  {
   "cell_type": "code",
   "execution_count": 2,
   "metadata": {},
   "outputs": [],
   "source": [
    "n2c2_train = read_synth_dataset('../../data/n2c2/set_1.json')\n",
    "n2c2_val = read_synth_dataset('../../data/n2c2/set_2.json')"
   ]
  },
  {
   "cell_type": "code",
   "execution_count": 3,
   "metadata": {},
   "outputs": [
    {
     "name": "stdout",
     "output_type": "stream",
     "text": [
      "Read train 445 samples\n",
      "Read val 237 samples\n"
     ]
    }
   ],
   "source": [
    "print(\"Read train {} samples\".format(len(n2c2_train)))\n",
    "print(\"Read val {} samples\".format(len(n2c2_val)))"
   ]
  },
  {
   "cell_type": "markdown",
   "metadata": {
    "pycharm": {
     "name": "#%% md\n"
    }
   },
   "source": [
    "For training, keep only sentences with entities:"
   ]
  },
  {
   "cell_type": "code",
   "execution_count": 4,
   "metadata": {},
   "outputs": [
    {
     "name": "stdout",
     "output_type": "stream",
     "text": [
      "Kept 445 samples after removal of non-tagged samples\n"
     ]
    }
   ],
   "source": [
    "train_tagged = [sample for sample in n2c2_train if len(sample.spans)>0]\n",
    "print(\"Kept {} samples after removal of non-tagged samples\".format(len(train_tagged)))"
   ]
  },
  {
   "cell_type": "markdown",
   "metadata": {
    "pycharm": {
     "name": "#%% md\n"
    }
   },
   "source": [
    "Evaluate training set's entities"
   ]
  },
  {
   "cell_type": "code",
   "execution_count": 5,
   "metadata": {
    "pycharm": {
     "name": "#%%\n"
    }
   },
   "outputs": [
    {
     "name": "stdout",
     "output_type": "stream",
     "text": [
      "Entities found in training set:\n"
     ]
    },
    {
     "data": {
      "text/plain": [
       "{'B-AGE',\n",
       " 'B-DATE_TIME',\n",
       " 'B-HEALTHPLAN',\n",
       " 'B-IDNUM',\n",
       " 'B-LOCATION',\n",
       " 'B-MEDICALRECORD',\n",
       " 'B-ORGANIZATION',\n",
       " 'B-PERSON',\n",
       " 'B-PHONE_NUMBER',\n",
       " 'B-PROFESSION',\n",
       " 'B-URL',\n",
       " 'I-DATE_TIME',\n",
       " 'I-IDNUM',\n",
       " 'I-LOCATION',\n",
       " 'I-MEDICALRECORD',\n",
       " 'I-ORGANIZATION',\n",
       " 'I-PERSON',\n",
       " 'I-PHONE_NUMBER',\n",
       " 'I-PROFESSION',\n",
       " 'I-URL',\n",
       " 'L-AGE',\n",
       " 'L-DATE_TIME',\n",
       " 'L-HEALTHPLAN',\n",
       " 'L-IDNUM',\n",
       " 'L-LOCATION',\n",
       " 'L-MEDICALRECORD',\n",
       " 'L-ORGANIZATION',\n",
       " 'L-PERSON',\n",
       " 'L-PHONE_NUMBER',\n",
       " 'L-PROFESSION',\n",
       " 'L-URL',\n",
       " 'O',\n",
       " 'U-AGE',\n",
       " 'U-BIOID',\n",
       " 'U-DATE_TIME',\n",
       " 'U-EMAIL_ADDRESS',\n",
       " 'U-IDNUM',\n",
       " 'U-LOCATION',\n",
       " 'U-MEDICALRECORD',\n",
       " 'U-ORGANIZATION',\n",
       " 'U-PERSON',\n",
       " 'U-PHONE_NUMBER',\n",
       " 'U-PROFESSION',\n",
       " 'U-USERNAME'}"
      ]
     },
     "execution_count": 5,
     "metadata": {},
     "output_type": "execute_result"
    }
   ],
   "source": [
    "print(\"Entities found in training set:\")\n",
    "entities = []\n",
    "for sample in train_tagged:\n",
    "    entities.extend([tag for tag in sample.tags])\n",
    "set(entities)"
   ]
  },
  {
   "cell_type": "markdown",
   "metadata": {
    "pycharm": {
     "name": "#%% md\n"
    }
   },
   "source": [
    "Create Spacy dataset (option 2)"
   ]
  },
  {
   "cell_type": "code",
   "execution_count": 6,
   "metadata": {
    "pycharm": {
     "name": "#%%\n"
    }
   },
   "outputs": [],
   "source": [
    "from presidio_evaluator import InputSample\n",
    "import pickle\n",
    "\n",
    "spacy_train = InputSample.create_spacy_dataset(train_tagged)"
   ]
  },
  {
   "cell_type": "code",
   "execution_count": 7,
   "metadata": {},
   "outputs": [
    {
     "data": {
      "text/plain": [
       "{'GPE', 'O', 'ORG', 'PERSON'}"
      ]
     },
     "execution_count": 7,
     "metadata": {},
     "output_type": "execute_result"
    }
   ],
   "source": [
    "entities_spacy = [x[1]['entities'] for x in spacy_train]\n",
    "entities_spacy\n",
    "entities_spacy_flat = []\n",
    "for samp in entities_spacy:\n",
    "    for ent in samp:\n",
    "        entities_spacy_flat.append(ent[2])\n",
    "set(entities_spacy_flat)"
   ]
  },
  {
   "cell_type": "markdown",
   "metadata": {},
   "source": [
    "Create Spacy dataset (option 1: JSON)"
   ]
  },
  {
   "cell_type": "code",
   "execution_count": 23,
   "metadata": {},
   "outputs": [
    {
     "name": "stderr",
     "output_type": "stream",
     "text": [
      "445it [00:00, 1374.31it/s]\n"
     ]
    }
   ],
   "source": [
    "from presidio_evaluator import InputSample\n",
    "spacy_train_json = InputSample.create_spacy_json(train_tagged)"
   ]
  },
  {
   "cell_type": "markdown",
   "metadata": {},
   "source": [
    "Quick evaluation of samples"
   ]
  },
  {
   "cell_type": "markdown",
   "metadata": {},
   "source": [
    "Dump training set to pickle and json respectively"
   ]
  },
  {
   "cell_type": "code",
   "execution_count": 24,
   "metadata": {},
   "outputs": [],
   "source": [
    "import pickle\n",
    "import json\n",
    "with open(\"../../data/n2c2/set_1_spacy.pickle\", 'wb') as handle:\n",
    "    pickle.dump(spacy_train,handle, protocol=pickle.HIGHEST_PROTOCOL)\n",
    "\n",
    "with open(\"../../data/n2c2/set_1_spacy.json\",\"w\") as f:\n",
    "    json.dump(spacy_train_json,f)"
   ]
  },
  {
   "cell_type": "markdown",
   "metadata": {},
   "source": [
    "Create JSON and pickle files for test dataset"
   ]
  },
  {
   "cell_type": "code",
   "execution_count": 25,
   "metadata": {},
   "outputs": [
    {
     "name": "stderr",
     "output_type": "stream",
     "text": [
      "237it [00:00, 1304.10it/s]\n"
     ]
    }
   ],
   "source": [
    "spacy_val = InputSample.create_spacy_dataset(n2c2_val)\n",
    "spacy_val_json = InputSample.create_spacy_json(n2c2_val)"
   ]
  },
  {
   "cell_type": "markdown",
   "metadata": {},
   "source": [
    "Dump test set to pickle and json respectively"
   ]
  },
  {
   "cell_type": "code",
   "execution_count": 26,
   "metadata": {},
   "outputs": [],
   "source": [
    "import pickle\n",
    "with open(\"../../data/n2c2/set_2_spacy.pickle\", 'wb') as handle:\n",
    "    pickle.dump(spacy_val,handle, protocol=pickle.HIGHEST_PROTOCOL)\n",
    "    \n",
    "with open(\"../../data/n2c2/set_2_spacy.json\",\"w\") as f:\n",
    "    json.dump(spacy_val_json,f)\n",
    "       "
   ]
  },
  {
   "cell_type": "code",
   "execution_count": null,
   "metadata": {},
   "outputs": [],
   "source": []
  }
 ],
 "metadata": {
  "kernelspec": {
   "display_name": "Python 3",
   "language": "python",
   "name": "python3"
  },
  "language_info": {
   "codemirror_mode": {
    "name": "ipython",
    "version": 3
   },
   "file_extension": ".py",
   "mimetype": "text/x-python",
   "name": "python",
   "nbconvert_exporter": "python",
   "pygments_lexer": "ipython3",
   "version": "3.7.9"
  },
  "pycharm": {
   "stem_cell": {
    "cell_type": "raw",
    "metadata": {
     "collapsed": false
    },
    "source": []
   }
  }
 },
 "nbformat": 4,
 "nbformat_minor": 4
}
