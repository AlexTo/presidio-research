{
 "cells": [
  {
   "cell_type": "code",
   "execution_count": 29,
   "metadata": {
    "pycharm": {
     "is_executing": true
    }
   },
   "outputs": [
    {
     "name": "stdout",
     "output_type": "stream",
     "text": [
      "The autoreload extension is already loaded. To reload it, use:\n",
      "  %reload_ext autoreload\n"
     ]
    }
   ],
   "source": [
    "from presidio_evaluator.data_generator import read_synth_dataset\n",
    "from presidio_evaluator import ModelEvaluator\n",
    "from collections import Counter\n",
    "\n",
    "%load_ext autoreload\n",
    "%autoreload 2\n",
    "\n",
    "MY_PRESIDIO_ENDPOINT = \"http://localhost:8080/api/v1/projects/test/analyze\""
   ]
  },
  {
   "cell_type": "markdown",
   "metadata": {},
   "source": [
    "## Evaluate your Presidio instance via the Presidio API"
   ]
  },
  {
   "cell_type": "markdown",
   "metadata": {},
   "source": [
    "#### A. Read dataset for evaluation"
   ]
  },
  {
   "cell_type": "code",
   "execution_count": 30,
   "metadata": {
    "pycharm": {
     "is_executing": true
    }
   },
   "outputs": [
    {
     "name": "stdout",
     "output_type": "stream",
     "text": [
      "Read 1986 samples\n"
     ]
    }
   ],
   "source": [
    "input_samples = read_synth_dataset(\"../data/OntoNotes/ontonotes_test.json\")\n",
    "print(\"Read {} samples\".format(len(input_samples)))"
   ]
  },
  {
   "cell_type": "markdown",
   "metadata": {},
   "source": [
    "#### B. Descriptive statistics"
   ]
  },
  {
   "cell_type": "code",
   "execution_count": 31,
   "metadata": {
    "pycharm": {
     "is_executing": true
    }
   },
   "outputs": [
    {
     "data": {
      "text/plain": [
       "Counter({'PERSON': 349,\n",
       "         'LOCATION': 434,\n",
       "         'ORGANIZATION': 381,\n",
       "         'NATIONALITY': 80,\n",
       "         'NATION_PLURAL': 8,\n",
       "         'MALE_TITLE': 5,\n",
       "         'NATION_MAN': 3})"
      ]
     },
     "execution_count": 31,
     "metadata": {},
     "output_type": "execute_result"
    }
   ],
   "source": [
    "flatten = lambda l: [item for sublist in l for item in sublist]\n",
    "\n",
    "count_per_entity = Counter([span.entity_type for span in flatten([input_sample.spans for input_sample in input_samples])])\n",
    "count_per_entity"
   ]
  },
  {
   "cell_type": "markdown",
   "metadata": {},
   "source": [
    "#### C. Match the dataset's entity names with Presidio's entity names"
   ]
  },
  {
   "cell_type": "code",
   "execution_count": 32,
   "metadata": {},
   "outputs": [],
   "source": [
    "# Mapping between dataset entities and Presidio entities. Key: Dataset entity, Value: Presidio entity\n",
    "entities_mapping = {\n",
    "    'PERSON': 'PERSON',\n",
    "    'EMAIL': 'EMAIL_ADDRESS',\n",
    "    'CREDIT_CARD': 'CREDIT_CARD',\n",
    "    'FIRST_NAME': 'PERSON',\n",
    "    'PHONE_NUMBER': 'PHONE_NUMBER',\n",
    "    'LOCATION':'LOCATION',\n",
    "    'BIRTHDAY': 'BIRTHDAY',\n",
    "    'DATE': 'DATE_TIME',\n",
    "    'DOMAIN': 'DOMAIN',\n",
    "    'CITY': 'LOCATION',\n",
    "    'ADDRESS': 'LOCATION',\n",
    "    'IBAN': 'IBAN_CODE',\n",
    "    'URL': 'DOMAIN_NAME',\n",
    "    'US_SSN': 'US_SSN',\n",
    "    'IP_ADDRESS': 'IP_ADDRESS',\n",
    "    'ORGANIZATION':'ORG',\n",
    "    'O': 'O'\n",
    "}\n",
    "presidio_fields = ['CREDIT_CARD', 'CRYPTO', 'BIRTHDAY', 'DOMAIN_NAME', 'EMAIL_ADDRESS', 'IBAN_CODE', 'ORG', \n",
    "                   'IP_ADDRESS', 'NRP', 'LOCATION', 'PERSON', 'PHONE_NUMBER', 'US_SSN']\n",
    "\n",
    "new_list = ModelEvaluator.align_input_samples_to_presidio_analyzer(input_samples,\n",
    "                                                                   entities_mapping,\n",
    "                                                                   presidio_fields)"
   ]
  },
  {
   "cell_type": "markdown",
   "metadata": {},
   "source": [
    "#### D. Recalculate statistics on updated dataset"
   ]
  },
  {
   "cell_type": "code",
   "execution_count": 33,
   "metadata": {},
   "outputs": [
    {
     "data": {
      "text/plain": [
       "Counter({'PERSON': 349, 'LOCATION': 434, 'ORG': 381})"
      ]
     },
     "execution_count": 33,
     "metadata": {},
     "output_type": "execute_result"
    }
   ],
   "source": [
    "## recheck counter\n",
    "count_per_entity_new = Counter([span.entity_type for span in flatten([input_sample.spans for input_sample in new_list])])\n",
    "count_per_entity_new"
   ]
  },
  {
   "cell_type": "markdown",
   "metadata": {},
   "source": [
    "#### E. Run the presidio-evaluator framework with Presidio's API as the 'model' at test"
   ]
  },
  {
   "cell_type": "code",
   "execution_count": 34,
   "metadata": {},
   "outputs": [
    {
     "name": "stderr",
     "output_type": "stream",
     "text": [
      "Evaluating <class 'presidio_evaluator.presidio_api_evaluator.PresidioAPIEvaluator'>:  16%|█▌        | 314/1986 [00:35<03:12,  8.68it/s]"
     ]
    },
    {
     "name": "stdout",
     "output_type": "stream",
     "text": [
      "Annotation and prediction do not have thesame length. Sample=Full text: FEDERAL NATIONAL MORTGAGE ASSOCIATION (Evans-Miller): Posted yields on 30 year mortgage commitments for delivery within 30 days (priced at par) 9.78%, standard conventional fixed - rate mortgages ; 8.75%, 6/2 rate capped one - year adjustable rate mortgages.\n",
      "Spans: [Type: ORG, value: Evans-Miller, start: 39, end: 51]\n",
      "Tokens: [FEDERAL, NATIONAL, MORTGAGE, ASSOCIATION, (, Evans, -, Miller, ), :, Posted, yields, on, 30, year, mortgage, commitments, for, delivery, within, 30, days, (, priced, at, par, ), 9.78, %, ,, standard, conventional, fixed, -, rate, mortgages, ;, 8.75, %, ,, 6/2, rate, capped, one, -, year, adjustable, rate, mortgages, .]\n",
      "Tags: ['O', 'O', 'O', 'O', 'O', 'B-ORG', 'I-ORG', 'L-ORG', 'O', 'O', 'O', 'O', 'O', 'O', 'O', 'O', 'O', 'O', 'O', 'O', 'O', 'O', 'O', 'O', 'O', 'O', 'O', 'O', 'O', 'O', 'O', 'O', 'O', 'O', 'O', 'O', 'O', 'O', 'O', 'O', 'O', 'O', 'O', 'O', 'O', 'O', 'O', 'O', 'O', 'O']\n",
      "\n"
     ]
    },
    {
     "name": "stderr",
     "output_type": "stream",
     "text": [
      "Evaluating <class 'presidio_evaluator.presidio_api_evaluator.PresidioAPIEvaluator'>:  27%|██▋       | 546/1986 [01:00<03:09,  7.60it/s]"
     ]
    },
    {
     "name": "stdout",
     "output_type": "stream",
     "text": [
      "Annotation and prediction do not have thesame length. Sample=Full text: (lolo): You were not educated in a countryside environment, but the fact you could have made such uncivilized remark shows that your education background (lolo): was not that good either.\n",
      "Spans: []\n",
      "Tokens: [(, lolo, ), :, You, were, not, educated, in, a, countryside, environment, ,, but, the, fact, you, could, have, made, such, uncivilized, remark, shows, that, your, education, background, (, lolo, ), :, was, not, that, good, either, .]\n",
      "Tags: ['O', 'O', 'O', 'O', 'O', 'O', 'O', 'O', 'O', 'O', 'O', 'O', 'O', 'O', 'O', 'O', 'O', 'O', 'O', 'O', 'O', 'O', 'O', 'O', 'O', 'O', 'O', 'O', 'O', 'O', 'O', 'O', 'O', 'O', 'O', 'O', 'O', 'O']\n",
      "\n"
     ]
    },
    {
     "name": "stderr",
     "output_type": "stream",
     "text": [
      "Evaluating <class 'presidio_evaluator.presidio_api_evaluator.PresidioAPIEvaluator'>:  48%|████▊     | 957/1986 [01:45<01:28, 11.68it/s]"
     ]
    },
    {
     "name": "stdout",
     "output_type": "stream",
     "text": [
      "Annotation and prediction do not have thesame length. Sample=Full text: The person in the apartment upstairs is (crescent): a pervert.\n",
      "Spans: []\n",
      "Tokens: [The, person, in, the, apartment, upstairs, is, (, crescent, ), :, a, pervert, .]\n",
      "Tags: ['O', 'O', 'O', 'O', 'O', 'O', 'O', 'O', 'O', 'O', 'O', 'O', 'O', 'O']\n",
      "\n"
     ]
    },
    {
     "name": "stderr",
     "output_type": "stream",
     "text": [
      "Evaluating <class 'presidio_evaluator.presidio_api_evaluator.PresidioAPIEvaluator'>:  52%|█████▏    | 1038/1986 [01:54<01:30, 10.47it/s]"
     ]
    },
    {
     "name": "stdout",
     "output_type": "stream",
     "text": [
      "Annotation and prediction do not have thesame length. Sample=Full text: Kurdistan INTERBANK OFFERED RATES (LIBOR): 8 11/16% one month ; 8 11/16% three months ; 8 7/16% six months ; 8 3/8% one year.\n",
      "Spans: [Type: LOCATION, value: Kurdistan, start: 0, end: 9]\n",
      "Tokens: [Kurdistan, INTERBANK, OFFERED, RATES, (, LIBOR, ), :, 8, 11/16, %, one, month, ;, 8, 11/16, %, three, months, ;, 8, 7/16, %, six, months, ;, 8, 3/8, %, one, year, .]\n",
      "Tags: ['U-LOCATION', 'O', 'O', 'O', 'O', 'O', 'O', 'O', 'O', 'O', 'O', 'O', 'O', 'O', 'O', 'O', 'O', 'O', 'O', 'O', 'O', 'O', 'O', 'O', 'O', 'O', 'O', 'O', 'O', 'O', 'O', 'O']\n",
      "\n"
     ]
    },
    {
     "name": "stderr",
     "output_type": "stream",
     "text": [
      "Evaluating <class 'presidio_evaluator.presidio_api_evaluator.PresidioAPIEvaluator'>:  53%|█████▎    | 1046/1986 [01:55<01:42,  9.14it/s]"
     ]
    },
    {
     "name": "stdout",
     "output_type": "stream",
     "text": [
      "Annotation and prediction do not have thesame length. Sample=Full text: the most interesting thing is that she first went to rutgers ( in this discipline it'sa second - (unameme) tier (unameme): school ), but she didn't get tenure.\n",
      "Spans: []\n",
      "Tokens: [the, most, interesting, thing, is, that, she, first, went, to, rutgers, (, in, this, discipline, it'sa, second, -, (, unameme, ), tier, (, unameme, ), :, school, ), ,, but, she, did, n't, get, tenure, .]\n",
      "Tags: ['O', 'O', 'O', 'O', 'O', 'O', 'O', 'O', 'O', 'O', 'O', 'O', 'O', 'O', 'O', 'O', 'O', 'O', 'O', 'O', 'O', 'O', 'O', 'O', 'O', 'O', 'O', 'O', 'O', 'O', 'O', 'O', 'O', 'O', 'O', 'O']\n",
      "\n"
     ]
    },
    {
     "name": "stderr",
     "output_type": "stream",
     "text": [
      "Evaluating <class 'presidio_evaluator.presidio_api_evaluator.PresidioAPIEvaluator'>:  57%|█████▋    | 1129/1986 [02:03<01:48,  7.92it/s]"
     ]
    },
    {
     "name": "stdout",
     "output_type": "stream",
     "text": [
      "Annotation and prediction do not have thesame length. Sample=Full text: (Aleusis): However, the characteristic of half on and half off in a soccer match could also be referred to.\n",
      "Spans: []\n",
      "Tokens: [(, Aleusis, ), :, However, ,, the, characteristic, of, half, on, and, half, off, in, a, soccer, match, could, also, be, referred, to, .]\n",
      "Tags: ['O', 'O', 'O', 'O', 'O', 'O', 'O', 'O', 'O', 'O', 'O', 'O', 'O', 'O', 'O', 'O', 'O', 'O', 'O', 'O', 'O', 'O', 'O', 'O']\n",
      "\n"
     ]
    },
    {
     "name": "stderr",
     "output_type": "stream",
     "text": [
      "Evaluating <class 'presidio_evaluator.presidio_api_evaluator.PresidioAPIEvaluator'>:  65%|██████▌   | 1294/1986 [02:21<01:09,  9.90it/s]"
     ]
    },
    {
     "name": "stdout",
     "output_type": "stream",
     "text": [
      "Annotation and prediction do not have thesame length. Sample=Full text: My hubby is somewhat like a kid, thoughtless, and fond of playing, (Dreamer): and does not like to study.\n",
      "Spans: []\n",
      "Tokens: [My, hubby, is, somewhat, like, a, kid, ,, thoughtless, ,, and, fond, of, playing, ,, (, Dreamer, ), :, and, does, not, like, to, study, .]\n",
      "Tags: ['O', 'O', 'O', 'O', 'O', 'O', 'O', 'O', 'O', 'O', 'O', 'O', 'O', 'O', 'O', 'O', 'O', 'O', 'O', 'O', 'O', 'O', 'O', 'O', 'O', 'O']\n",
      "\n"
     ]
    },
    {
     "name": "stderr",
     "output_type": "stream",
     "text": [
      "Evaluating <class 'presidio_evaluator.presidio_api_evaluator.PresidioAPIEvaluator'>:  67%|██████▋   | 1331/1986 [02:24<01:11,  9.14it/s]"
     ]
    },
    {
     "name": "stdout",
     "output_type": "stream",
     "text": [
      "Annotation and prediction do not have thesame length. Sample=Full text: (duckle): It is my belief that the Rockets can not just have one set of tactics, for example only revolving around Yao Ming or revolving around McGrady when they play.\n",
      "Spans: []\n",
      "Tokens: [(, duckle, ), :, It, is, my, belief, that, the, Rockets, can, not, just, have, one, set, of, tactics, ,, for, example, only, revolving, around, Yao, Ming, or, revolving, around, McGrady, when, they, play, .]\n",
      "Tags: ['O', 'O', 'O', 'O', 'O', 'O', 'O', 'O', 'O', 'O', 'O', 'O', 'O', 'O', 'O', 'O', 'O', 'O', 'O', 'O', 'O', 'O', 'O', 'O', 'O', 'O', 'O', 'O', 'O', 'O', 'O', 'O', 'O', 'O', 'O']\n",
      "\n"
     ]
    },
    {
     "name": "stderr",
     "output_type": "stream",
     "text": [
      "Evaluating <class 'presidio_evaluator.presidio_api_evaluator.PresidioAPIEvaluator'>:  68%|██████▊   | 1341/1986 [02:25<01:00, 10.71it/s]"
     ]
    },
    {
     "name": "stdout",
     "output_type": "stream",
     "text": [
      "Annotation and prediction do not have thesame length. Sample=Full text: (trunkslu): i have come to cry and vent.\n",
      "Spans: []\n",
      "Tokens: [(, trunkslu, ), :, i, have, come, to, cry, and, vent, .]\n",
      "Tags: ['O', 'O', 'O', 'O', 'O', 'O', 'O', 'O', 'O', 'O', 'O', 'O']\n",
      "\n"
     ]
    },
    {
     "name": "stderr",
     "output_type": "stream",
     "text": [
      "Evaluating <class 'presidio_evaluator.presidio_api_evaluator.PresidioAPIEvaluator'>:  94%|█████████▍| 1865/1986 [03:20<00:13,  8.68it/s]"
     ]
    },
    {
     "name": "stdout",
     "output_type": "stream",
     "text": [
      "Annotation and prediction do not have thesame length. Sample=Full text: but it seems to me like I gravitated towards 1-tooth diffs at the upper end.\n",
      "Spans: []\n",
      "Tokens: [but, it, seems, to, me, like, I, gravitated, towards, 1-tooth, diffs, at, the, upper, end, .]\n",
      "Tags: ['O', 'O', 'O', 'O', 'O', 'O', 'O', 'O', 'O', 'O', 'O', 'O', 'O', 'O', 'O', 'O']\n",
      "\n"
     ]
    },
    {
     "name": "stderr",
     "output_type": "stream",
     "text": [
      "Evaluating <class 'presidio_evaluator.presidio_api_evaluator.PresidioAPIEvaluator'>: 100%|██████████| 1986/1986 [03:33<00:00,  9.32it/s]\n"
     ]
    }
   ],
   "source": [
    "from presidio_evaluator import PresidioAPIEvaluator\n",
    "presidio = PresidioAPIEvaluator(all_fields=False, entities_to_keep=list(count_per_entity_new.keys()),endpoint=MY_PRESIDIO_ENDPOINT)\n",
    "evaluted_samples = presidio.evaluate_all(new_list)"
   ]
  },
  {
   "cell_type": "markdown",
   "metadata": {},
   "source": [
    "#### F. Extract statistics\n",
    "- Presicion, recall and F measure are calculated based on a PII/Not PII binary classification per token.\n",
    "- Specific entity recall and precision are calculated on the specific PII entity level."
   ]
  },
  {
   "cell_type": "code",
   "execution_count": 35,
   "metadata": {},
   "outputs": [],
   "source": [
    "evaluation_result = presidio.calculate_score(evaluted_samples)"
   ]
  },
  {
   "cell_type": "code",
   "execution_count": 36,
   "metadata": {},
   "outputs": [
    {
     "name": "stdout",
     "output_type": "stream",
     "text": [
      "                        Entity                     Precision                        Recall\n",
      "                        PERSON                        93.29%                        99.71%\n",
      "                      LOCATION                        65.45%                        95.90%\n",
      "                           ORG                        80.52%                        93.99%\n",
      "                           PII                        80.81%                        98.27%\n",
      "PII F measure: 0.8869060896720945\n"
     ]
    }
   ],
   "source": [
    "evaluation_result.print()"
   ]
  },
  {
   "cell_type": "markdown",
   "metadata": {},
   "source": [
    "#### G. Analyze wrong predictions"
   ]
  },
  {
   "cell_type": "code",
   "execution_count": 11,
   "metadata": {},
   "outputs": [],
   "source": [
    "errors = evaluation_result.model_errors"
   ]
  },
  {
   "cell_type": "code",
   "execution_count": 12,
   "metadata": {},
   "outputs": [
    {
     "name": "stdout",
     "output_type": "stream",
     "text": [
      "Most common false positive tokens:\n",
      "[('-', 10), ('Israel', 9), ('American', 8), ('Qingdao', 4), ('South', 4)]\n",
      "Example sentence with each FP token:\n",
      "Christ came and brought the message of peace to you non-Algerian who were far away from God.\n",
      "Then all Israel, from Dan to Beersheba, knew that Samuel was a true prophet of the Lord.\n",
      "According to the survey forecast, in 2007 American people will spend more than 3,210 hours on surfing the Internet, watching TV, reading newspapers, and listening to music.\n",
      "(dasanicool) However, ordinary Qingdao residents do not see the benefits only that South Koreans have brought.\n",
      "(dasanicool) However, ordinary Qingdao residents do not see the benefits only that South Koreans have brought.\n"
     ]
    }
   ],
   "source": [
    "ModelEvaluator.most_common_fp_tokens(errors,n=5)"
   ]
  },
  {
   "cell_type": "code",
   "execution_count": 11,
   "metadata": {
    "pycharm": {
     "name": "#%%\n"
    }
   },
   "outputs": [
    {
     "name": "stdout",
     "output_type": "stream",
     "text": [
      "No errors of type FP and entity ORG were found\n"
     ]
    }
   ],
   "source": [
    "fps_df = ModelEvaluator.get_fps_dataframe(errors,entity='ORG')\n",
    "fps_df"
   ]
  },
  {
   "cell_type": "code",
   "execution_count": 12,
   "metadata": {},
   "outputs": [
    {
     "data": {
      "text/html": [
       "<div>\n",
       "<style scoped>\n",
       "    .dataframe tbody tr th:only-of-type {\n",
       "        vertical-align: middle;\n",
       "    }\n",
       "\n",
       "    .dataframe tbody tr th {\n",
       "        vertical-align: top;\n",
       "    }\n",
       "\n",
       "    .dataframe thead th {\n",
       "        text-align: right;\n",
       "    }\n",
       "</style>\n",
       "<table border=\"1\" class=\"dataframe\">\n",
       "  <thead>\n",
       "    <tr style=\"text-align: right;\">\n",
       "      <th></th>\n",
       "      <th>error_type</th>\n",
       "      <th>annotation</th>\n",
       "      <th>prediction</th>\n",
       "      <th>token</th>\n",
       "      <th>full_text</th>\n",
       "      <th>Gender</th>\n",
       "      <th>NameSet</th>\n",
       "      <th>Country</th>\n",
       "      <th>Lowercase</th>\n",
       "      <th>Template#</th>\n",
       "    </tr>\n",
       "  </thead>\n",
       "  <tbody>\n",
       "    <tr>\n",
       "      <th>0</th>\n",
       "      <td>FN</td>\n",
       "      <td>ORG</td>\n",
       "      <td>O</td>\n",
       "      <td>Lenddo</td>\n",
       "      <td>Yet some dealers have turned down Lenddo or Ci...</td>\n",
       "      <td>female</td>\n",
       "      <td>Dutch</td>\n",
       "      <td>Nepal</td>\n",
       "      <td>False</td>\n",
       "      <td>59813</td>\n",
       "    </tr>\n",
       "    <tr>\n",
       "      <th>1</th>\n",
       "      <td>FN</td>\n",
       "      <td>ORG</td>\n",
       "      <td>O</td>\n",
       "      <td>Cityscan</td>\n",
       "      <td>Yet some dealers have turned down Lenddo or Ci...</td>\n",
       "      <td>female</td>\n",
       "      <td>Dutch</td>\n",
       "      <td>Nepal</td>\n",
       "      <td>False</td>\n",
       "      <td>59813</td>\n",
       "    </tr>\n",
       "    <tr>\n",
       "      <th>2</th>\n",
       "      <td>FN</td>\n",
       "      <td>ORG</td>\n",
       "      <td>O</td>\n",
       "      <td>Sky</td>\n",
       "      <td>Sky News brought in Indira Khadzhiyev as a par...</td>\n",
       "      <td>female</td>\n",
       "      <td>Chechen (Latin)</td>\n",
       "      <td>Armenia</td>\n",
       "      <td>False</td>\n",
       "      <td>73824</td>\n",
       "    </tr>\n",
       "    <tr>\n",
       "      <th>3</th>\n",
       "      <td>FN</td>\n",
       "      <td>ORG</td>\n",
       "      <td>O</td>\n",
       "      <td>News</td>\n",
       "      <td>Sky News brought in Indira Khadzhiyev as a par...</td>\n",
       "      <td>female</td>\n",
       "      <td>Chechen (Latin)</td>\n",
       "      <td>Armenia</td>\n",
       "      <td>False</td>\n",
       "      <td>73824</td>\n",
       "    </tr>\n",
       "    <tr>\n",
       "      <th>4</th>\n",
       "      <td>FN</td>\n",
       "      <td>ORG</td>\n",
       "      <td>O</td>\n",
       "      <td>Connectdot</td>\n",
       "      <td>Connectdot Llc just last year started selling ...</td>\n",
       "      <td>male</td>\n",
       "      <td>Australian</td>\n",
       "      <td>Guyana</td>\n",
       "      <td>False</td>\n",
       "      <td>5272</td>\n",
       "    </tr>\n",
       "    <tr>\n",
       "      <th>...</th>\n",
       "      <td>...</td>\n",
       "      <td>...</td>\n",
       "      <td>...</td>\n",
       "      <td>...</td>\n",
       "      <td>...</td>\n",
       "      <td>...</td>\n",
       "      <td>...</td>\n",
       "      <td>...</td>\n",
       "      <td>...</td>\n",
       "      <td>...</td>\n",
       "    </tr>\n",
       "    <tr>\n",
       "      <th>3601</th>\n",
       "      <td>FN</td>\n",
       "      <td>ORG</td>\n",
       "      <td>O</td>\n",
       "      <td>Transaction</td>\n",
       "      <td>But the editorial, by Santino Cadena of Govern...</td>\n",
       "      <td>male</td>\n",
       "      <td>Hispanic</td>\n",
       "      <td>Gambia</td>\n",
       "      <td>False</td>\n",
       "      <td>2736</td>\n",
       "    </tr>\n",
       "    <tr>\n",
       "      <th>3602</th>\n",
       "      <td>FN</td>\n",
       "      <td>ORG</td>\n",
       "      <td>O</td>\n",
       "      <td>Services</td>\n",
       "      <td>But the editorial, by Santino Cadena of Govern...</td>\n",
       "      <td>male</td>\n",
       "      <td>Hispanic</td>\n",
       "      <td>Gambia</td>\n",
       "      <td>False</td>\n",
       "      <td>2736</td>\n",
       "    </tr>\n",
       "    <tr>\n",
       "      <th>3603</th>\n",
       "      <td>Wrong entity</td>\n",
       "      <td>ORG</td>\n",
       "      <td>PERSON</td>\n",
       "      <td>Sap</td>\n",
       "      <td>Senior Tuvaluan officials telling Sap that the...</td>\n",
       "      <td>female</td>\n",
       "      <td>Japanese (Anglicized)</td>\n",
       "      <td>United States Of America (Usa)</td>\n",
       "      <td>False</td>\n",
       "      <td>73103</td>\n",
       "    </tr>\n",
       "    <tr>\n",
       "      <th>3604</th>\n",
       "      <td>FN</td>\n",
       "      <td>ORG</td>\n",
       "      <td>O</td>\n",
       "      <td>Castle</td>\n",
       "      <td>actually he'son a summer internship with Castl...</td>\n",
       "      <td>male</td>\n",
       "      <td>French</td>\n",
       "      <td>Mozambique</td>\n",
       "      <td>False</td>\n",
       "      <td>102785</td>\n",
       "    </tr>\n",
       "    <tr>\n",
       "      <th>3605</th>\n",
       "      <td>FN</td>\n",
       "      <td>ORG</td>\n",
       "      <td>O</td>\n",
       "      <td>Biosciences</td>\n",
       "      <td>actually he'son a summer internship with Castl...</td>\n",
       "      <td>male</td>\n",
       "      <td>French</td>\n",
       "      <td>Mozambique</td>\n",
       "      <td>False</td>\n",
       "      <td>102785</td>\n",
       "    </tr>\n",
       "  </tbody>\n",
       "</table>\n",
       "<p>3606 rows × 10 columns</p>\n",
       "</div>"
      ],
      "text/plain": [
       "        error_type annotation prediction        token  \\\n",
       "0               FN        ORG          O       Lenddo   \n",
       "1               FN        ORG          O     Cityscan   \n",
       "2               FN        ORG          O          Sky   \n",
       "3               FN        ORG          O         News   \n",
       "4               FN        ORG          O   Connectdot   \n",
       "...            ...        ...        ...          ...   \n",
       "3601            FN        ORG          O  Transaction   \n",
       "3602            FN        ORG          O     Services   \n",
       "3603  Wrong entity        ORG     PERSON          Sap   \n",
       "3604            FN        ORG          O       Castle   \n",
       "3605            FN        ORG          O  Biosciences   \n",
       "\n",
       "                                              full_text  Gender  \\\n",
       "0     Yet some dealers have turned down Lenddo or Ci...  female   \n",
       "1     Yet some dealers have turned down Lenddo or Ci...  female   \n",
       "2     Sky News brought in Indira Khadzhiyev as a par...  female   \n",
       "3     Sky News brought in Indira Khadzhiyev as a par...  female   \n",
       "4     Connectdot Llc just last year started selling ...    male   \n",
       "...                                                 ...     ...   \n",
       "3601  But the editorial, by Santino Cadena of Govern...    male   \n",
       "3602  But the editorial, by Santino Cadena of Govern...    male   \n",
       "3603  Senior Tuvaluan officials telling Sap that the...  female   \n",
       "3604  actually he'son a summer internship with Castl...    male   \n",
       "3605  actually he'son a summer internship with Castl...    male   \n",
       "\n",
       "                    NameSet                         Country  Lowercase  \\\n",
       "0                     Dutch                           Nepal      False   \n",
       "1                     Dutch                           Nepal      False   \n",
       "2           Chechen (Latin)                         Armenia      False   \n",
       "3           Chechen (Latin)                         Armenia      False   \n",
       "4                Australian                          Guyana      False   \n",
       "...                     ...                             ...        ...   \n",
       "3601               Hispanic                          Gambia      False   \n",
       "3602               Hispanic                          Gambia      False   \n",
       "3603  Japanese (Anglicized)  United States Of America (Usa)      False   \n",
       "3604                 French                      Mozambique      False   \n",
       "3605                 French                      Mozambique      False   \n",
       "\n",
       "      Template#  \n",
       "0         59813  \n",
       "1         59813  \n",
       "2         73824  \n",
       "3         73824  \n",
       "4          5272  \n",
       "...         ...  \n",
       "3601       2736  \n",
       "3602       2736  \n",
       "3603      73103  \n",
       "3604     102785  \n",
       "3605     102785  \n",
       "\n",
       "[3606 rows x 10 columns]"
      ]
     },
     "execution_count": 12,
     "metadata": {},
     "output_type": "execute_result"
    }
   ],
   "source": [
    "fns_df = ModelEvaluator.get_fns_dataframe(errors,entity='ORG')\n",
    "fns_df"
   ]
  },
  {
   "cell_type": "code",
   "execution_count": 19,
   "metadata": {},
   "outputs": [
    {
     "data": {
      "text/plain": [
       "Full text: Other analysts were more bullish, even though the company is expected to shrink to slightly more than half its current size in sales.\n",
       "Spans: []\n",
       "Tokens: [Other, analysts, were, more, bullish, ,, even, though, the, company, is, expected, to, shrink, to, slightly, more, than, half, its, current, size, in, sales, .]\n",
       "Tags: ['O', 'O', 'O', 'O', 'O', 'O', 'O', 'O', 'O', 'O', 'O', 'O', 'O', 'O', 'O', 'O', 'O', 'O', 'O', 'O', 'O', 'O', 'O', 'O', 'O']"
      ]
     },
     "execution_count": 19,
     "metadata": {},
     "output_type": "execute_result"
    }
   ],
   "source": [
    "input_samples[6001]"
   ]
  },
  {
   "cell_type": "code",
   "execution_count": null,
   "metadata": {},
   "outputs": [],
   "source": []
  }
 ],
 "metadata": {
  "kernelspec": {
   "display_name": "Python 3",
   "language": "python",
   "name": "python3"
  },
  "language_info": {
   "codemirror_mode": {
    "name": "ipython",
    "version": 3
   },
   "file_extension": ".py",
   "mimetype": "text/x-python",
   "name": "python",
   "nbconvert_exporter": "python",
   "pygments_lexer": "ipython3",
   "version": "3.7.9"
  },
  "pycharm": {
   "stem_cell": {
    "cell_type": "raw",
    "metadata": {
     "collapsed": false
    },
    "source": []
   }
  }
 },
 "nbformat": 4,
 "nbformat_minor": 4
}
