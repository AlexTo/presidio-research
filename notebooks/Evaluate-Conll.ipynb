{
 "cells": [
  {
   "cell_type": "code",
   "execution_count": 1,
   "metadata": {
    "pycharm": {
     "is_executing": true
    }
   },
   "outputs": [],
   "source": [
    "from presidio_evaluator.data_generator import read_synth_dataset\n",
    "from presidio_evaluator import ModelEvaluator\n",
    "from collections import Counter\n",
    "\n",
    "%load_ext autoreload\n",
    "%autoreload 2\n",
    "\n",
    "MY_PRESIDIO_ENDPOINT = \"http://localhost:8080/api/v1/projects/test/analyze\""
   ]
  },
  {
   "cell_type": "markdown",
   "metadata": {},
   "source": [
    "## Evaluate your Presidio instance via the Presidio API"
   ]
  },
  {
   "cell_type": "markdown",
   "metadata": {},
   "source": [
    "#### A. Read dataset for evaluation"
   ]
  },
  {
   "cell_type": "code",
   "execution_count": 2,
   "metadata": {
    "pycharm": {
     "is_executing": true
    }
   },
   "outputs": [
    {
     "name": "stdout",
     "output_type": "stream",
     "text": [
      "Read 2003 samples\n"
     ]
    }
   ],
   "source": [
    "input_samples = read_synth_dataset(\"../data/CoNLL/conll_test.json\")\n",
    "print(\"Read {} samples\".format(len(input_samples)))"
   ]
  },
  {
   "cell_type": "markdown",
   "metadata": {},
   "source": [
    "#### B. Descriptive statistics"
   ]
  },
  {
   "cell_type": "code",
   "execution_count": 3,
   "metadata": {
    "pycharm": {
     "is_executing": true
    }
   },
   "outputs": [
    {
     "data": {
      "text/plain": [
       "Counter({'ORGANIZATION': 721,\n",
       "         'PERSON': 886,\n",
       "         'NATIONALITY': 318,\n",
       "         'LOCATION': 951,\n",
       "         'NATION_MAN': 18,\n",
       "         'FEMALE_TITLE': 3,\n",
       "         'NATION_PLURAL': 30,\n",
       "         'MALE_TITLE': 3})"
      ]
     },
     "execution_count": 3,
     "metadata": {},
     "output_type": "execute_result"
    }
   ],
   "source": [
    "flatten = lambda l: [item for sublist in l for item in sublist]\n",
    "\n",
    "count_per_entity = Counter([span.entity_type for span in flatten([input_sample.spans for input_sample in input_samples])])\n",
    "count_per_entity"
   ]
  },
  {
   "cell_type": "markdown",
   "metadata": {},
   "source": [
    "#### C. Match the dataset's entity names with Presidio's entity names"
   ]
  },
  {
   "cell_type": "code",
   "execution_count": 4,
   "metadata": {},
   "outputs": [],
   "source": [
    "# Mapping between dataset entities and Presidio entities. Key: Dataset entity, Value: Presidio entity\n",
    "entities_mapping = {\n",
    "    'ORGANIZATION':'ORG',\n",
    "    'PERSON': 'PERSON',\n",
    "    'LOCATION':'LOCATION',\n",
    "    'O': 'O'\n",
    "}\n",
    "\n",
    "new_list = ModelEvaluator.align_input_samples_to_presidio_analyzer(input_samples,\n",
    "                                                                   entities_mapping)"
   ]
  },
  {
   "cell_type": "markdown",
   "metadata": {},
   "source": [
    "#### D. Recalculate statistics on updated dataset"
   ]
  },
  {
   "cell_type": "code",
   "execution_count": 5,
   "metadata": {},
   "outputs": [
    {
     "data": {
      "text/plain": [
       "Counter({'ORG': 721, 'PERSON': 886, 'LOCATION': 951})"
      ]
     },
     "execution_count": 5,
     "metadata": {},
     "output_type": "execute_result"
    }
   ],
   "source": [
    "## recheck counter\n",
    "count_per_entity_new = Counter([span.entity_type for span in flatten([input_sample.spans for input_sample in new_list])])\n",
    "count_per_entity_new"
   ]
  },
  {
   "cell_type": "markdown",
   "metadata": {},
   "source": [
    "#### E. Run the presidio-evaluator framework with Presidio's API as the 'model' at test"
   ]
  },
  {
   "cell_type": "code",
   "execution_count": 6,
   "metadata": {},
   "outputs": [
    {
     "name": "stderr",
     "output_type": "stream",
     "text": [
      "Evaluating <class 'presidio_evaluator.presidio_api_evaluator.PresidioAPIEvaluator'>:   0%|          | 0/2003 [00:00<?, ?it/s]"
     ]
    },
    {
     "name": "stdout",
     "output_type": "stream",
     "text": [
      "loading model en_core_web_trf\n"
     ]
    },
    {
     "name": "stderr",
     "output_type": "stream",
     "text": [
      "Evaluating <class 'presidio_evaluator.presidio_api_evaluator.PresidioAPIEvaluator'>:   3%|▎         | 69/2003 [00:17<05:23,  5.97it/s] "
     ]
    },
    {
     "name": "stdout",
     "output_type": "stream",
     "text": [
      "Annotation and prediction do not have thesame length. Sample=Full text: A rampaging elephant dragged a sleeping 72-year-old woman from her bed and trampled her to death in the third such killing in two months, Croatia police said on Thursday.\n",
      "Spans: [Type: LOCATION, value: Croatia, start: 138, end: 145]\n",
      "Tokens: [A, rampaging, elephant, dragged, a, sleeping, 72-year, -, old, woman, from, her, bed, and, trampled, her, to, death, in, the, third, such, killing, in, two, months, ,, Croatia, police, said, on, Thursday, .]\n",
      "Tags: ['O', 'O', 'O', 'O', 'O', 'O', 'O', 'O', 'O', 'O', 'O', 'O', 'O', 'O', 'O', 'O', 'O', 'O', 'O', 'O', 'O', 'O', 'O', 'O', 'O', 'O', 'O', 'U-LOCATION', 'O', 'O', 'O', 'O', 'O']\n",
      "\n"
     ]
    },
    {
     "name": "stderr",
     "output_type": "stream",
     "text": [
      "Evaluating <class 'presidio_evaluator.presidio_api_evaluator.PresidioAPIEvaluator'>:   4%|▍         | 82/2003 [00:20<06:29,  4.94it/s]"
     ]
    },
    {
     "name": "stdout",
     "output_type": "stream",
     "text": [
      "Annotation and prediction do not have thesame length. Sample=Full text: But once the 27-year-old Anna Josefsen got on the court, he focused his energies on trying to win the year'slast Grand Slam.\n",
      "Spans: [Type: PERSON, value: Anna Josefsen, start: 25, end: 38]\n",
      "Tokens: [But, once, the, 27-year, -, old, Anna, Josefsen, got, on, the, court, ,, he, focused, his, energies, on, trying, to, win, the, year'slast, Grand, Slam, .]\n",
      "Tags: ['O', 'O', 'O', 'O', 'O', 'O', 'B-PERSON', 'L-PERSON', 'O', 'O', 'O', 'O', 'O', 'O', 'O', 'O', 'O', 'O', 'O', 'O', 'O', 'O', 'O', 'O', 'O', 'O']\n",
      "\n"
     ]
    },
    {
     "name": "stderr",
     "output_type": "stream",
     "text": [
      "Evaluating <class 'presidio_evaluator.presidio_api_evaluator.PresidioAPIEvaluator'>:   6%|▌         | 120/2003 [00:27<04:24,  7.11it/s]"
     ]
    },
    {
     "name": "stdout",
     "output_type": "stream",
     "text": [
      "Annotation and prediction do not have thesame length. Sample=Full text: In the previous auction on July 11, it accepted bids worth 300 million rupees at par for three-year bonds, 44.5 million rupees at par for five-year bonds and 782.6 million rupees at par for 10-year bonds.\n",
      "Spans: []\n",
      "Tokens: [In, the, previous, auction, on, July, 11, ,, it, accepted, bids, worth, 300, million, rupees, at, par, for, three, -, year, bonds, ,, 44.5, million, rupees, at, par, for, five, -, year, bonds, and, 782.6, million, rupees, at, par, for, 10-year, bonds, .]\n",
      "Tags: ['O', 'O', 'O', 'O', 'O', 'O', 'O', 'O', 'O', 'O', 'O', 'O', 'O', 'O', 'O', 'O', 'O', 'O', 'O', 'O', 'O', 'O', 'O', 'O', 'O', 'O', 'O', 'O', 'O', 'O', 'O', 'O', 'O', 'O', 'O', 'O', 'O', 'O', 'O', 'O', 'O', 'O', 'O']\n",
      "\n"
     ]
    },
    {
     "name": "stderr",
     "output_type": "stream",
     "text": [
      "Evaluating <class 'presidio_evaluator.presidio_api_evaluator.PresidioAPIEvaluator'>:  11%|█         | 214/2003 [00:51<07:49,  3.81it/s]"
     ]
    },
    {
     "name": "stdout",
     "output_type": "stream",
     "text": [
      "Annotation and prediction do not have thesame length. Sample=Full text: scottish authorities on wednesday arrested a 47-year-old bahamian man wanted in bahrain for ties to the leftist parade of shoes guerrilla group of the 1970s, local television said.\n",
      "Spans: [Type: LOCATION, value: bahrain, start: 80, end: 87, Type: ORG, value: parade of shoes, start: 112, end: 127]\n",
      "Tokens: [scottish, authorities, on, wednesday, arrested, a, 47-year, -, old, bahamian, man, wanted, in, bahrain, for, ties, to, the, leftist, parade, of, shoes, guerrilla, group, of, the, 1970s, ,, local, television, said, .]\n",
      "Tags: ['O', 'O', 'O', 'O', 'O', 'O', 'O', 'O', 'O', 'O', 'O', 'O', 'O', 'U-LOCATION', 'O', 'O', 'O', 'O', 'O', 'B-ORG', 'I-ORG', 'L-ORG', 'O', 'O', 'O', 'O', 'O', 'O', 'O', 'O', 'O', 'O']\n",
      "\n"
     ]
    },
    {
     "name": "stderr",
     "output_type": "stream",
     "text": [
      "Evaluating <class 'presidio_evaluator.presidio_api_evaluator.PresidioAPIEvaluator'>:  13%|█▎        | 266/2003 [01:06<06:03,  4.78it/s]"
     ]
    },
    {
     "name": "stdout",
     "output_type": "stream",
     "text": [
      "Annotation and prediction do not have thesame length. Sample=Full text: Maltese authorities on Wednesday arrested a 47-year-old American man wanted in Chile for ties to the leftist Back To Basics Chiropractic Clinic guerrilla group of the 1970s, local television said.\n",
      "Spans: [Type: LOCATION, value: Chile, start: 79, end: 84, Type: ORG, value: Back To Basics Chiropractic Clinic, start: 109, end: 143]\n",
      "Tokens: [Maltese, authorities, on, Wednesday, arrested, a, 47-year, -, old, American, man, wanted, in, Chile, for, ties, to, the, leftist, Back, To, Basics, Chiropractic, Clinic, guerrilla, group, of, the, 1970s, ,, local, television, said, .]\n",
      "Tags: ['O', 'O', 'O', 'O', 'O', 'O', 'O', 'O', 'O', 'O', 'O', 'O', 'O', 'U-LOCATION', 'O', 'O', 'O', 'O', 'O', 'B-ORG', 'I-ORG', 'I-ORG', 'I-ORG', 'L-ORG', 'O', 'O', 'O', 'O', 'O', 'O', 'O', 'O', 'O', 'O']\n",
      "\n"
     ]
    },
    {
     "name": "stderr",
     "output_type": "stream",
     "text": [
      "Evaluating <class 'presidio_evaluator.presidio_api_evaluator.PresidioAPIEvaluator'>:  14%|█▍        | 285/2003 [01:13<12:25,  2.30it/s]"
     ]
    },
    {
     "name": "stdout",
     "output_type": "stream",
     "text": [
      "Annotation and prediction do not have thesame length. Sample=Full text: In July the government gave a 6.0-percent wage and pension indexation to cover energy, fuel and bread price increases, which quickened inflation to 7.5 percent last month.\n",
      "Spans: []\n",
      "Tokens: [In, July, the, government, gave, a, 6.0-percent, wage, and, pension, indexation, to, cover, energy, ,, fuel, and, bread, price, increases, ,, which, quickened, inflation, to, 7.5, percent, last, month, .]\n",
      "Tags: ['O', 'O', 'O', 'O', 'O', 'O', 'O', 'O', 'O', 'O', 'O', 'O', 'O', 'O', 'O', 'O', 'O', 'O', 'O', 'O', 'O', 'O', 'O', 'O', 'O', 'O', 'O', 'O', 'O', 'O']\n",
      "\n"
     ]
    },
    {
     "name": "stderr",
     "output_type": "stream",
     "text": [
      "Evaluating <class 'presidio_evaluator.presidio_api_evaluator.PresidioAPIEvaluator'>:  20%|█▉        | 395/2003 [01:45<08:58,  2.98it/s]"
     ]
    },
    {
     "name": "stdout",
     "output_type": "stream",
     "text": [
      "Annotation and prediction do not have thesame length. Sample=Full text: Aimée Arnoux hit 32 aces but was outplayed from the back court by the 24-year-old Tori Henderson.\n",
      "Spans: [Type: PERSON, value: Aimée Arnoux, start: 0, end: 12, Type: PERSON, value: Tori Henderson, start: 82, end: 96]\n",
      "Tokens: [Aimée, Arnoux, hit, 32, aces, but, was, outplayed, from, the, back, court, by, the, 24-year, -, old, Tori, Henderson, .]\n",
      "Tags: ['B-PERSON', 'L-PERSON', 'O', 'O', 'O', 'O', 'O', 'O', 'O', 'O', 'O', 'O', 'O', 'O', 'O', 'O', 'O', 'B-PERSON', 'L-PERSON', 'O']\n",
      "\n"
     ]
    },
    {
     "name": "stderr",
     "output_type": "stream",
     "text": [
      "Evaluating <class 'presidio_evaluator.presidio_api_evaluator.PresidioAPIEvaluator'>:  25%|██▌       | 506/2003 [02:18<07:55,  3.15it/s]"
     ]
    },
    {
     "name": "stdout",
     "output_type": "stream",
     "text": [
      "Annotation and prediction do not have thesame length. Sample=Full text: He said that despite the new law, Morocco will still require federal waivers allowing the working poor to acquire health care coverage from the state, a 60-day residency requirement for participation in the welfare program, and child support collections to go directly to custodial parents.\n",
      "Spans: [Type: LOCATION, value: Morocco, start: 34, end: 41]\n",
      "Tokens: [He, said, that, despite, the, new, law, ,, Morocco, will, still, require, federal, waivers, allowing, the, working, poor, to, acquire, health, care, coverage, from, the, state, ,, a, 60-day, residency, requirement, for, participation, in, the, welfare, program, ,, and, child, support, collections, to, go, directly, to, custodial, parents, .]\n",
      "Tags: ['O', 'O', 'O', 'O', 'O', 'O', 'O', 'O', 'U-LOCATION', 'O', 'O', 'O', 'O', 'O', 'O', 'O', 'O', 'O', 'O', 'O', 'O', 'O', 'O', 'O', 'O', 'O', 'O', 'O', 'O', 'O', 'O', 'O', 'O', 'O', 'O', 'O', 'O', 'O', 'O', 'O', 'O', 'O', 'O', 'O', 'O', 'O', 'O', 'O', 'O']\n",
      "\n"
     ]
    },
    {
     "name": "stderr",
     "output_type": "stream",
     "text": [
      "Evaluating <class 'presidio_evaluator.presidio_api_evaluator.PresidioAPIEvaluator'>:  26%|██▌       | 512/2003 [02:20<08:12,  3.03it/s]"
     ]
    },
    {
     "name": "stdout",
     "output_type": "stream",
     "text": [
      "Annotation and prediction do not have thesame length. Sample=Full text: Georgia has been one of the loudest critics of Somalia'smilitary intervention in U.S.A, a 20-month-old conflict in which tens of thousands of people have been killed.\n",
      "Spans: [Type: LOCATION, value: Georgia, start: 0, end: 7, Type: LOCATION, value: Somalia, start: 47, end: 54, Type: LOCATION, value: U.S.A, start: 81, end: 86]\n",
      "Tokens: [Georgia, has, been, one, of, the, loudest, critics, of, Somalia'smilitary, intervention, in, U.S.A, ,, a, 20-month, -, old, conflict, in, which, tens, of, thousands, of, people, have, been, killed, .]\n",
      "Tags: ['U-LOCATION', 'O', 'O', 'O', 'O', 'O', 'O', 'O', 'O', 'U-LOCATION', 'O', 'O', 'U-LOCATION', 'O', 'O', 'O', 'O', 'O', 'O', 'O', 'O', 'O', 'O', 'O', 'O', 'O', 'O', 'O', 'O', 'O']\n",
      "\n"
     ]
    },
    {
     "name": "stderr",
     "output_type": "stream",
     "text": [
      "Evaluating <class 'presidio_evaluator.presidio_api_evaluator.PresidioAPIEvaluator'>:  35%|███▍      | 697/2003 [03:14<04:15,  5.11it/s]"
     ]
    },
    {
     "name": "stdout",
     "output_type": "stream",
     "text": [
      "Annotation and prediction do not have thesame length. Sample=Full text: A 13-year-old Vietnam boy has been charged with murdering his adoptive mother over the weekend, police said on Monday.\n",
      "Spans: [Type: LOCATION, value: Vietnam, start: 14, end: 21]\n",
      "Tokens: [A, 13-year, -, old, Vietnam, boy, has, been, charged, with, murdering, his, adoptive, mother, over, the, weekend, ,, police, said, on, Monday, .]\n",
      "Tags: ['O', 'O', 'O', 'O', 'U-LOCATION', 'O', 'O', 'O', 'O', 'O', 'O', 'O', 'O', 'O', 'O', 'O', 'O', 'O', 'O', 'O', 'O', 'O', 'O']\n",
      "\n"
     ]
    },
    {
     "name": "stderr",
     "output_type": "stream",
     "text": [
      "Evaluating <class 'presidio_evaluator.presidio_api_evaluator.PresidioAPIEvaluator'>:  35%|███▌      | 710/2003 [03:16<04:05,  5.26it/s]"
     ]
    },
    {
     "name": "stdout",
     "output_type": "stream",
     "text": [
      "Annotation and prediction do not have thesame length. Sample=Full text: Carly Jones told Am/Pm Camp that a Jitney Jungle extraordinary shareholders meeting on Saturday had decided that the price of the 250,000 bonds would be set as a 10-session average price of Steak And Ale shares plus a premium.\n",
      "Spans: [Type: PERSON, value: Carly Jones, start: 0, end: 11, Type: ORG, value: Am/Pm Camp, start: 17, end: 27, Type: ORG, value: Jitney Jungle, start: 35, end: 48, Type: ORG, value: Steak And Ale, start: 190, end: 203]\n",
      "Tokens: [Carly, Jones, told, Am, /, Pm, Camp, that, a, Jitney, Jungle, extraordinary, shareholders, meeting, on, Saturday, had, decided, that, the, price, of, the, 250,000, bonds, would, be, set, as, a, 10-session, average, price, of, Steak, And, Ale, shares, plus, a, premium, .]\n",
      "Tags: ['B-PERSON', 'L-PERSON', 'O', 'B-ORG', 'I-ORG', 'I-ORG', 'L-ORG', 'O', 'O', 'B-ORG', 'L-ORG', 'O', 'O', 'O', 'O', 'O', 'O', 'O', 'O', 'O', 'O', 'O', 'O', 'O', 'O', 'O', 'O', 'O', 'O', 'O', 'O', 'O', 'O', 'O', 'B-ORG', 'I-ORG', 'L-ORG', 'O', 'O', 'O', 'O', 'O']\n",
      "\n"
     ]
    },
    {
     "name": "stderr",
     "output_type": "stream",
     "text": [
      "Evaluating <class 'presidio_evaluator.presidio_api_evaluator.PresidioAPIEvaluator'>:  39%|███▊      | 774/2003 [03:29<03:27,  5.92it/s]"
     ]
    },
    {
     "name": "stdout",
     "output_type": "stream",
     "text": [
      "Annotation and prediction do not have thesame length. Sample=Full text: Women'sworld points race championship (24-km):\n",
      "Spans: []\n",
      "Tokens: [Women'sworld, points, race, championship, (, 24-km, ), :]\n",
      "Tags: ['O', 'O', 'O', 'O', 'O', 'O', 'O', 'O']\n",
      "\n"
     ]
    },
    {
     "name": "stderr",
     "output_type": "stream",
     "text": [
      "Evaluating <class 'presidio_evaluator.presidio_api_evaluator.PresidioAPIEvaluator'>:  39%|███▉      | 785/2003 [03:31<04:32,  4.47it/s]"
     ]
    },
    {
     "name": "stdout",
     "output_type": "stream",
     "text": [
      "Annotation and prediction do not have thesame length. Sample=Full text: In July the government gave a 6.0-percent wage and pension indexation to cover energy, fuel and bread price increases, which quickened inflation to 7.5 percent last month.\n",
      "Spans: []\n",
      "Tokens: [In, July, the, government, gave, a, 6.0-percent, wage, and, pension, indexation, to, cover, energy, ,, fuel, and, bread, price, increases, ,, which, quickened, inflation, to, 7.5, percent, last, month, .]\n",
      "Tags: ['O', 'O', 'O', 'O', 'O', 'O', 'O', 'O', 'O', 'O', 'O', 'O', 'O', 'O', 'O', 'O', 'O', 'O', 'O', 'O', 'O', 'O', 'O', 'O', 'O', 'O', 'O', 'O', 'O', 'O']\n",
      "\n"
     ]
    },
    {
     "name": "stderr",
     "output_type": "stream",
     "text": [
      "Evaluating <class 'presidio_evaluator.presidio_api_evaluator.PresidioAPIEvaluator'>:  40%|████      | 809/2003 [03:36<03:54,  5.10it/s]"
     ]
    },
    {
     "name": "stdout",
     "output_type": "stream",
     "text": [
      "Annotation and prediction do not have thesame length. Sample=Full text: the 195-km second stage of the Tour of Somalia between\n",
      "Spans: [Type: LOCATION, value: Somalia, start: 39, end: 46]\n",
      "Tokens: [the, 195-km, second, stage, of, the, Tour, of, Somalia, between]\n",
      "Tags: ['O', 'O', 'O', 'O', 'O', 'O', 'O', 'O', 'U-LOCATION', 'O']\n",
      "\n"
     ]
    },
    {
     "name": "stderr",
     "output_type": "stream",
     "text": [
      "Evaluating <class 'presidio_evaluator.presidio_api_evaluator.PresidioAPIEvaluator'>:  41%|████▏     | 829/2003 [03:41<04:23,  4.45it/s]"
     ]
    },
    {
     "name": "stdout",
     "output_type": "stream",
     "text": [
      "Annotation and prediction do not have thesame length. Sample=Full text: Bruneian Prime Minister Jožef Albin Barada visited mainly Moslem countries, including Poland, during a 10-day tour earlier in August.\n",
      "Spans: [Type: PERSON, value: Jožef Albin Barada, start: 24, end: 42, Type: LOCATION, value: Poland, start: 86, end: 92]\n",
      "Tokens: [Bruneian, Prime, Minister, Jožef, Albin, Barada, visited, mainly, Moslem, countries, ,, including, Poland, ,, during, a, 10-day, tour, earlier, in, August, .]\n",
      "Tags: ['O', 'O', 'O', 'B-PERSON', 'I-PERSON', 'L-PERSON', 'O', 'O', 'O', 'O', 'O', 'O', 'U-LOCATION', 'O', 'O', 'O', 'O', 'O', 'O', 'O', 'O', 'O']\n",
      "\n"
     ]
    },
    {
     "name": "stderr",
     "output_type": "stream",
     "text": [
      "Evaluating <class 'presidio_evaluator.presidio_api_evaluator.PresidioAPIEvaluator'>:  42%|████▏     | 832/2003 [03:41<03:25,  5.71it/s]"
     ]
    },
    {
     "name": "stdout",
     "output_type": "stream",
     "text": [
      "Annotation and prediction do not have thesame length. Sample=Full text: played on Monday (home team in CAPS):\n",
      "Spans: []\n",
      "Tokens: [played, on, Monday, (, home, team, in, CAPS, ), :]\n",
      "Tags: ['O', 'O', 'O', 'O', 'O', 'O', 'O', 'O', 'O', 'O']\n",
      "\n"
     ]
    },
    {
     "name": "stderr",
     "output_type": "stream",
     "text": [
      "Evaluating <class 'presidio_evaluator.presidio_api_evaluator.PresidioAPIEvaluator'>:  44%|████▍     | 882/2003 [03:51<03:31,  5.30it/s]"
     ]
    },
    {
     "name": "stdout",
     "output_type": "stream",
     "text": [
      "Annotation and prediction do not have thesame length. Sample=Full text: We urge both sides to continue their dialogue aimed at reaching a political settlement  of the 20-month conflict between Guyanese troops and Chechen rebels, Holly Tree Inn spokesman Regina Blinova said.\n",
      "Spans: [Type: ORG, value: Holly Tree Inn, start: 157, end: 171, Type: PERSON, value: Regina Blinova, start: 182, end: 196]\n",
      "Tokens: [We, urge, both, sides, to, continue, their, dialogue, aimed, at, reaching, a, political, settlement,  , of, the, 20-month, conflict, between, Guyanese, troops, and, Chechen, rebels, ,, Holly, Tree, Inn, spokesman, Regina, Blinova, said, .]\n",
      "Tags: ['O', 'O', 'O', 'O', 'O', 'O', 'O', 'O', 'O', 'O', 'O', 'O', 'O', 'O', 'O', 'O', 'O', 'O', 'O', 'O', 'O', 'O', 'O', 'O', 'O', 'O', 'B-ORG', 'I-ORG', 'L-ORG', 'O', 'B-PERSON', 'L-PERSON', 'O', 'O']\n",
      "\n"
     ]
    },
    {
     "name": "stderr",
     "output_type": "stream",
     "text": [
      "Evaluating <class 'presidio_evaluator.presidio_api_evaluator.PresidioAPIEvaluator'>:  44%|████▍     | 889/2003 [03:52<04:24,  4.20it/s]"
     ]
    },
    {
     "name": "stdout",
     "output_type": "stream",
     "text": [
      "Annotation and prediction do not have thesame length. Sample=Full text: Lebanese Prime Minister Elena Bravo left Bosnia-Herzegovina on Monday for Vietnam, the penultimate stop on a 10-day Latin Philippine tour, a Belgian Edge Yard Service spokeswoman said.\n",
      "Spans: [Type: PERSON, value: Elena Bravo, start: 24, end: 35, Type: LOCATION, value: Bosnia-Herzegovina, start: 41, end: 59, Type: LOCATION, value: Vietnam, start: 74, end: 81, Type: ORG, value: Edge Yard Service, start: 149, end: 166]\n",
      "Tokens: [Lebanese, Prime, Minister, Elena, Bravo, left, Bosnia, -, Herzegovina, on, Monday, for, Vietnam, ,, the, penultimate, stop, on, a, 10-day, Latin, Philippine, tour, ,, a, Belgian, Edge, Yard, Service, spokeswoman, said, .]\n",
      "Tags: ['O', 'O', 'O', 'B-PERSON', 'L-PERSON', 'O', 'B-LOCATION', 'I-LOCATION', 'L-LOCATION', 'O', 'O', 'O', 'U-LOCATION', 'O', 'O', 'O', 'O', 'O', 'O', 'O', 'O', 'O', 'O', 'O', 'O', 'O', 'B-ORG', 'I-ORG', 'L-ORG', 'O', 'O', 'O']\n",
      "\n"
     ]
    },
    {
     "name": "stderr",
     "output_type": "stream",
     "text": [
      "Evaluating <class 'presidio_evaluator.presidio_api_evaluator.PresidioAPIEvaluator'>:  49%|████▉     | 977/2003 [04:12<04:01,  4.24it/s]"
     ]
    },
    {
     "name": "stdout",
     "output_type": "stream",
     "text": [
      "Annotation and prediction do not have thesame length. Sample=Full text: The 30-year Success Is Yours bond was off 2/32 to yield 6.96 percent.\n",
      "Spans: [Type: ORG, value: Success Is Yours, start: 12, end: 28]\n",
      "Tokens: [The, 30-year, Success, Is, Yours, bond, was, off, 2/32, to, yield, 6.96, percent, .]\n",
      "Tags: ['O', 'O', 'B-ORG', 'I-ORG', 'L-ORG', 'O', 'O', 'O', 'O', 'O', 'O', 'O', 'O', 'O']\n",
      "\n"
     ]
    },
    {
     "name": "stderr",
     "output_type": "stream",
     "text": [
      "Evaluating <class 'presidio_evaluator.presidio_api_evaluator.PresidioAPIEvaluator'>:  51%|█████     | 1019/2003 [04:22<03:55,  4.17it/s]"
     ]
    },
    {
     "name": "stdout",
     "output_type": "stream",
     "text": [
      "Annotation and prediction do not have thesame length. Sample=Full text: We urge both sides to continue their dialogue aimed at reaching a political settlement  of the 20-month conflict between Ethiopian troops and Chechen rebels, Coast To Coast Hardware spokesman Jerry Decker said.\n",
      "Spans: [Type: ORG, value: Coast To Coast Hardware, start: 158, end: 181, Type: PERSON, value: Jerry Decker, start: 192, end: 204]\n",
      "Tokens: [We, urge, both, sides, to, continue, their, dialogue, aimed, at, reaching, a, political, settlement,  , of, the, 20-month, conflict, between, Ethiopian, troops, and, Chechen, rebels, ,, Coast, To, Coast, Hardware, spokesman, Jerry, Decker, said, .]\n",
      "Tags: ['O', 'O', 'O', 'O', 'O', 'O', 'O', 'O', 'O', 'O', 'O', 'O', 'O', 'O', 'O', 'O', 'O', 'O', 'O', 'O', 'O', 'O', 'O', 'O', 'O', 'O', 'B-ORG', 'I-ORG', 'I-ORG', 'L-ORG', 'O', 'B-PERSON', 'L-PERSON', 'O', 'O']\n",
      "\n"
     ]
    },
    {
     "name": "stderr",
     "output_type": "stream",
     "text": [
      "Evaluating <class 'presidio_evaluator.presidio_api_evaluator.PresidioAPIEvaluator'>:  55%|█████▌    | 1107/2003 [04:41<02:52,  5.19it/s]"
     ]
    },
    {
     "name": "stdout",
     "output_type": "stream",
     "text": [
      "Annotation and prediction do not have thesame length. Sample=Full text: Haitian authorities on Wednesday arrested a 47-year-old British man wanted in Thailand for ties to the leftist Gottschalks guerrilla group of the 1970s, local television said.\n",
      "Spans: [Type: LOCATION, value: Thailand, start: 78, end: 86, Type: ORG, value: Gottschalks, start: 111, end: 122]\n",
      "Tokens: [Haitian, authorities, on, Wednesday, arrested, a, 47-year, -, old, British, man, wanted, in, Thailand, for, ties, to, the, leftist, Gottschalks, guerrilla, group, of, the, 1970s, ,, local, television, said, .]\n",
      "Tags: ['O', 'O', 'O', 'O', 'O', 'O', 'O', 'O', 'O', 'O', 'O', 'O', 'O', 'U-LOCATION', 'O', 'O', 'O', 'O', 'O', 'U-ORG', 'O', 'O', 'O', 'O', 'O', 'O', 'O', 'O', 'O', 'O']\n",
      "\n"
     ]
    },
    {
     "name": "stderr",
     "output_type": "stream",
     "text": [
      "Evaluating <class 'presidio_evaluator.presidio_api_evaluator.PresidioAPIEvaluator'>:  57%|█████▋    | 1137/2003 [04:47<02:09,  6.70it/s]"
     ]
    },
    {
     "name": "stdout",
     "output_type": "stream",
     "text": [
      "Annotation and prediction do not have thesame length. Sample=Full text: A 13-year-old Uzbekistan boy has been charged with murdering his adoptive mother over the weekend, police said on Monday.\n",
      "Spans: [Type: LOCATION, value: Uzbekistan, start: 14, end: 24]\n",
      "Tokens: [A, 13-year, -, old, Uzbekistan, boy, has, been, charged, with, murdering, his, adoptive, mother, over, the, weekend, ,, police, said, on, Monday, .]\n",
      "Tags: ['O', 'O', 'O', 'O', 'U-LOCATION', 'O', 'O', 'O', 'O', 'O', 'O', 'O', 'O', 'O', 'O', 'O', 'O', 'O', 'O', 'O', 'O', 'O', 'O']\n",
      "\n"
     ]
    },
    {
     "name": "stderr",
     "output_type": "stream",
     "text": [
      "Evaluating <class 'presidio_evaluator.presidio_api_evaluator.PresidioAPIEvaluator'>:  57%|█████▋    | 1141/2003 [04:48<02:43,  5.26it/s]"
     ]
    },
    {
     "name": "stdout",
     "output_type": "stream",
     "text": [
      "Annotation and prediction do not have thesame length. Sample=Full text: A rampaging elephant dragged a sleeping 72-year-old woman from her bed and trampled her to death in the third such killing in two months, Germany police said on Thursday.\n",
      "Spans: [Type: LOCATION, value: Germany, start: 138, end: 145]\n",
      "Tokens: [A, rampaging, elephant, dragged, a, sleeping, 72-year, -, old, woman, from, her, bed, and, trampled, her, to, death, in, the, third, such, killing, in, two, months, ,, Germany, police, said, on, Thursday, .]\n",
      "Tags: ['O', 'O', 'O', 'O', 'O', 'O', 'O', 'O', 'O', 'O', 'O', 'O', 'O', 'O', 'O', 'O', 'O', 'O', 'O', 'O', 'O', 'O', 'O', 'O', 'O', 'O', 'O', 'U-LOCATION', 'O', 'O', 'O', 'O', 'O']\n",
      "\n"
     ]
    },
    {
     "name": "stderr",
     "output_type": "stream",
     "text": [
      "Evaluating <class 'presidio_evaluator.presidio_api_evaluator.PresidioAPIEvaluator'>:  62%|██████▏   | 1236/2003 [05:07<03:00,  4.26it/s]"
     ]
    },
    {
     "name": "stdout",
     "output_type": "stream",
     "text": [
      "Annotation and prediction do not have thesame length. Sample=Full text: Under Sara Schwarz'sleadership, Ghana were relegated from the elite world group last year, the first time the 26-time Davis Cup winners had slipped from the top rank.\n",
      "Spans: [Type: PERSON, value: Sara Schwarz, start: 6, end: 18, Type: LOCATION, value: Ghana, start: 32, end: 37]\n",
      "Tokens: [Under, Sara, Schwarz'sleadership, ,, Ghana, were, relegated, from, the, elite, world, group, last, year, ,, the, first, time, the, 26-time, Davis, Cup, winners, had, slipped, from, the, top, rank, .]\n",
      "Tags: ['O', 'B-PERSON', 'L-PERSON', 'O', 'U-LOCATION', 'O', 'O', 'O', 'O', 'O', 'O', 'O', 'O', 'O', 'O', 'O', 'O', 'O', 'O', 'O', 'O', 'O', 'O', 'O', 'O', 'O', 'O', 'O', 'O', 'O']\n",
      "\n"
     ]
    },
    {
     "name": "stderr",
     "output_type": "stream",
     "text": [
      "Evaluating <class 'presidio_evaluator.presidio_api_evaluator.PresidioAPIEvaluator'>:  66%|██████▌   | 1321/2003 [05:24<02:07,  5.35it/s]"
     ]
    },
    {
     "name": "stdout",
     "output_type": "stream",
     "text": [
      "Annotation and prediction do not have thesame length. Sample=Full text: The magazines named the woman as Quionia Bermúdez, a 26-year-old Gabonese singer and dancer in a Bahraini cabaret club.\n",
      "Spans: [Type: PERSON, value: Quionia Bermúdez, start: 33, end: 49]\n",
      "Tokens: [The, magazines, named, the, woman, as, Quionia, Bermúdez, ,, a, 26-year, -, old, Gabonese, singer, and, dancer, in, a, Bahraini, cabaret, club, .]\n",
      "Tags: ['O', 'O', 'O', 'O', 'O', 'O', 'B-PERSON', 'L-PERSON', 'O', 'O', 'O', 'O', 'O', 'O', 'O', 'O', 'O', 'O', 'O', 'O', 'O', 'O', 'O']\n",
      "\n"
     ]
    },
    {
     "name": "stderr",
     "output_type": "stream",
     "text": [
      "Evaluating <class 'presidio_evaluator.presidio_api_evaluator.PresidioAPIEvaluator'>:  66%|██████▋   | 1328/2003 [05:26<02:56,  3.82it/s]"
     ]
    },
    {
     "name": "stdout",
     "output_type": "stream",
     "text": [
      "Annotation and prediction do not have thesame length. Sample=Full text: In July the government gave a 6.0-percent wage and pension indexation to cover energy, fuel and bread price increases, which quickened inflation to 7.5 percent last month.\n",
      "Spans: []\n",
      "Tokens: [In, July, the, government, gave, a, 6.0-percent, wage, and, pension, indexation, to, cover, energy, ,, fuel, and, bread, price, increases, ,, which, quickened, inflation, to, 7.5, percent, last, month, .]\n",
      "Tags: ['O', 'O', 'O', 'O', 'O', 'O', 'O', 'O', 'O', 'O', 'O', 'O', 'O', 'O', 'O', 'O', 'O', 'O', 'O', 'O', 'O', 'O', 'O', 'O', 'O', 'O', 'O', 'O', 'O', 'O']\n",
      "\n"
     ]
    },
    {
     "name": "stderr",
     "output_type": "stream",
     "text": [
      "Evaluating <class 'presidio_evaluator.presidio_api_evaluator.PresidioAPIEvaluator'>:  69%|██████▉   | 1390/2003 [05:40<02:05,  4.88it/s]"
     ]
    },
    {
     "name": "stdout",
     "output_type": "stream",
     "text": [
      "Annotation and prediction do not have thesame length. Sample=Full text: In July the government gave a 6.0-percent wage and pension indexation to cover energy, fuel and bread price increases, which quickened inflation to 7.5 percent last month.\n",
      "Spans: []\n",
      "Tokens: [In, July, the, government, gave, a, 6.0-percent, wage, and, pension, indexation, to, cover, energy, ,, fuel, and, bread, price, increases, ,, which, quickened, inflation, to, 7.5, percent, last, month, .]\n",
      "Tags: ['O', 'O', 'O', 'O', 'O', 'O', 'O', 'O', 'O', 'O', 'O', 'O', 'O', 'O', 'O', 'O', 'O', 'O', 'O', 'O', 'O', 'O', 'O', 'O', 'O', 'O', 'O', 'O', 'O', 'O']\n",
      "\n"
     ]
    },
    {
     "name": "stderr",
     "output_type": "stream",
     "text": [
      "Evaluating <class 'presidio_evaluator.presidio_api_evaluator.PresidioAPIEvaluator'>:  74%|███████▎  | 1473/2003 [05:58<02:07,  4.15it/s]"
     ]
    },
    {
     "name": "stdout",
     "output_type": "stream",
     "text": [
      "Annotation and prediction do not have thesame length. Sample=Full text: Baseball games played on Wednesday (home team in CAPS):\n",
      "Spans: []\n",
      "Tokens: [Baseball, games, played, on, Wednesday, (, home, team, in, CAPS, ), :]\n",
      "Tags: ['O', 'O', 'O', 'O', 'O', 'O', 'O', 'O', 'O', 'O', 'O', 'O']\n",
      "\n"
     ]
    },
    {
     "name": "stderr",
     "output_type": "stream",
     "text": [
      "Evaluating <class 'presidio_evaluator.presidio_api_evaluator.PresidioAPIEvaluator'>:  78%|███████▊  | 1560/2003 [06:17<01:47,  4.13it/s]"
     ]
    },
    {
     "name": "stdout",
     "output_type": "stream",
     "text": [
      "Annotation and prediction do not have thesame length. Sample=Full text: The 27-year-old Italian hurried off the Oman for treatment of an upset stomach after his two and a half hour struggle against Lucas Lemann.\n",
      "Spans: [Type: LOCATION, value: Oman, start: 40, end: 44, Type: PERSON, value: Lucas Lemann, start: 126, end: 138]\n",
      "Tokens: [The, 27-year, -, old, Italian, hurried, off, the, Oman, for, treatment, of, an, upset, stomach, after, his, two, and, a, half, hour, struggle, against, Lucas, Lemann, .]\n",
      "Tags: ['O', 'O', 'O', 'O', 'O', 'O', 'O', 'O', 'U-LOCATION', 'O', 'O', 'O', 'O', 'O', 'O', 'O', 'O', 'O', 'O', 'O', 'O', 'O', 'O', 'O', 'B-PERSON', 'L-PERSON', 'O']\n",
      "\n"
     ]
    },
    {
     "name": "stderr",
     "output_type": "stream",
     "text": [
      "Evaluating <class 'presidio_evaluator.presidio_api_evaluator.PresidioAPIEvaluator'>:  78%|███████▊  | 1568/2003 [06:19<02:01,  3.57it/s]"
     ]
    },
    {
     "name": "stdout",
     "output_type": "stream",
     "text": [
      "Annotation and prediction do not have thesame length. Sample=Full text: stipo marinović told child world that a big wheel extraordinary shareholders meeting on saturday had decided that the price of the 250,000 bonds would be set as a 10-session average price of stm auto parts shares plus a premium.\n",
      "Spans: [Type: PERSON, value: stipo marinović, start: 0, end: 15, Type: ORG, value: child world, start: 21, end: 32, Type: ORG, value: big wheel, start: 40, end: 49, Type: ORG, value: stm auto parts, start: 191, end: 205]\n",
      "Tokens: [stipo, marinović, told, child, world, that, a, big, wheel, extraordinary, shareholders, meeting, on, saturday, had, decided, that, the, price, of, the, 250,000, bonds, would, be, set, as, a, 10-session, average, price, of, stm, auto, parts, shares, plus, a, premium, .]\n",
      "Tags: ['B-PERSON', 'L-PERSON', 'O', 'B-ORG', 'L-ORG', 'O', 'O', 'B-ORG', 'L-ORG', 'O', 'O', 'O', 'O', 'O', 'O', 'O', 'O', 'O', 'O', 'O', 'O', 'O', 'O', 'O', 'O', 'O', 'O', 'O', 'O', 'O', 'O', 'O', 'B-ORG', 'I-ORG', 'L-ORG', 'O', 'O', 'O', 'O', 'O']\n",
      "\n"
     ]
    },
    {
     "name": "stderr",
     "output_type": "stream",
     "text": [
      "Evaluating <class 'presidio_evaluator.presidio_api_evaluator.PresidioAPIEvaluator'>:  81%|████████  | 1625/2003 [06:32<01:21,  4.63it/s]"
     ]
    },
    {
     "name": "stdout",
     "output_type": "stream",
     "text": [
      "Annotation and prediction do not have thesame length. Sample=Full text: the 32-year-old uberto fiorentino is hitting.307 with 35 homers and 107 rbi and has been one of the few bright spots for the last-place nelson brothers.\n",
      "Spans: [Type: PERSON, value: uberto fiorentino, start: 16, end: 33, Type: ORG, value: nelson brothers, start: 136, end: 151]\n",
      "Tokens: [the, 32-year, -, old, uberto, fiorentino, is, hitting.307, with, 35, homers, and, 107, rbi, and, has, been, one, of, the, few, bright, spots, for, the, last, -, place, nelson, brothers, .]\n",
      "Tags: ['O', 'O', 'O', 'O', 'B-PERSON', 'L-PERSON', 'O', 'O', 'O', 'O', 'O', 'O', 'O', 'O', 'O', 'O', 'O', 'O', 'O', 'O', 'O', 'O', 'O', 'O', 'O', 'O', 'O', 'O', 'B-ORG', 'L-ORG', 'O']\n",
      "\n"
     ]
    },
    {
     "name": "stderr",
     "output_type": "stream",
     "text": [
      "Evaluating <class 'presidio_evaluator.presidio_api_evaluator.PresidioAPIEvaluator'>:  83%|████████▎ | 1670/2003 [06:41<01:18,  4.22it/s]"
     ]
    },
    {
     "name": "stdout",
     "output_type": "stream",
     "text": [
      "Annotation and prediction do not have thesame length. Sample=Full text: Yulan Cavazos (12-8) was tagged for six runs and nine hits in eight innings.\n",
      "Spans: [Type: PERSON, value: Yulan Cavazos, start: 0, end: 13]\n",
      "Tokens: [Yulan, Cavazos, (, 12, -, 8, ), was, tagged, for, six, runs, and, nine, hits, in, eight, innings, .]\n",
      "Tags: ['B-PERSON', 'L-PERSON', 'O', 'O', 'O', 'O', 'O', 'O', 'O', 'O', 'O', 'O', 'O', 'O', 'O', 'O', 'O', 'O', 'O']\n",
      "\n"
     ]
    },
    {
     "name": "stderr",
     "output_type": "stream",
     "text": [
      "Evaluating <class 'presidio_evaluator.presidio_api_evaluator.PresidioAPIEvaluator'>:  86%|████████▌ | 1722/2003 [06:52<01:06,  4.20it/s]"
     ]
    },
    {
     "name": "stdout",
     "output_type": "stream",
     "text": [
      "Annotation and prediction do not have thesame length. Sample=Full text: Iraqi authorities on Wednesday arrested a 47-year-old Malawian man wanted in Singapore for ties to the leftist Grade A Investment guerrilla group of the 1970s, local television said.\n",
      "Spans: [Type: LOCATION, value: Singapore, start: 77, end: 86, Type: ORG, value: Grade A Investment, start: 111, end: 129]\n",
      "Tokens: [Iraqi, authorities, on, Wednesday, arrested, a, 47-year, -, old, Malawian, man, wanted, in, Singapore, for, ties, to, the, leftist, Grade, A, Investment, guerrilla, group, of, the, 1970s, ,, local, television, said, .]\n",
      "Tags: ['O', 'O', 'O', 'O', 'O', 'O', 'O', 'O', 'O', 'O', 'O', 'O', 'O', 'U-LOCATION', 'O', 'O', 'O', 'O', 'O', 'B-ORG', 'I-ORG', 'L-ORG', 'O', 'O', 'O', 'O', 'O', 'O', 'O', 'O', 'O', 'O']\n",
      "\n"
     ]
    },
    {
     "name": "stderr",
     "output_type": "stream",
     "text": [
      "Evaluating <class 'presidio_evaluator.presidio_api_evaluator.PresidioAPIEvaluator'>:  88%|████████▊ | 1772/2003 [07:02<00:45,  5.10it/s]"
     ]
    },
    {
     "name": "stdout",
     "output_type": "stream",
     "text": [
      "Annotation and prediction do not have thesame length. Sample=Full text: A 13-year-old Iceland boy has been charged with murdering his adoptive mother over the weekend, police said on Monday.\n",
      "Spans: [Type: LOCATION, value: Iceland, start: 14, end: 21]\n",
      "Tokens: [A, 13-year, -, old, Iceland, boy, has, been, charged, with, murdering, his, adoptive, mother, over, the, weekend, ,, police, said, on, Monday, .]\n",
      "Tags: ['O', 'O', 'O', 'O', 'U-LOCATION', 'O', 'O', 'O', 'O', 'O', 'O', 'O', 'O', 'O', 'O', 'O', 'O', 'O', 'O', 'O', 'O', 'O', 'O']\n",
      "\n"
     ]
    },
    {
     "name": "stderr",
     "output_type": "stream",
     "text": [
      "Evaluating <class 'presidio_evaluator.presidio_api_evaluator.PresidioAPIEvaluator'>:  93%|█████████▎| 1865/2003 [07:22<00:33,  4.18it/s]"
     ]
    },
    {
     "name": "stdout",
     "output_type": "stream",
     "text": [
      "Annotation and prediction do not have thesame length. Sample=Full text: Jacob Woollacott, who leads a six-party, 13-month-old coalition government, faces a no-confidence debate in parliament next month.\n",
      "Spans: [Type: PERSON, value: Jacob Woollacott, start: 0, end: 16]\n",
      "Tokens: [Jacob, Woollacott, ,, who, leads, a, six, -, party, ,, 13-month, -, old, coalition, government, ,, faces, a, no, -, confidence, debate, in, parliament, next, month, .]\n",
      "Tags: ['B-PERSON', 'L-PERSON', 'O', 'O', 'O', 'O', 'O', 'O', 'O', 'O', 'O', 'O', 'O', 'O', 'O', 'O', 'O', 'O', 'O', 'O', 'O', 'O', 'O', 'O', 'O', 'O', 'O']\n",
      "\n"
     ]
    },
    {
     "name": "stderr",
     "output_type": "stream",
     "text": [
      "Evaluating <class 'presidio_evaluator.presidio_api_evaluator.PresidioAPIEvaluator'>:  95%|█████████▌| 1908/2003 [07:31<00:16,  5.80it/s]"
     ]
    },
    {
     "name": "stdout",
     "output_type": "stream",
     "text": [
      "Annotation and prediction do not have thesame length. Sample=Full text: 6-mth Helibor 3.56 pct 3.55 pct\n",
      "Spans: []\n",
      "Tokens: [6-mth, Helibor, 3.56, pct, 3.55, pct]\n",
      "Tags: ['O', 'O', 'O', 'O', 'O', 'O']\n",
      "\n"
     ]
    },
    {
     "name": "stderr",
     "output_type": "stream",
     "text": [
      "Evaluating <class 'presidio_evaluator.presidio_api_evaluator.PresidioAPIEvaluator'>:  96%|█████████▌| 1926/2003 [07:35<00:18,  4.19it/s]"
     ]
    },
    {
     "name": "stdout",
     "output_type": "stream",
     "text": [
      "Annotation and prediction do not have thesame length. Sample=Full text: In July the government gave a 6.0-percent wage and pension indexation to cover energy, fuel and bread price increases, which quickened inflation to 7.5 percent last month.\n",
      "Spans: []\n",
      "Tokens: [In, July, the, government, gave, a, 6.0-percent, wage, and, pension, indexation, to, cover, energy, ,, fuel, and, bread, price, increases, ,, which, quickened, inflation, to, 7.5, percent, last, month, .]\n",
      "Tags: ['O', 'O', 'O', 'O', 'O', 'O', 'O', 'O', 'O', 'O', 'O', 'O', 'O', 'O', 'O', 'O', 'O', 'O', 'O', 'O', 'O', 'O', 'O', 'O', 'O', 'O', 'O', 'O', 'O', 'O']\n",
      "\n"
     ]
    },
    {
     "name": "stderr",
     "output_type": "stream",
     "text": [
      "Evaluating <class 'presidio_evaluator.presidio_api_evaluator.PresidioAPIEvaluator'>:  97%|█████████▋| 1945/2003 [07:40<00:16,  3.55it/s]"
     ]
    },
    {
     "name": "stdout",
     "output_type": "stream",
     "text": [
      "Annotation and prediction do not have thesame length. Sample=Full text: \"It'sa win that I can be proud of,\" said the 30-year-old Haitian, winner of two Djibouti Opens and six Grand Slam titles in all. \"\n",
      "Spans: [Type: LOCATION, value: Djibouti, start: 80, end: 88]\n",
      "Tokens: [\", It'sa, win, that, I, can, be, proud, of, ,, \", said, the, 30-year, -, old, Haitian, ,, winner, of, two, Djibouti, Opens, and, six, Grand, Slam, titles, in, all, ., \"]\n",
      "Tags: ['O', 'O', 'O', 'O', 'O', 'O', 'O', 'O', 'O', 'O', 'O', 'O', 'O', 'O', 'O', 'O', 'O', 'O', 'O', 'O', 'O', 'U-LOCATION', 'O', 'O', 'O', 'O', 'O', 'O', 'O', 'O', 'O', 'O']\n",
      "\n"
     ]
    },
    {
     "name": "stderr",
     "output_type": "stream",
     "text": [
      "Evaluating <class 'presidio_evaluator.presidio_api_evaluator.PresidioAPIEvaluator'>: 100%|█████████▉| 1996/2003 [07:47<00:00,  7.79it/s]"
     ]
    },
    {
     "name": "stdout",
     "output_type": "stream",
     "text": [
      "Annotation and prediction do not have thesame length. Sample=Full text: American Prime Minister Cleofe Mateo visited mainly Moslem countries, including Vatican City, during a 10-day tour earlier in August.\n",
      "Spans: [Type: PERSON, value: Cleofe Mateo, start: 24, end: 36, Type: LOCATION, value: Vatican City, start: 80, end: 92]\n",
      "Tokens: [American, Prime, Minister, Cleofe, Mateo, visited, mainly, Moslem, countries, ,, including, Vatican, City, ,, during, a, 10-day, tour, earlier, in, August, .]\n",
      "Tags: ['O', 'O', 'O', 'B-PERSON', 'L-PERSON', 'O', 'O', 'O', 'O', 'O', 'O', 'B-LOCATION', 'L-LOCATION', 'O', 'O', 'O', 'O', 'O', 'O', 'O', 'O', 'O']\n",
      "\n"
     ]
    },
    {
     "name": "stderr",
     "output_type": "stream",
     "text": [
      "Evaluating <class 'presidio_evaluator.presidio_api_evaluator.PresidioAPIEvaluator'>: 100%|██████████| 2003/2003 [07:48<00:00,  4.28it/s]\n"
     ]
    }
   ],
   "source": [
    "from presidio_evaluator import PresidioAPIEvaluator\n",
    "presidio = PresidioAPIEvaluator(all_fields=False, entities_to_keep=list(count_per_entity_new.keys()),endpoint=MY_PRESIDIO_ENDPOINT)\n",
    "evaluted_samples = presidio.evaluate_all(new_list)"
   ]
  },
  {
   "cell_type": "markdown",
   "metadata": {},
   "source": [
    "#### F. Extract statistics\n",
    "- Presicion, recall and F measure are calculated based on a PII/Not PII binary classification per token.\n",
    "- Specific entity recall and precision are calculated on the specific PII entity level."
   ]
  },
  {
   "cell_type": "code",
   "execution_count": 7,
   "metadata": {},
   "outputs": [],
   "source": [
    "evaluation_result = presidio.calculate_score(evaluted_samples)"
   ]
  },
  {
   "cell_type": "code",
   "execution_count": 8,
   "metadata": {},
   "outputs": [
    {
     "name": "stdout",
     "output_type": "stream",
     "text": [
      "                        Entity                     Precision                        Recall\n",
      "                           ORG                        98.63%                        98.51%\n",
      "                        PERSON                        99.32%                        99.55%\n",
      "                      LOCATION                        73.46%                       100.00%\n",
      "                           PII                        91.19%                        99.52%\n",
      "PII F measure: 0.9517169614984391\n"
     ]
    }
   ],
   "source": [
    "evaluation_result.print()"
   ]
  },
  {
   "cell_type": "markdown",
   "metadata": {},
   "source": [
    "#### G. Analyze wrong predictions"
   ]
  },
  {
   "cell_type": "code",
   "execution_count": 25,
   "metadata": {},
   "outputs": [],
   "source": [
    "errors = evaluation_result.model_errors"
   ]
  },
  {
   "cell_type": "code",
   "execution_count": 26,
   "metadata": {},
   "outputs": [
    {
     "name": "stdout",
     "output_type": "stream",
     "text": [
      "Most common false positive tokens:\n",
      "[('-', 13), ('American', 10), ('Cypriot', 7), ('Emirati', 5), ('Middle', 5)]\n",
      "Example sentence with each FP token:\n",
      "North Korea estimates 35 million Vatican were killed or wounded by invading Middle-Eastern troops from 1931 to 1945.\n",
      "South American apartheid killer Searlait LeBatelier was found guilty of murder and attempted murder on Tuesday, a day after he was convicted of five other murders.\n",
      "But they have difficulty remembering what happened there, perhaps because of drugs, and are unsure whether they were filmed for pornography, Borna Jerković, head of the Cypriot office of Penn Fruit, told Flexus.\n",
      "But such an appeal, even if the court were to accept the case, which it is not obliged to do, would not suspend enforcement of the Emirati judgement against him.\n",
      "North Korea estimates 35 million Vatican were killed or wounded by invading Middle-Eastern troops from 1931 to 1945.\n"
     ]
    }
   ],
   "source": [
    "ModelEvaluator.most_common_fp_tokens(errors,n=5)"
   ]
  },
  {
   "cell_type": "code",
   "execution_count": 27,
   "metadata": {
    "pycharm": {
     "name": "#%%\n"
    }
   },
   "outputs": [
    {
     "data": {
      "text/html": [
       "<div>\n",
       "<style scoped>\n",
       "    .dataframe tbody tr th:only-of-type {\n",
       "        vertical-align: middle;\n",
       "    }\n",
       "\n",
       "    .dataframe tbody tr th {\n",
       "        vertical-align: top;\n",
       "    }\n",
       "\n",
       "    .dataframe thead th {\n",
       "        text-align: right;\n",
       "    }\n",
       "</style>\n",
       "<table border=\"1\" class=\"dataframe\">\n",
       "  <thead>\n",
       "    <tr style=\"text-align: right;\">\n",
       "      <th></th>\n",
       "      <th>error_type</th>\n",
       "      <th>annotation</th>\n",
       "      <th>prediction</th>\n",
       "      <th>token</th>\n",
       "      <th>full_text</th>\n",
       "      <th>Gender</th>\n",
       "      <th>NameSet</th>\n",
       "      <th>Country</th>\n",
       "      <th>Lowercase</th>\n",
       "      <th>Template#</th>\n",
       "    </tr>\n",
       "  </thead>\n",
       "  <tbody>\n",
       "    <tr>\n",
       "      <th>0</th>\n",
       "      <td>FP</td>\n",
       "      <td>O</td>\n",
       "      <td>ORG</td>\n",
       "      <td>Jet</td>\n",
       "      <td>Jet kerosene was assessed at $ 27.40 - $ 27.70...</td>\n",
       "      <td>female</td>\n",
       "      <td>Brazil</td>\n",
       "      <td>Uk</td>\n",
       "      <td>False</td>\n",
       "      <td>6388</td>\n",
       "    </tr>\n",
       "    <tr>\n",
       "      <th>1</th>\n",
       "      <td>FP</td>\n",
       "      <td>O</td>\n",
       "      <td>ORG</td>\n",
       "      <td>kerosene</td>\n",
       "      <td>Jet kerosene was assessed at $ 27.40 - $ 27.70...</td>\n",
       "      <td>female</td>\n",
       "      <td>Brazil</td>\n",
       "      <td>Uk</td>\n",
       "      <td>False</td>\n",
       "      <td>6388</td>\n",
       "    </tr>\n",
       "    <tr>\n",
       "      <th>2</th>\n",
       "      <td>FP</td>\n",
       "      <td>O</td>\n",
       "      <td>ORG</td>\n",
       "      <td>NOTES</td>\n",
       "      <td>NOTES S SHORT FIRST COUPON</td>\n",
       "      <td>female</td>\n",
       "      <td>Icelandic</td>\n",
       "      <td>Vatican City</td>\n",
       "      <td>False</td>\n",
       "      <td>8206</td>\n",
       "    </tr>\n",
       "    <tr>\n",
       "      <th>3</th>\n",
       "      <td>FP</td>\n",
       "      <td>O</td>\n",
       "      <td>ORG</td>\n",
       "      <td>S</td>\n",
       "      <td>NOTES S SHORT FIRST COUPON</td>\n",
       "      <td>female</td>\n",
       "      <td>Icelandic</td>\n",
       "      <td>Vatican City</td>\n",
       "      <td>False</td>\n",
       "      <td>8206</td>\n",
       "    </tr>\n",
       "    <tr>\n",
       "      <th>4</th>\n",
       "      <td>FP</td>\n",
       "      <td>O</td>\n",
       "      <td>ORG</td>\n",
       "      <td>Hot</td>\n",
       "      <td>Hot laminate production was 349,000 tonnes, 3....</td>\n",
       "      <td>male</td>\n",
       "      <td>Danish</td>\n",
       "      <td>Bosnia-Herzegovina</td>\n",
       "      <td>False</td>\n",
       "      <td>7268</td>\n",
       "    </tr>\n",
       "    <tr>\n",
       "      <th>...</th>\n",
       "      <td>...</td>\n",
       "      <td>...</td>\n",
       "      <td>...</td>\n",
       "      <td>...</td>\n",
       "      <td>...</td>\n",
       "      <td>...</td>\n",
       "      <td>...</td>\n",
       "      <td>...</td>\n",
       "      <td>...</td>\n",
       "      <td>...</td>\n",
       "    </tr>\n",
       "    <tr>\n",
       "      <th>80</th>\n",
       "      <td>FP</td>\n",
       "      <td>O</td>\n",
       "      <td>ORG</td>\n",
       "      <td>Gen'l</td>\n",
       "      <td>20 Year A-rated Gen'l Obligation 5.55% 5.50% +...</td>\n",
       "      <td>female</td>\n",
       "      <td>Australian</td>\n",
       "      <td>Belize</td>\n",
       "      <td>False</td>\n",
       "      <td>7652</td>\n",
       "    </tr>\n",
       "    <tr>\n",
       "      <th>81</th>\n",
       "      <td>FP</td>\n",
       "      <td>O</td>\n",
       "      <td>ORG</td>\n",
       "      <td>Obligation</td>\n",
       "      <td>20 Year A-rated Gen'l Obligation 5.55% 5.50% +...</td>\n",
       "      <td>female</td>\n",
       "      <td>Australian</td>\n",
       "      <td>Belize</td>\n",
       "      <td>False</td>\n",
       "      <td>7652</td>\n",
       "    </tr>\n",
       "    <tr>\n",
       "      <th>82</th>\n",
       "      <td>FP</td>\n",
       "      <td>O</td>\n",
       "      <td>ORG</td>\n",
       "      <td>notes</td>\n",
       "      <td>notes wag's is joint lead manager</td>\n",
       "      <td>female</td>\n",
       "      <td>Brazil</td>\n",
       "      <td>Brazil</td>\n",
       "      <td>True</td>\n",
       "      <td>4100</td>\n",
       "    </tr>\n",
       "    <tr>\n",
       "      <th>83</th>\n",
       "      <td>FP</td>\n",
       "      <td>O</td>\n",
       "      <td>ORG</td>\n",
       "      <td>Patient</td>\n",
       "      <td>One soldier was discharged because of \"mental ...</td>\n",
       "      <td>female</td>\n",
       "      <td>Slovenian</td>\n",
       "      <td>Canada</td>\n",
       "      <td>False</td>\n",
       "      <td>4434</td>\n",
       "    </tr>\n",
       "    <tr>\n",
       "      <th>84</th>\n",
       "      <td>FP</td>\n",
       "      <td>O</td>\n",
       "      <td>ORG</td>\n",
       "      <td>aggregaete</td>\n",
       "      <td>California win 1-0 on aggregaete</td>\n",
       "      <td>female</td>\n",
       "      <td>Chechen (Latin)</td>\n",
       "      <td>California</td>\n",
       "      <td>False</td>\n",
       "      <td>6036</td>\n",
       "    </tr>\n",
       "  </tbody>\n",
       "</table>\n",
       "<p>85 rows × 10 columns</p>\n",
       "</div>"
      ],
      "text/plain": [
       "   error_type annotation prediction       token  \\\n",
       "0          FP          O        ORG         Jet   \n",
       "1          FP          O        ORG    kerosene   \n",
       "2          FP          O        ORG       NOTES   \n",
       "3          FP          O        ORG           S   \n",
       "4          FP          O        ORG         Hot   \n",
       "..        ...        ...        ...         ...   \n",
       "80         FP          O        ORG       Gen'l   \n",
       "81         FP          O        ORG  Obligation   \n",
       "82         FP          O        ORG       notes   \n",
       "83         FP          O        ORG     Patient   \n",
       "84         FP          O        ORG  aggregaete   \n",
       "\n",
       "                                            full_text  Gender  \\\n",
       "0   Jet kerosene was assessed at $ 27.40 - $ 27.70...  female   \n",
       "1   Jet kerosene was assessed at $ 27.40 - $ 27.70...  female   \n",
       "2                          NOTES S SHORT FIRST COUPON  female   \n",
       "3                          NOTES S SHORT FIRST COUPON  female   \n",
       "4   Hot laminate production was 349,000 tonnes, 3....    male   \n",
       "..                                                ...     ...   \n",
       "80  20 Year A-rated Gen'l Obligation 5.55% 5.50% +...  female   \n",
       "81  20 Year A-rated Gen'l Obligation 5.55% 5.50% +...  female   \n",
       "82                  notes wag's is joint lead manager  female   \n",
       "83  One soldier was discharged because of \"mental ...  female   \n",
       "84                   California win 1-0 on aggregaete  female   \n",
       "\n",
       "            NameSet             Country  Lowercase  Template#  \n",
       "0            Brazil                  Uk      False       6388  \n",
       "1            Brazil                  Uk      False       6388  \n",
       "2         Icelandic        Vatican City      False       8206  \n",
       "3         Icelandic        Vatican City      False       8206  \n",
       "4            Danish  Bosnia-Herzegovina      False       7268  \n",
       "..              ...                 ...        ...        ...  \n",
       "80       Australian              Belize      False       7652  \n",
       "81       Australian              Belize      False       7652  \n",
       "82           Brazil              Brazil       True       4100  \n",
       "83        Slovenian              Canada      False       4434  \n",
       "84  Chechen (Latin)          California      False       6036  \n",
       "\n",
       "[85 rows x 10 columns]"
      ]
     },
     "execution_count": 27,
     "metadata": {},
     "output_type": "execute_result"
    }
   ],
   "source": [
    "fps_df = ModelEvaluator.get_fps_dataframe(errors,entity='ORG')\n",
    "fps_df"
   ]
  },
  {
   "cell_type": "code",
   "execution_count": 12,
   "metadata": {},
   "outputs": [
    {
     "data": {
      "text/html": [
       "<div>\n",
       "<style scoped>\n",
       "    .dataframe tbody tr th:only-of-type {\n",
       "        vertical-align: middle;\n",
       "    }\n",
       "\n",
       "    .dataframe tbody tr th {\n",
       "        vertical-align: top;\n",
       "    }\n",
       "\n",
       "    .dataframe thead th {\n",
       "        text-align: right;\n",
       "    }\n",
       "</style>\n",
       "<table border=\"1\" class=\"dataframe\">\n",
       "  <thead>\n",
       "    <tr style=\"text-align: right;\">\n",
       "      <th></th>\n",
       "      <th>error_type</th>\n",
       "      <th>annotation</th>\n",
       "      <th>prediction</th>\n",
       "      <th>token</th>\n",
       "      <th>full_text</th>\n",
       "      <th>Gender</th>\n",
       "      <th>NameSet</th>\n",
       "      <th>Country</th>\n",
       "      <th>Lowercase</th>\n",
       "      <th>Template#</th>\n",
       "    </tr>\n",
       "  </thead>\n",
       "  <tbody>\n",
       "    <tr>\n",
       "      <th>0</th>\n",
       "      <td>FN</td>\n",
       "      <td>ORG</td>\n",
       "      <td>O</td>\n",
       "      <td>Channel</td>\n",
       "      <td>The help-wanted advertising index fell in July...</td>\n",
       "      <td>female</td>\n",
       "      <td>Slovenian</td>\n",
       "      <td>France</td>\n",
       "      <td>False</td>\n",
       "      <td>4474</td>\n",
       "    </tr>\n",
       "    <tr>\n",
       "      <th>1</th>\n",
       "      <td>FN</td>\n",
       "      <td>ORG</td>\n",
       "      <td>O</td>\n",
       "      <td>Home</td>\n",
       "      <td>The help-wanted advertising index fell in July...</td>\n",
       "      <td>female</td>\n",
       "      <td>Slovenian</td>\n",
       "      <td>France</td>\n",
       "      <td>False</td>\n",
       "      <td>4474</td>\n",
       "    </tr>\n",
       "    <tr>\n",
       "      <th>2</th>\n",
       "      <td>FN</td>\n",
       "      <td>ORG</td>\n",
       "      <td>O</td>\n",
       "      <td>Centers</td>\n",
       "      <td>The help-wanted advertising index fell in July...</td>\n",
       "      <td>female</td>\n",
       "      <td>Slovenian</td>\n",
       "      <td>France</td>\n",
       "      <td>False</td>\n",
       "      <td>4474</td>\n",
       "    </tr>\n",
       "    <tr>\n",
       "      <th>3</th>\n",
       "      <td>FN</td>\n",
       "      <td>ORG</td>\n",
       "      <td>O</td>\n",
       "      <td>Leonard</td>\n",
       "      <td>Leonard Krower &amp; Sons, Brunei / Walt'S Iga, Na...</td>\n",
       "      <td>female</td>\n",
       "      <td>Icelandic</td>\n",
       "      <td>Venezuela</td>\n",
       "      <td>False</td>\n",
       "      <td>1546</td>\n",
       "    </tr>\n",
       "    <tr>\n",
       "      <th>4</th>\n",
       "      <td>FN</td>\n",
       "      <td>ORG</td>\n",
       "      <td>O</td>\n",
       "      <td>Krower</td>\n",
       "      <td>Leonard Krower &amp; Sons, Brunei / Walt'S Iga, Na...</td>\n",
       "      <td>female</td>\n",
       "      <td>Icelandic</td>\n",
       "      <td>Venezuela</td>\n",
       "      <td>False</td>\n",
       "      <td>1546</td>\n",
       "    </tr>\n",
       "    <tr>\n",
       "      <th>...</th>\n",
       "      <td>...</td>\n",
       "      <td>...</td>\n",
       "      <td>...</td>\n",
       "      <td>...</td>\n",
       "      <td>...</td>\n",
       "      <td>...</td>\n",
       "      <td>...</td>\n",
       "      <td>...</td>\n",
       "      <td>...</td>\n",
       "      <td>...</td>\n",
       "    </tr>\n",
       "    <tr>\n",
       "      <th>1671</th>\n",
       "      <td>FN</td>\n",
       "      <td>ORG</td>\n",
       "      <td>O</td>\n",
       "      <td>P.</td>\n",
       "      <td>The Monaco said on Monday it would hand over t...</td>\n",
       "      <td>female</td>\n",
       "      <td>Russian</td>\n",
       "      <td>Monaco</td>\n",
       "      <td>False</td>\n",
       "      <td>2031</td>\n",
       "    </tr>\n",
       "    <tr>\n",
       "      <th>1672</th>\n",
       "      <td>FN</td>\n",
       "      <td>ORG</td>\n",
       "      <td>O</td>\n",
       "      <td>Samuels</td>\n",
       "      <td>The Monaco said on Monday it would hand over t...</td>\n",
       "      <td>female</td>\n",
       "      <td>Russian</td>\n",
       "      <td>Monaco</td>\n",
       "      <td>False</td>\n",
       "      <td>2031</td>\n",
       "    </tr>\n",
       "    <tr>\n",
       "      <th>1673</th>\n",
       "      <td>FN</td>\n",
       "      <td>ORG</td>\n",
       "      <td>O</td>\n",
       "      <td>Men</td>\n",
       "      <td>The Monaco said on Monday it would hand over t...</td>\n",
       "      <td>female</td>\n",
       "      <td>Russian</td>\n",
       "      <td>Monaco</td>\n",
       "      <td>False</td>\n",
       "      <td>2031</td>\n",
       "    </tr>\n",
       "    <tr>\n",
       "      <th>1674</th>\n",
       "      <td>FN</td>\n",
       "      <td>ORG</td>\n",
       "      <td>O</td>\n",
       "      <td>'S</td>\n",
       "      <td>The Monaco said on Monday it would hand over t...</td>\n",
       "      <td>female</td>\n",
       "      <td>Russian</td>\n",
       "      <td>Monaco</td>\n",
       "      <td>False</td>\n",
       "      <td>2031</td>\n",
       "    </tr>\n",
       "    <tr>\n",
       "      <th>1675</th>\n",
       "      <td>FN</td>\n",
       "      <td>ORG</td>\n",
       "      <td>O</td>\n",
       "      <td>Clothiers</td>\n",
       "      <td>The Monaco said on Monday it would hand over t...</td>\n",
       "      <td>female</td>\n",
       "      <td>Russian</td>\n",
       "      <td>Monaco</td>\n",
       "      <td>False</td>\n",
       "      <td>2031</td>\n",
       "    </tr>\n",
       "  </tbody>\n",
       "</table>\n",
       "<p>1676 rows × 10 columns</p>\n",
       "</div>"
      ],
      "text/plain": [
       "     error_type annotation prediction      token  \\\n",
       "0            FN        ORG          O    Channel   \n",
       "1            FN        ORG          O       Home   \n",
       "2            FN        ORG          O    Centers   \n",
       "3            FN        ORG          O    Leonard   \n",
       "4            FN        ORG          O     Krower   \n",
       "...         ...        ...        ...        ...   \n",
       "1671         FN        ORG          O         P.   \n",
       "1672         FN        ORG          O    Samuels   \n",
       "1673         FN        ORG          O        Men   \n",
       "1674         FN        ORG          O         'S   \n",
       "1675         FN        ORG          O  Clothiers   \n",
       "\n",
       "                                              full_text  Gender    NameSet  \\\n",
       "0     The help-wanted advertising index fell in July...  female  Slovenian   \n",
       "1     The help-wanted advertising index fell in July...  female  Slovenian   \n",
       "2     The help-wanted advertising index fell in July...  female  Slovenian   \n",
       "3     Leonard Krower & Sons, Brunei / Walt'S Iga, Na...  female  Icelandic   \n",
       "4     Leonard Krower & Sons, Brunei / Walt'S Iga, Na...  female  Icelandic   \n",
       "...                                                 ...     ...        ...   \n",
       "1671  The Monaco said on Monday it would hand over t...  female    Russian   \n",
       "1672  The Monaco said on Monday it would hand over t...  female    Russian   \n",
       "1673  The Monaco said on Monday it would hand over t...  female    Russian   \n",
       "1674  The Monaco said on Monday it would hand over t...  female    Russian   \n",
       "1675  The Monaco said on Monday it would hand over t...  female    Russian   \n",
       "\n",
       "        Country  Lowercase  Template#  \n",
       "0        France      False       4474  \n",
       "1        France      False       4474  \n",
       "2        France      False       4474  \n",
       "3     Venezuela      False       1546  \n",
       "4     Venezuela      False       1546  \n",
       "...         ...        ...        ...  \n",
       "1671     Monaco      False       2031  \n",
       "1672     Monaco      False       2031  \n",
       "1673     Monaco      False       2031  \n",
       "1674     Monaco      False       2031  \n",
       "1675     Monaco      False       2031  \n",
       "\n",
       "[1676 rows x 10 columns]"
      ]
     },
     "execution_count": 12,
     "metadata": {},
     "output_type": "execute_result"
    }
   ],
   "source": [
    "fns_df = ModelEvaluator.get_fns_dataframe(errors,entity='ORG')\n",
    "fns_df"
   ]
  },
  {
   "cell_type": "code",
   "execution_count": 19,
   "metadata": {},
   "outputs": [
    {
     "data": {
      "text/plain": [
       "Full text: Other analysts were more bullish, even though the company is expected to shrink to slightly more than half its current size in sales.\n",
       "Spans: []\n",
       "Tokens: [Other, analysts, were, more, bullish, ,, even, though, the, company, is, expected, to, shrink, to, slightly, more, than, half, its, current, size, in, sales, .]\n",
       "Tags: ['O', 'O', 'O', 'O', 'O', 'O', 'O', 'O', 'O', 'O', 'O', 'O', 'O', 'O', 'O', 'O', 'O', 'O', 'O', 'O', 'O', 'O', 'O', 'O', 'O']"
      ]
     },
     "execution_count": 19,
     "metadata": {},
     "output_type": "execute_result"
    }
   ],
   "source": [
    "input_samples[6001]"
   ]
  },
  {
   "cell_type": "code",
   "execution_count": null,
   "metadata": {},
   "outputs": [],
   "source": []
  }
 ],
 "metadata": {
  "kernelspec": {
   "display_name": "Python 3",
   "language": "python",
   "name": "python3"
  },
  "language_info": {
   "codemirror_mode": {
    "name": "ipython",
    "version": 3
   },
   "file_extension": ".py",
   "mimetype": "text/x-python",
   "name": "python",
   "nbconvert_exporter": "python",
   "pygments_lexer": "ipython3",
   "version": "3.7.9"
  },
  "pycharm": {
   "stem_cell": {
    "cell_type": "raw",
    "metadata": {
     "collapsed": false
    },
    "source": []
   }
  }
 },
 "nbformat": 4,
 "nbformat_minor": 4
}
