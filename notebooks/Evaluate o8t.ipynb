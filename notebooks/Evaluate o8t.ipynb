{
 "cells": [
  {
   "cell_type": "code",
   "execution_count": 187,
   "metadata": {},
   "outputs": [],
   "source": [
    "import json\n",
    "import re"
   ]
  },
  {
   "cell_type": "code",
   "execution_count": 188,
   "metadata": {},
   "outputs": [],
   "source": [
    "pii_clean_file_path = '../../nlp-assets/resources/pipeline_test_case_gen/out/synth_dataset_date_piiclean.json'\n",
    "source_file_path = '../../presidio-research/data/synth_dataset.json'\n",
    "\n",
    "anonymized_pattern = r\"(?:-{2,}\\s?)+(?<!\\s)\""
   ]
  },
  {
   "cell_type": "code",
   "execution_count": 189,
   "metadata": {},
   "outputs": [],
   "source": [
    "with open (pii_clean_file_path) as f:\n",
    "    clean_file = json.load(f)"
   ]
  },
  {
   "cell_type": "code",
   "execution_count": 190,
   "metadata": {},
   "outputs": [],
   "source": [
    "with open(source_file_path) as f:\n",
    "    source_file = json.load(f)"
   ]
  },
  {
   "cell_type": "code",
   "execution_count": 191,
   "metadata": {},
   "outputs": [],
   "source": [
    "anonymized_content = clean_file['anonymized_content']"
   ]
  },
  {
   "cell_type": "code",
   "execution_count": 192,
   "metadata": {},
   "outputs": [],
   "source": [
    "assert(len(anonymized_content)) == len(source_file)"
   ]
  },
  {
   "cell_type": "code",
   "execution_count": 193,
   "metadata": {},
   "outputs": [
    {
     "data": {
      "text/plain": [
       "(299, 299)"
      ]
     },
     "execution_count": 193,
     "metadata": {},
     "output_type": "execute_result"
    }
   ],
   "source": [
    "len(anonymized_content), len(source_file)"
   ]
  },
  {
   "cell_type": "code",
   "execution_count": 195,
   "metadata": {},
   "outputs": [
    {
     "data": {
      "text/plain": [
       "\"My card -----------47413 is expiring this month. Please let me know process to it's extend validity.\""
      ]
     },
     "execution_count": 195,
     "metadata": {},
     "output_type": "execute_result"
    }
   ],
   "source": [
    "anonymized_content[17]"
   ]
  },
  {
   "cell_type": "code",
   "execution_count": 196,
   "metadata": {},
   "outputs": [
    {
     "data": {
      "text/plain": [
       "[{'entity_type': 'CREDIT_CARD',\n",
       "  'entity_value': '4916843781747413',\n",
       "  'start_position': 8,\n",
       "  'end_position': 24}]"
      ]
     },
     "execution_count": 196,
     "metadata": {},
     "output_type": "execute_result"
    }
   ],
   "source": [
    "source_file[17]['spans']"
   ]
  },
  {
   "cell_type": "markdown",
   "metadata": {},
   "source": [
    "## Check the overall Accuracy, Precision, Recall and F1"
   ]
  },
  {
   "cell_type": "code",
   "execution_count": 197,
   "metadata": {},
   "outputs": [],
   "source": [
    "ground_truth_entities = {}\n",
    "correct_entities = {}\n",
    "num_ground_truth = 0\n",
    "num_predictions = 0\n",
    "num_correct_predictions = 0\n",
    "num_correct_predictions_by_entity_types = {}\n",
    "\n",
    "for x in range(len(anonymized_content)):\n",
    "    anon_text = anonymized_content[x]\n",
    "    detected_spans = list(re.finditer(anonymized_pattern, anon_text))\n",
    "    spans = source_file[x]['spans']\n",
    "    \n",
    "    num_ground_truth += len(spans)\n",
    "    num_predictions += len(detected_spans)\n",
    "    \n",
    "    for s in spans:    \n",
    "        if s['entity_type'] in ground_truth_entities:\n",
    "            ground_truth_entities[s['entity_type']] += 1\n",
    "        else:\n",
    "            ground_truth_entities[s['entity_type']] = 1\n",
    "        \n",
    "        found = False\n",
    "        \n",
    "        for predicted in detected_spans:\n",
    "            if s['start_position'] == predicted.span()[0] and s['end_position'] == predicted.span()[1]:\n",
    "                found = True\n",
    "                num_correct_predictions += 1\n",
    "                if s['entity_type'] in num_correct_predictions_by_entity_types:\n",
    "                    num_correct_predictions_by_entity_types[s['entity_type']] += 1\n",
    "                else:\n",
    "                    num_correct_predictions_by_entity_types[s['entity_type']] = 1\n",
    "                break"
   ]
  },
  {
   "cell_type": "code",
   "execution_count": 198,
   "metadata": {},
   "outputs": [
    {
     "data": {
      "text/plain": [
       "(390, 228)"
      ]
     },
     "execution_count": 198,
     "metadata": {},
     "output_type": "execute_result"
    }
   ],
   "source": [
    "num_ground_truth, num_predictions"
   ]
  },
  {
   "cell_type": "code",
   "execution_count": 199,
   "metadata": {},
   "outputs": [
    {
     "data": {
      "text/plain": [
       "({'PERSON': 174,\n",
       "  'CREDIT_CARD': 49,\n",
       "  'LOCATION': 75,\n",
       "  'ORGANIZATION': 48,\n",
       "  'US_SSN': 1,\n",
       "  'EMAIL': 11,\n",
       "  'BIRTHDAY': 4,\n",
       "  'TITLE': 4,\n",
       "  'URL': 8,\n",
       "  'PHONE_NUMBER': 9,\n",
       "  'IP_ADDRESS': 3,\n",
       "  'IBAN': 3,\n",
       "  'NATIONALITY': 1},\n",
       " {'PERSON': 47,\n",
       "  'EMAIL': 8,\n",
       "  'LOCATION': 4,\n",
       "  'BIRTHDAY': 3,\n",
       "  'PHONE_NUMBER': 3,\n",
       "  'ORGANIZATION': 1})"
      ]
     },
     "execution_count": 199,
     "metadata": {},
     "output_type": "execute_result"
    }
   ],
   "source": [
    "ground_truth_entities, num_correct_predictions_by_entity_types"
   ]
  },
  {
   "cell_type": "code",
   "execution_count": 200,
   "metadata": {},
   "outputs": [
    {
     "data": {
      "text/plain": [
       "66"
      ]
     },
     "execution_count": 200,
     "metadata": {},
     "output_type": "execute_result"
    }
   ],
   "source": [
    "num_correct_predictions"
   ]
  },
  {
   "cell_type": "code",
   "execution_count": 201,
   "metadata": {},
   "outputs": [],
   "source": [
    "recall = num_correct_predictions / num_ground_truth"
   ]
  },
  {
   "cell_type": "code",
   "execution_count": 202,
   "metadata": {},
   "outputs": [],
   "source": [
    "precision = num_correct_predictions / num_predictions"
   ]
  },
  {
   "cell_type": "code",
   "execution_count": 203,
   "metadata": {},
   "outputs": [],
   "source": [
    "F = 2 * (precision * recall) / (precision + recall)"
   ]
  },
  {
   "cell_type": "markdown",
   "metadata": {},
   "source": [
    "### Because we are only predicting what are the PIIs but we don't predict what are NOT PIIs, so recall is actually accuracy"
   ]
  },
  {
   "cell_type": "code",
   "execution_count": 204,
   "metadata": {},
   "outputs": [
    {
     "data": {
      "text/plain": [
       "(0.16923076923076924, 0.2894736842105263, 0.21359223300970875)"
      ]
     },
     "execution_count": 204,
     "metadata": {},
     "output_type": "execute_result"
    }
   ],
   "source": [
    "recall, precision, F"
   ]
  },
  {
   "cell_type": "code",
   "execution_count": null,
   "metadata": {},
   "outputs": [],
   "source": []
  }
 ],
 "metadata": {
  "kernelspec": {
   "display_name": "Python 3",
   "language": "python",
   "name": "python3"
  },
  "language_info": {
   "codemirror_mode": {
    "name": "ipython",
    "version": 3
   },
   "file_extension": ".py",
   "mimetype": "text/x-python",
   "name": "python",
   "nbconvert_exporter": "python",
   "pygments_lexer": "ipython3",
   "version": "3.7.7"
  }
 },
 "nbformat": 4,
 "nbformat_minor": 4
}
