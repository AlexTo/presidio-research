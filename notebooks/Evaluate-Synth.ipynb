{
 "cells": [
  {
   "cell_type": "code",
   "execution_count": 63,
   "metadata": {
    "pycharm": {
     "is_executing": true
    }
   },
   "outputs": [
    {
     "name": "stdout",
     "output_type": "stream",
     "text": [
      "The autoreload extension is already loaded. To reload it, use:\n",
      "  %reload_ext autoreload\n"
     ]
    }
   ],
   "source": [
    "from presidio_evaluator.data_generator import read_synth_dataset\n",
    "from presidio_evaluator import ModelEvaluator\n",
    "from collections import Counter\n",
    "\n",
    "%load_ext autoreload\n",
    "%autoreload 2\n",
    "\n",
    "MY_PRESIDIO_ENDPOINT = \"http://localhost:8080/api/v1/projects/test/analyze\""
   ]
  },
  {
   "cell_type": "markdown",
   "metadata": {},
   "source": [
    "## Evaluate your Presidio instance via the Presidio API"
   ]
  },
  {
   "cell_type": "markdown",
   "metadata": {},
   "source": [
    "#### A. Read dataset for evaluation"
   ]
  },
  {
   "cell_type": "code",
   "execution_count": 92,
   "metadata": {
    "pycharm": {
     "is_executing": true
    }
   },
   "outputs": [
    {
     "name": "stdout",
     "output_type": "stream",
     "text": [
      "Read 60 samples\n"
     ]
    }
   ],
   "source": [
    "input_samples = read_synth_dataset(\"../data/Synth/synth_test.json\")\n",
    "print(\"Read {} samples\".format(len(input_samples)))"
   ]
  },
  {
   "cell_type": "markdown",
   "metadata": {},
   "source": [
    "#### B. Descriptive statistics"
   ]
  },
  {
   "cell_type": "code",
   "execution_count": 93,
   "metadata": {
    "pycharm": {
     "is_executing": true
    }
   },
   "outputs": [
    {
     "data": {
      "text/plain": [
       "Counter({'CREDIT_CARD': 12,\n",
       "         'PHONE_NUMBER': 4,\n",
       "         'PERSON': 31,\n",
       "         'URL': 4,\n",
       "         'LOCATION': 16,\n",
       "         'IBAN': 1,\n",
       "         'BIRTHDAY': 2})"
      ]
     },
     "execution_count": 93,
     "metadata": {},
     "output_type": "execute_result"
    }
   ],
   "source": [
    "flatten = lambda l: [item for sublist in l for item in sublist]\n",
    "\n",
    "count_per_entity = Counter([span.entity_type for span in flatten([input_sample.spans for input_sample in input_samples])])\n",
    "count_per_entity"
   ]
  },
  {
   "cell_type": "markdown",
   "metadata": {},
   "source": [
    "#### C. Match the dataset's entity names with Presidio's entity names"
   ]
  },
  {
   "cell_type": "code",
   "execution_count": 94,
   "metadata": {},
   "outputs": [],
   "source": [
    "# Mapping between dataset entities and Presidio entities. Key: Dataset entity, Value: Presidio entity\n",
    "entities_mapping = {\n",
    "    'PERSON': 'PERSON',\n",
    "    'CREDIT_CARD': 'CREDIT_CARD',\n",
    "    'LOCATION':'LOCATION',\n",
    "    'ORGANIZATION':'ORG',\n",
    "    'US_SSN': 'US_SSN',\n",
    "    'EMAIL': 'EMAIL_ADDRESS',\n",
    "    'BIRTHDAY': 'BIRTHDAY',\n",
    "    'URL': 'DOMAIN_NAME',\n",
    "    'PHONE_NUMBER': 'PHONE_NUMBER',\n",
    "    'IP_ADDRESS': 'IP_ADDRESS',\n",
    "    'IBAN': 'IBAN_CODE',\n",
    "    'URL': 'URL',\n",
    "    'O': 'O'\n",
    "}\n",
    "presidio_fields = ['CREDIT_CARD', 'CRYPTO', 'BIRTHDAY', 'DOMAIN_NAME', 'EMAIL_ADDRESS', 'IBAN_CODE', 'ORG', \n",
    "                   'IP_ADDRESS', 'NRP', 'LOCATION', 'PERSON', 'PHONE_NUMBER', 'US_SSN']\n",
    "\n",
    "new_list = ModelEvaluator.align_input_samples_to_presidio_analyzer(input_samples,\n",
    "                                                                   entities_mapping,\n",
    "                                                                   presidio_fields)"
   ]
  },
  {
   "cell_type": "markdown",
   "metadata": {},
   "source": [
    "#### D. Recalculate statistics on updated dataset"
   ]
  },
  {
   "cell_type": "code",
   "execution_count": 88,
   "metadata": {},
   "outputs": [
    {
     "data": {
      "text/plain": [
       "Counter({'PERSON': 174,\n",
       "         'CREDIT_CARD': 49,\n",
       "         'LOCATION': 75,\n",
       "         'ORG': 48,\n",
       "         'US_SSN': 1,\n",
       "         'EMAIL_ADDRESS': 11,\n",
       "         'BIRTHDAY': 4,\n",
       "         'URL': 8,\n",
       "         'PHONE_NUMBER': 9,\n",
       "         'IP_ADDRESS': 3,\n",
       "         'IBAN_CODE': 3})"
      ]
     },
     "execution_count": 88,
     "metadata": {},
     "output_type": "execute_result"
    }
   ],
   "source": [
    "## recheck counter\n",
    "count_per_entity_new = Counter([span.entity_type for span in flatten([input_sample.spans for input_sample in new_list])])\n",
    "count_per_entity_new"
   ]
  },
  {
   "cell_type": "markdown",
   "metadata": {},
   "source": [
    "#### E. Run the presidio-evaluator framework with Presidio's API as the 'model' at test"
   ]
  },
  {
   "cell_type": "code",
   "execution_count": 89,
   "metadata": {},
   "outputs": [
    {
     "name": "stderr",
     "output_type": "stream",
     "text": [
      "Evaluating <class 'presidio_evaluator.presidio_api_evaluator.PresidioAPIEvaluator'>: 100%|██████████| 299/299 [00:31<00:00,  9.37it/s]\n"
     ]
    }
   ],
   "source": [
    "from presidio_evaluator import PresidioAPIEvaluator\n",
    "presidio = PresidioAPIEvaluator(all_fields=False, entities_to_keep=list(count_per_entity_new.keys()),endpoint=MY_PRESIDIO_ENDPOINT)\n",
    "evaluted_samples = presidio.evaluate_all(new_list)"
   ]
  },
  {
   "cell_type": "markdown",
   "metadata": {},
   "source": [
    "#### F. Extract statistics\n",
    "- Presicion, recall and F measure are calculated based on a PII/Not PII binary classification per token.\n",
    "- Specific entity recall and precision are calculated on the specific PII entity level."
   ]
  },
  {
   "cell_type": "code",
   "execution_count": 90,
   "metadata": {},
   "outputs": [],
   "source": [
    "evaluation_result = presidio.calculate_score(evaluted_samples)"
   ]
  },
  {
   "cell_type": "code",
   "execution_count": 95,
   "metadata": {},
   "outputs": [
    {
     "name": "stdout",
     "output_type": "stream",
     "text": [
      "                        Entity                     Precision                        Recall\n",
      "                        PERSON                        90.91%                        74.73%\n",
      "                   CREDIT_CARD                       100.00%                       100.00%\n",
      "                      LOCATION                        62.25%                        31.02%\n",
      "                           ORG                        60.51%                        99.16%\n",
      "                        US_SSN                       100.00%                       100.00%\n",
      "                 EMAIL_ADDRESS                       100.00%                        27.27%\n",
      "                      BIRTHDAY                       100.00%                       100.00%\n",
      "                           URL                          nan%                          nan%\n",
      "                  PHONE_NUMBER                       100.00%                        27.78%\n",
      "                    IP_ADDRESS                       100.00%                       100.00%\n",
      "                     IBAN_CODE                       100.00%                        66.67%\n",
      "                           PII                        87.44%                        70.15%\n",
      "PII F measure: 0.7784594410361282\n"
     ]
    }
   ],
   "source": [
    "evaluation_result.print()"
   ]
  },
  {
   "cell_type": "markdown",
   "metadata": {},
   "source": [
    "#### G. Analyze wrong predictions"
   ]
  },
  {
   "cell_type": "code",
   "execution_count": 96,
   "metadata": {},
   "outputs": [],
   "source": [
    "errors = evaluation_result.model_errors"
   ]
  },
  {
   "cell_type": "code",
   "execution_count": 97,
   "metadata": {},
   "outputs": [
    {
     "name": "stdout",
     "output_type": "stream",
     "text": [
      "Most common false positive tokens:\n",
      "[('American', 7), ('Blink-182', 6), ('pay', 6), ('Fuse', 6), ('TV', 6)]\n",
      "Example sentence with each FP token:\n",
      "From the film American graffiti (also features Ilya Bodrov. What's not to love?\n",
      "Blink-182 pay tribute here to the Mozambique. Producer Devin Berg explained to Fuse TV: \"We all liked the idea of writing a song about our state, where we live and love. To me it's the most beautiful place in the world, this song was us giving credit to how lucky we are to have lived here and grown up here, raising families here, the whole thing.\"\n",
      "Blink-182 pay tribute here to the Mozambique. Producer Devin Berg explained to Fuse TV: \"We all liked the idea of writing a song about our state, where we live and love. To me it's the most beautiful place in the world, this song was us giving credit to how lucky we are to have lived here and grown up here, raising families here, the whole thing.\"\n",
      "Blink-182 pay tribute here to the Mozambique. Producer Devin Berg explained to Fuse TV: \"We all liked the idea of writing a song about our state, where we live and love. To me it's the most beautiful place in the world, this song was us giving credit to how lucky we are to have lived here and grown up here, raising families here, the whole thing.\"\n",
      "Blink-182 pay tribute here to the Mozambique. Producer Devin Berg explained to Fuse TV: \"We all liked the idea of writing a song about our state, where we live and love. To me it's the most beautiful place in the world, this song was us giving credit to how lucky we are to have lived here and grown up here, raising families here, the whole thing.\"\n"
     ]
    }
   ],
   "source": [
    "ModelEvaluator.most_common_fp_tokens(errors,n=5)"
   ]
  },
  {
   "cell_type": "code",
   "execution_count": 98,
   "metadata": {
    "pycharm": {
     "name": "#%%\n"
    }
   },
   "outputs": [
    {
     "data": {
      "text/html": [
       "<div>\n",
       "<style scoped>\n",
       "    .dataframe tbody tr th:only-of-type {\n",
       "        vertical-align: middle;\n",
       "    }\n",
       "\n",
       "    .dataframe tbody tr th {\n",
       "        vertical-align: top;\n",
       "    }\n",
       "\n",
       "    .dataframe thead th {\n",
       "        text-align: right;\n",
       "    }\n",
       "</style>\n",
       "<table border=\"1\" class=\"dataframe\">\n",
       "  <thead>\n",
       "    <tr style=\"text-align: right;\">\n",
       "      <th></th>\n",
       "      <th>error_type</th>\n",
       "      <th>annotation</th>\n",
       "      <th>prediction</th>\n",
       "      <th>token</th>\n",
       "      <th>full_text</th>\n",
       "      <th>Gender</th>\n",
       "      <th>NameSet</th>\n",
       "      <th>Country</th>\n",
       "      <th>Lowercase</th>\n",
       "      <th>Template#</th>\n",
       "    </tr>\n",
       "  </thead>\n",
       "  <tbody>\n",
       "    <tr>\n",
       "      <th>0</th>\n",
       "      <td>FP</td>\n",
       "      <td>O</td>\n",
       "      <td>PERSON</td>\n",
       "      <td>from</td>\n",
       "      <td>I would like to remove my kid Ryley from the w...</td>\n",
       "      <td>male</td>\n",
       "      <td>Scottish</td>\n",
       "      <td>Hungary</td>\n",
       "      <td>False</td>\n",
       "      <td>45</td>\n",
       "    </tr>\n",
       "    <tr>\n",
       "      <th>1</th>\n",
       "      <td>FP</td>\n",
       "      <td>O</td>\n",
       "      <td>PERSON</td>\n",
       "      <td>the</td>\n",
       "      <td>I would like to remove my kid Ryley from the w...</td>\n",
       "      <td>male</td>\n",
       "      <td>Scottish</td>\n",
       "      <td>Hungary</td>\n",
       "      <td>False</td>\n",
       "      <td>45</td>\n",
       "    </tr>\n",
       "    <tr>\n",
       "      <th>2</th>\n",
       "      <td>FP</td>\n",
       "      <td>O</td>\n",
       "      <td>PERSON</td>\n",
       "      <td>will</td>\n",
       "      <td>I would like to remove my kid Ryley from the w...</td>\n",
       "      <td>male</td>\n",
       "      <td>Scottish</td>\n",
       "      <td>Hungary</td>\n",
       "      <td>False</td>\n",
       "      <td>45</td>\n",
       "    </tr>\n",
       "    <tr>\n",
       "      <th>3</th>\n",
       "      <td>FP</td>\n",
       "      <td>O</td>\n",
       "      <td>PERSON</td>\n",
       "      <td>.</td>\n",
       "      <td>I would like to remove my kid Ryley from the w...</td>\n",
       "      <td>male</td>\n",
       "      <td>Scottish</td>\n",
       "      <td>Hungary</td>\n",
       "      <td>False</td>\n",
       "      <td>45</td>\n",
       "    </tr>\n",
       "    <tr>\n",
       "      <th>4</th>\n",
       "      <td>FP</td>\n",
       "      <td>O</td>\n",
       "      <td>PERSON</td>\n",
       "      <td>How</td>\n",
       "      <td>I would like to remove my kid Ryley from the w...</td>\n",
       "      <td>male</td>\n",
       "      <td>Scottish</td>\n",
       "      <td>Hungary</td>\n",
       "      <td>False</td>\n",
       "      <td>45</td>\n",
       "    </tr>\n",
       "    <tr>\n",
       "      <th>5</th>\n",
       "      <td>FP</td>\n",
       "      <td>O</td>\n",
       "      <td>PERSON</td>\n",
       "      <td>do</td>\n",
       "      <td>I would like to remove my kid Ryley from the w...</td>\n",
       "      <td>male</td>\n",
       "      <td>Scottish</td>\n",
       "      <td>Hungary</td>\n",
       "      <td>False</td>\n",
       "      <td>45</td>\n",
       "    </tr>\n",
       "    <tr>\n",
       "      <th>6</th>\n",
       "      <td>FP</td>\n",
       "      <td>O</td>\n",
       "      <td>PERSON</td>\n",
       "      <td>I</td>\n",
       "      <td>I would like to remove my kid Ryley from the w...</td>\n",
       "      <td>male</td>\n",
       "      <td>Scottish</td>\n",
       "      <td>Hungary</td>\n",
       "      <td>False</td>\n",
       "      <td>45</td>\n",
       "    </tr>\n",
       "    <tr>\n",
       "      <th>7</th>\n",
       "      <td>FP</td>\n",
       "      <td>O</td>\n",
       "      <td>PERSON</td>\n",
       "      <td>do</td>\n",
       "      <td>I would like to remove my kid Ryley from the w...</td>\n",
       "      <td>male</td>\n",
       "      <td>Scottish</td>\n",
       "      <td>Hungary</td>\n",
       "      <td>False</td>\n",
       "      <td>45</td>\n",
       "    </tr>\n",
       "    <tr>\n",
       "      <th>8</th>\n",
       "      <td>FP</td>\n",
       "      <td>O</td>\n",
       "      <td>PERSON</td>\n",
       "      <td>that</td>\n",
       "      <td>I would like to remove my kid Ryley from the w...</td>\n",
       "      <td>male</td>\n",
       "      <td>Scottish</td>\n",
       "      <td>Hungary</td>\n",
       "      <td>False</td>\n",
       "      <td>45</td>\n",
       "    </tr>\n",
       "    <tr>\n",
       "      <th>9</th>\n",
       "      <td>FP</td>\n",
       "      <td>O</td>\n",
       "      <td>PERSON</td>\n",
       "      <td>?</td>\n",
       "      <td>I would like to remove my kid Ryley from the w...</td>\n",
       "      <td>male</td>\n",
       "      <td>Scottish</td>\n",
       "      <td>Hungary</td>\n",
       "      <td>False</td>\n",
       "      <td>45</td>\n",
       "    </tr>\n",
       "  </tbody>\n",
       "</table>\n",
       "</div>"
      ],
      "text/plain": [
       "  error_type annotation prediction token  \\\n",
       "0         FP          O     PERSON  from   \n",
       "1         FP          O     PERSON   the   \n",
       "2         FP          O     PERSON  will   \n",
       "3         FP          O     PERSON     .   \n",
       "4         FP          O     PERSON   How   \n",
       "5         FP          O     PERSON    do   \n",
       "6         FP          O     PERSON     I   \n",
       "7         FP          O     PERSON    do   \n",
       "8         FP          O     PERSON  that   \n",
       "9         FP          O     PERSON     ?   \n",
       "\n",
       "                                           full_text Gender   NameSet  \\\n",
       "0  I would like to remove my kid Ryley from the w...   male  Scottish   \n",
       "1  I would like to remove my kid Ryley from the w...   male  Scottish   \n",
       "2  I would like to remove my kid Ryley from the w...   male  Scottish   \n",
       "3  I would like to remove my kid Ryley from the w...   male  Scottish   \n",
       "4  I would like to remove my kid Ryley from the w...   male  Scottish   \n",
       "5  I would like to remove my kid Ryley from the w...   male  Scottish   \n",
       "6  I would like to remove my kid Ryley from the w...   male  Scottish   \n",
       "7  I would like to remove my kid Ryley from the w...   male  Scottish   \n",
       "8  I would like to remove my kid Ryley from the w...   male  Scottish   \n",
       "9  I would like to remove my kid Ryley from the w...   male  Scottish   \n",
       "\n",
       "   Country  Lowercase  Template#  \n",
       "0  Hungary      False         45  \n",
       "1  Hungary      False         45  \n",
       "2  Hungary      False         45  \n",
       "3  Hungary      False         45  \n",
       "4  Hungary      False         45  \n",
       "5  Hungary      False         45  \n",
       "6  Hungary      False         45  \n",
       "7  Hungary      False         45  \n",
       "8  Hungary      False         45  \n",
       "9  Hungary      False         45  "
      ]
     },
     "execution_count": 98,
     "metadata": {},
     "output_type": "execute_result"
    }
   ],
   "source": [
    "fps_df = ModelEvaluator.get_fps_dataframe(errors,entity='PERSON')\n",
    "fps_df"
   ]
  },
  {
   "cell_type": "code",
   "execution_count": 99,
   "metadata": {},
   "outputs": [
    {
     "data": {
      "text/html": [
       "<div>\n",
       "<style scoped>\n",
       "    .dataframe tbody tr th:only-of-type {\n",
       "        vertical-align: middle;\n",
       "    }\n",
       "\n",
       "    .dataframe tbody tr th {\n",
       "        vertical-align: top;\n",
       "    }\n",
       "\n",
       "    .dataframe thead th {\n",
       "        text-align: right;\n",
       "    }\n",
       "</style>\n",
       "<table border=\"1\" class=\"dataframe\">\n",
       "  <thead>\n",
       "    <tr style=\"text-align: right;\">\n",
       "      <th></th>\n",
       "      <th>error_type</th>\n",
       "      <th>annotation</th>\n",
       "      <th>prediction</th>\n",
       "      <th>token</th>\n",
       "      <th>full_text</th>\n",
       "      <th>Gender</th>\n",
       "      <th>NameSet</th>\n",
       "      <th>Country</th>\n",
       "      <th>Lowercase</th>\n",
       "      <th>Template#</th>\n",
       "    </tr>\n",
       "  </thead>\n",
       "  <tbody>\n",
       "    <tr>\n",
       "      <th>0</th>\n",
       "      <td>FN</td>\n",
       "      <td>PERSON</td>\n",
       "      <td>O</td>\n",
       "      <td>Erik</td>\n",
       "      <td>My name is Erik Baader but everyone calls me Erik</td>\n",
       "      <td>male</td>\n",
       "      <td>German</td>\n",
       "      <td>Slovakia</td>\n",
       "      <td>False</td>\n",
       "      <td>58</td>\n",
       "    </tr>\n",
       "    <tr>\n",
       "      <th>1</th>\n",
       "      <td>FN</td>\n",
       "      <td>PERSON</td>\n",
       "      <td>O</td>\n",
       "      <td>Souza</td>\n",
       "      <td>Unlike the Souza novel, it's not about necroph...</td>\n",
       "      <td>female</td>\n",
       "      <td>Brazil</td>\n",
       "      <td>Mauritania</td>\n",
       "      <td>False</td>\n",
       "      <td>96</td>\n",
       "    </tr>\n",
       "    <tr>\n",
       "      <th>2</th>\n",
       "      <td>Wrong entity</td>\n",
       "      <td>PERSON</td>\n",
       "      <td>LOCATION</td>\n",
       "      <td>Avtorhan</td>\n",
       "      <td>Avtorhan, can I please speak to your boss?</td>\n",
       "      <td>male</td>\n",
       "      <td>Chechen (Latin)</td>\n",
       "      <td>Portugal</td>\n",
       "      <td>False</td>\n",
       "      <td>37</td>\n",
       "    </tr>\n",
       "    <tr>\n",
       "      <th>3</th>\n",
       "      <td>Wrong entity</td>\n",
       "      <td>PERSON</td>\n",
       "      <td>LOCATION</td>\n",
       "      <td>george</td>\n",
       "      <td>george, can i please speak to your boss?</td>\n",
       "      <td>male</td>\n",
       "      <td>Australian</td>\n",
       "      <td>Djibouti</td>\n",
       "      <td>True</td>\n",
       "      <td>37</td>\n",
       "    </tr>\n",
       "    <tr>\n",
       "      <th>4</th>\n",
       "      <td>FN</td>\n",
       "      <td>PERSON</td>\n",
       "      <td>O</td>\n",
       "      <td>Aron</td>\n",
       "      <td>Aron is a very sympathetic person. He's also a...</td>\n",
       "      <td>male</td>\n",
       "      <td>Scottish</td>\n",
       "      <td>Armenia</td>\n",
       "      <td>False</td>\n",
       "      <td>87</td>\n",
       "    </tr>\n",
       "    <tr>\n",
       "      <th>...</th>\n",
       "      <td>...</td>\n",
       "      <td>...</td>\n",
       "      <td>...</td>\n",
       "      <td>...</td>\n",
       "      <td>...</td>\n",
       "      <td>...</td>\n",
       "      <td>...</td>\n",
       "      <td>...</td>\n",
       "      <td>...</td>\n",
       "      <td>...</td>\n",
       "    </tr>\n",
       "    <tr>\n",
       "      <th>66</th>\n",
       "      <td>FN</td>\n",
       "      <td>PERSON</td>\n",
       "      <td>O</td>\n",
       "      <td>Szemere</td>\n",
       "      <td>You can tell Szemere was a huge Szemere Szakác...</td>\n",
       "      <td>male</td>\n",
       "      <td>Hungarian</td>\n",
       "      <td>Grenada</td>\n",
       "      <td>False</td>\n",
       "      <td>105</td>\n",
       "    </tr>\n",
       "    <tr>\n",
       "      <th>67</th>\n",
       "      <td>Wrong entity</td>\n",
       "      <td>PERSON</td>\n",
       "      <td>LOCATION</td>\n",
       "      <td>Signe</td>\n",
       "      <td>The true gender of Signe has been under debate...</td>\n",
       "      <td>female</td>\n",
       "      <td>Danish</td>\n",
       "      <td>Middle East</td>\n",
       "      <td>False</td>\n",
       "      <td>94</td>\n",
       "    </tr>\n",
       "    <tr>\n",
       "      <th>68</th>\n",
       "      <td>FN</td>\n",
       "      <td>PERSON</td>\n",
       "      <td>O</td>\n",
       "      <td>Monika</td>\n",
       "      <td>You can tell Monika was a huge Monika Chocholo...</td>\n",
       "      <td>female</td>\n",
       "      <td>Czech</td>\n",
       "      <td>The Philippines</td>\n",
       "      <td>False</td>\n",
       "      <td>105</td>\n",
       "    </tr>\n",
       "    <tr>\n",
       "      <th>69</th>\n",
       "      <td>Wrong entity</td>\n",
       "      <td>PERSON</td>\n",
       "      <td>LOCATION</td>\n",
       "      <td>Mazzi</td>\n",
       "      <td>This song by ex-Zombie Mazzi is a perfect exam...</td>\n",
       "      <td>male</td>\n",
       "      <td>Italian</td>\n",
       "      <td>Panama</td>\n",
       "      <td>False</td>\n",
       "      <td>106</td>\n",
       "    </tr>\n",
       "    <tr>\n",
       "      <th>70</th>\n",
       "      <td>Wrong entity</td>\n",
       "      <td>PERSON</td>\n",
       "      <td>LOCATION</td>\n",
       "      <td>Zita</td>\n",
       "      <td>Zita, can I please speak to your boss?</td>\n",
       "      <td>female</td>\n",
       "      <td>Czech</td>\n",
       "      <td>Egypt</td>\n",
       "      <td>False</td>\n",
       "      <td>37</td>\n",
       "    </tr>\n",
       "  </tbody>\n",
       "</table>\n",
       "<p>71 rows × 10 columns</p>\n",
       "</div>"
      ],
      "text/plain": [
       "      error_type annotation prediction     token  \\\n",
       "0             FN     PERSON          O      Erik   \n",
       "1             FN     PERSON          O     Souza   \n",
       "2   Wrong entity     PERSON   LOCATION  Avtorhan   \n",
       "3   Wrong entity     PERSON   LOCATION    george   \n",
       "4             FN     PERSON          O      Aron   \n",
       "..           ...        ...        ...       ...   \n",
       "66            FN     PERSON          O   Szemere   \n",
       "67  Wrong entity     PERSON   LOCATION     Signe   \n",
       "68            FN     PERSON          O    Monika   \n",
       "69  Wrong entity     PERSON   LOCATION     Mazzi   \n",
       "70  Wrong entity     PERSON   LOCATION      Zita   \n",
       "\n",
       "                                            full_text  Gender  \\\n",
       "0   My name is Erik Baader but everyone calls me Erik    male   \n",
       "1   Unlike the Souza novel, it's not about necroph...  female   \n",
       "2          Avtorhan, can I please speak to your boss?    male   \n",
       "3            george, can i please speak to your boss?    male   \n",
       "4   Aron is a very sympathetic person. He's also a...    male   \n",
       "..                                                ...     ...   \n",
       "66  You can tell Szemere was a huge Szemere Szakác...    male   \n",
       "67  The true gender of Signe has been under debate...  female   \n",
       "68  You can tell Monika was a huge Monika Chocholo...  female   \n",
       "69  This song by ex-Zombie Mazzi is a perfect exam...    male   \n",
       "70             Zita, can I please speak to your boss?  female   \n",
       "\n",
       "            NameSet          Country  Lowercase  Template#  \n",
       "0            German         Slovakia      False         58  \n",
       "1            Brazil       Mauritania      False         96  \n",
       "2   Chechen (Latin)         Portugal      False         37  \n",
       "3        Australian         Djibouti       True         37  \n",
       "4          Scottish          Armenia      False         87  \n",
       "..              ...              ...        ...        ...  \n",
       "66        Hungarian          Grenada      False        105  \n",
       "67           Danish      Middle East      False         94  \n",
       "68            Czech  The Philippines      False        105  \n",
       "69          Italian           Panama      False        106  \n",
       "70            Czech            Egypt      False         37  \n",
       "\n",
       "[71 rows x 10 columns]"
      ]
     },
     "execution_count": 99,
     "metadata": {},
     "output_type": "execute_result"
    }
   ],
   "source": [
    "fns_df = ModelEvaluator.get_fns_dataframe(errors,entity='PERSON')\n",
    "fns_df"
   ]
  },
  {
   "cell_type": "code",
   "execution_count": 15,
   "metadata": {},
   "outputs": [
    {
     "data": {
      "text/plain": [
       "Full text: What's your credit card? 4929218835001304\n",
       "Spans: [Type: CREDIT_CARD, value: 4929218835001304, start: 25, end: 41]\n",
       "Tokens: [What, 's, your, credit, card, ?, 4929218835001304]\n",
       "Tags: ['O', 'O', 'O', 'O', 'O', 'O', 'U-CREDIT_CARD']"
      ]
     },
     "execution_count": 15,
     "metadata": {},
     "output_type": "execute_result"
    }
   ],
   "source": [
    "input_samples[100]"
   ]
  }
 ],
 "metadata": {
  "kernelspec": {
   "display_name": "Python 3",
   "language": "python",
   "name": "python3"
  },
  "language_info": {
   "codemirror_mode": {
    "name": "ipython",
    "version": 3
   },
   "file_extension": ".py",
   "mimetype": "text/x-python",
   "name": "python",
   "nbconvert_exporter": "python",
   "pygments_lexer": "ipython3",
   "version": "3.7.9"
  },
  "pycharm": {
   "stem_cell": {
    "cell_type": "raw",
    "metadata": {
     "collapsed": false
    },
    "source": []
   }
  }
 },
 "nbformat": 4,
 "nbformat_minor": 4
}
