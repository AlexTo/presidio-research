{
 "cells": [
  {
   "cell_type": "code",
   "execution_count": 68,
   "metadata": {
    "pycharm": {
     "is_executing": true
    }
   },
   "outputs": [
    {
     "name": "stdout",
     "output_type": "stream",
     "text": [
      "The autoreload extension is already loaded. To reload it, use:\n",
      "  %reload_ext autoreload\n"
     ]
    }
   ],
   "source": [
    "from presidio_evaluator.data_generator import read_synth_dataset\n",
    "from presidio_evaluator import ModelEvaluator\n",
    "from collections import Counter\n",
    "\n",
    "%load_ext autoreload\n",
    "%autoreload 2\n",
    "\n",
    "MY_PRESIDIO_ENDPOINT = \"http://localhost:8080/api/v1/projects/test/analyze\""
   ]
  },
  {
   "cell_type": "markdown",
   "metadata": {},
   "source": [
    "## Evaluate your Presidio instance via the Presidio API"
   ]
  },
  {
   "cell_type": "markdown",
   "metadata": {},
   "source": [
    "#### A. Read dataset for evaluation"
   ]
  },
  {
   "cell_type": "code",
   "execution_count": 69,
   "metadata": {
    "pycharm": {
     "is_executing": true
    }
   },
   "outputs": [
    {
     "name": "stdout",
     "output_type": "stream",
     "text": [
      "Read 299 samples\n"
     ]
    }
   ],
   "source": [
    "input_samples = read_synth_dataset(\"../data/synth_dataset.json\")\n",
    "print(\"Read {} samples\".format(len(input_samples)))"
   ]
  },
  {
   "cell_type": "markdown",
   "metadata": {},
   "source": [
    "#### B. Descriptive statistics"
   ]
  },
  {
   "cell_type": "code",
   "execution_count": 70,
   "metadata": {
    "pycharm": {
     "is_executing": true
    }
   },
   "outputs": [
    {
     "data": {
      "text/plain": [
       "Counter({'PERSON': 174,\n",
       "         'CREDIT_CARD': 49,\n",
       "         'LOCATION': 75,\n",
       "         'ORGANIZATION': 48,\n",
       "         'US_SSN': 1,\n",
       "         'EMAIL': 11,\n",
       "         'BIRTHDAY': 4,\n",
       "         'TITLE': 4,\n",
       "         'URL': 8,\n",
       "         'PHONE_NUMBER': 9,\n",
       "         'IP_ADDRESS': 3,\n",
       "         'IBAN': 3,\n",
       "         'NATIONALITY': 1})"
      ]
     },
     "execution_count": 70,
     "metadata": {},
     "output_type": "execute_result"
    }
   ],
   "source": [
    "flatten = lambda l: [item for sublist in l for item in sublist]\n",
    "\n",
    "count_per_entity = Counter([span.entity_type for span in flatten([input_sample.spans for input_sample in input_samples])])\n",
    "count_per_entity"
   ]
  },
  {
   "cell_type": "markdown",
   "metadata": {},
   "source": [
    "#### C. Match the dataset's entity names with Presidio's entity names"
   ]
  },
  {
   "cell_type": "code",
   "execution_count": 71,
   "metadata": {},
   "outputs": [],
   "source": [
    "# Mapping between dataset entities and Presidio entities. Key: Dataset entity, Value: Presidio entity\n",
    "entities_mapping = {\n",
    "    'PERSON': 'PERSON',\n",
    "    'EMAIL': 'EMAIL_ADDRESS',\n",
    "    'CREDIT_CARD': 'CREDIT_CARD',\n",
    "    'FIRST_NAME': 'PERSON',\n",
    "    'PHONE_NUMBER': 'PHONE_NUMBER',\n",
    "    'LOCATION':'LOCATION',\n",
    "    'BIRTHDAY': 'BIRTHDAY',\n",
    "    'DATE': 'DATE_TIME',\n",
    "    'DOMAIN': 'DOMAIN',\n",
    "    'CITY': 'LOCATION',\n",
    "    'ADDRESS': 'LOCATION',\n",
    "    'IBAN': 'IBAN_CODE',\n",
    "    'URL': 'DOMAIN_NAME',\n",
    "    'US_SSN': 'US_SSN',\n",
    "    'IP_ADDRESS': 'IP_ADDRESS',\n",
    "    'ORGANIZATION':'ORG',\n",
    "    'O': 'O'\n",
    "}\n",
    "presidio_fields = ['CREDIT_CARD', 'CRYPTO', 'BIRTHDAY', 'DOMAIN_NAME', 'EMAIL_ADDRESS', 'IBAN_CODE', 'ORG', \n",
    "                   'IP_ADDRESS', 'NRP', 'LOCATION', 'PERSON', 'PHONE_NUMBER', 'US_SSN']\n",
    "\n",
    "new_list = ModelEvaluator.align_input_samples_to_presidio_analyzer(input_samples,\n",
    "                                                                   entities_mapping,\n",
    "                                                                   presidio_fields)"
   ]
  },
  {
   "cell_type": "markdown",
   "metadata": {},
   "source": [
    "#### D. Recalculate statistics on updated dataset"
   ]
  },
  {
   "cell_type": "code",
   "execution_count": 72,
   "metadata": {},
   "outputs": [
    {
     "data": {
      "text/plain": [
       "Counter({'PERSON': 174,\n",
       "         'CREDIT_CARD': 49,\n",
       "         'LOCATION': 75,\n",
       "         'ORG': 48,\n",
       "         'US_SSN': 1,\n",
       "         'EMAIL_ADDRESS': 11,\n",
       "         'BIRTHDAY': 4,\n",
       "         'DOMAIN_NAME': 8,\n",
       "         'PHONE_NUMBER': 9,\n",
       "         'IP_ADDRESS': 3,\n",
       "         'IBAN_CODE': 3})"
      ]
     },
     "execution_count": 72,
     "metadata": {},
     "output_type": "execute_result"
    }
   ],
   "source": [
    "## recheck counter\n",
    "count_per_entity_new = Counter([span.entity_type for span in flatten([input_sample.spans for input_sample in new_list])])\n",
    "count_per_entity_new"
   ]
  },
  {
   "cell_type": "markdown",
   "metadata": {},
   "source": [
    "#### E. Run the presidio-evaluator framework with Presidio's API as the 'model' at test"
   ]
  },
  {
   "cell_type": "code",
   "execution_count": 73,
   "metadata": {},
   "outputs": [
    {
     "name": "stderr",
     "output_type": "stream",
     "text": [
      "Evaluating <class 'presidio_evaluator.presidio_api_evaluator.PresidioAPIEvaluator'>: 100%|██████████| 299/299 [00:45<00:00,  6.60it/s]\n"
     ]
    }
   ],
   "source": [
    "from presidio_evaluator import PresidioAPIEvaluator\n",
    "presidio = PresidioAPIEvaluator(all_fields=False, entities_to_keep=list(count_per_entity_new.keys()),endpoint=MY_PRESIDIO_ENDPOINT)\n",
    "evaluted_samples = presidio.evaluate_all(new_list)"
   ]
  },
  {
   "cell_type": "markdown",
   "metadata": {},
   "source": [
    "#### F. Extract statistics\n",
    "- Presicion, recall and F measure are calculated based on a PII/Not PII binary classification per token.\n",
    "- Specific entity recall and precision are calculated on the specific PII entity level."
   ]
  },
  {
   "cell_type": "code",
   "execution_count": 74,
   "metadata": {},
   "outputs": [],
   "source": [
    "evaluation_result = presidio.calculate_score(evaluted_samples)"
   ]
  },
  {
   "cell_type": "code",
   "execution_count": 75,
   "metadata": {},
   "outputs": [
    {
     "name": "stdout",
     "output_type": "stream",
     "text": [
      "                        Entity                     Precision                        Recall\n",
      "                        PERSON                        97.74%                        92.17%\n",
      "                   CREDIT_CARD                       100.00%                       100.00%\n",
      "                      LOCATION                        90.67%                        22.44%\n",
      "                           ORG                          nan%                         0.00%\n",
      "                        US_SSN                       100.00%                       100.00%\n",
      "                 EMAIL_ADDRESS                       100.00%                       100.00%\n",
      "                      BIRTHDAY                       100.00%                       100.00%\n",
      "                   DOMAIN_NAME                          nan%                          nan%\n",
      "                  PHONE_NUMBER                       100.00%                        27.78%\n",
      "                    IP_ADDRESS                       100.00%                       100.00%\n",
      "                     IBAN_CODE                       100.00%                       100.00%\n",
      "                           PII                        98.12%                        51.23%\n",
      "PII F measure: 0.6731234866828087\n"
     ]
    }
   ],
   "source": [
    "evaluation_result.print()"
   ]
  },
  {
   "cell_type": "markdown",
   "metadata": {},
   "source": [
    "#### G. Analyze wrong predictions"
   ]
  },
  {
   "cell_type": "code",
   "execution_count": 76,
   "metadata": {},
   "outputs": [],
   "source": [
    "errors = evaluation_result.model_errors"
   ]
  },
  {
   "cell_type": "code",
   "execution_count": 77,
   "metadata": {},
   "outputs": [
    {
     "name": "stdout",
     "output_type": "stream",
     "text": [
      "Most common false positive tokens:\n",
      "[('Texas', 4), (\"'s\", 2), ('Southern', 1), ('the', 1)]\n",
      "Example sentence with each FP token:\n",
      "Celebrating its 10th year in Villa de Ves, Trak Auto is a 501(c)3 that invites songwriters from around the world to Texas to share the universal language of music in collaborations designed to bridge cultures, build friendships and cultivate peace.\n",
      "When they weren't singing about Hobbits, satanic felines and interstellar journeys, they were singing about the verses from Marsilius Chenard's Cautionary Tales. Is there a better example of unbridled creativity than early Chenard?\n",
      "The Home Centers Orchestra was founded in 1929. Since then, the TSO has grown from a volunteer community orchestra to a fully professional orchestra serving Southern Dominica\n",
      "Blink-182 pay tribute here to the United Arab Emirates. Producer Jaroslava Sedláčková explained to Fuse TV: \"We all liked the idea of writing a song about our state, where we live and love. To me it's the most beautiful place in the world, this song was us giving credit to how lucky we are to have lived here and grown up here, raising families here, the whole thing.\"\n"
     ]
    }
   ],
   "source": [
    "ModelEvaluator.most_common_fp_tokens(errors,n=5)"
   ]
  },
  {
   "cell_type": "code",
   "execution_count": 78,
   "metadata": {
    "pycharm": {
     "name": "#%%\n"
    }
   },
   "outputs": [
    {
     "name": "stdout",
     "output_type": "stream",
     "text": [
      "No errors of type FP and entity PHONE_NUMBER were found\n"
     ]
    }
   ],
   "source": [
    "fps_df = ModelEvaluator.get_fps_dataframe(errors,entity='PHONE_NUMBER')\n",
    "fps_df"
   ]
  },
  {
   "cell_type": "code",
   "execution_count": 79,
   "metadata": {},
   "outputs": [
    {
     "data": {
      "text/html": [
       "<div>\n",
       "<style scoped>\n",
       "    .dataframe tbody tr th:only-of-type {\n",
       "        vertical-align: middle;\n",
       "    }\n",
       "\n",
       "    .dataframe tbody tr th {\n",
       "        vertical-align: top;\n",
       "    }\n",
       "\n",
       "    .dataframe thead th {\n",
       "        text-align: right;\n",
       "    }\n",
       "</style>\n",
       "<table border=\"1\" class=\"dataframe\">\n",
       "  <thead>\n",
       "    <tr style=\"text-align: right;\">\n",
       "      <th></th>\n",
       "      <th>error_type</th>\n",
       "      <th>annotation</th>\n",
       "      <th>prediction</th>\n",
       "      <th>token</th>\n",
       "      <th>full_text</th>\n",
       "      <th>Gender</th>\n",
       "      <th>NameSet</th>\n",
       "      <th>Country</th>\n",
       "      <th>Lowercase</th>\n",
       "      <th>Template#</th>\n",
       "    </tr>\n",
       "  </thead>\n",
       "  <tbody>\n",
       "    <tr>\n",
       "      <th>0</th>\n",
       "      <td>FN</td>\n",
       "      <td>PHONE_NUMBER</td>\n",
       "      <td>O</td>\n",
       "      <td>99</td>\n",
       "      <td>Can someone call me on 99 702542? I have some ...</td>\n",
       "      <td>male</td>\n",
       "      <td>Hungarian</td>\n",
       "      <td>Guinea</td>\n",
       "      <td>False</td>\n",
       "      <td>55</td>\n",
       "    </tr>\n",
       "    <tr>\n",
       "      <th>1</th>\n",
       "      <td>FN</td>\n",
       "      <td>PHONE_NUMBER</td>\n",
       "      <td>O</td>\n",
       "      <td>702542</td>\n",
       "      <td>Can someone call me on 99 702542? I have some ...</td>\n",
       "      <td>male</td>\n",
       "      <td>Hungarian</td>\n",
       "      <td>Guinea</td>\n",
       "      <td>False</td>\n",
       "      <td>55</td>\n",
       "    </tr>\n",
       "    <tr>\n",
       "      <th>2</th>\n",
       "      <td>FN</td>\n",
       "      <td>PHONE_NUMBER</td>\n",
       "      <td>O</td>\n",
       "      <td>0477</td>\n",
       "      <td>Can someone call me on 0477 99 13 51? I have s...</td>\n",
       "      <td>female</td>\n",
       "      <td>Czech</td>\n",
       "      <td>Mauritania</td>\n",
       "      <td>False</td>\n",
       "      <td>55</td>\n",
       "    </tr>\n",
       "    <tr>\n",
       "      <th>3</th>\n",
       "      <td>FN</td>\n",
       "      <td>PHONE_NUMBER</td>\n",
       "      <td>O</td>\n",
       "      <td>99</td>\n",
       "      <td>Can someone call me on 0477 99 13 51? I have s...</td>\n",
       "      <td>female</td>\n",
       "      <td>Czech</td>\n",
       "      <td>Mauritania</td>\n",
       "      <td>False</td>\n",
       "      <td>55</td>\n",
       "    </tr>\n",
       "    <tr>\n",
       "      <th>4</th>\n",
       "      <td>FN</td>\n",
       "      <td>PHONE_NUMBER</td>\n",
       "      <td>O</td>\n",
       "      <td>13</td>\n",
       "      <td>Can someone call me on 0477 99 13 51? I have s...</td>\n",
       "      <td>female</td>\n",
       "      <td>Czech</td>\n",
       "      <td>Mauritania</td>\n",
       "      <td>False</td>\n",
       "      <td>55</td>\n",
       "    </tr>\n",
       "    <tr>\n",
       "      <th>5</th>\n",
       "      <td>FN</td>\n",
       "      <td>PHONE_NUMBER</td>\n",
       "      <td>O</td>\n",
       "      <td>51</td>\n",
       "      <td>Can someone call me on 0477 99 13 51? I have s...</td>\n",
       "      <td>female</td>\n",
       "      <td>Czech</td>\n",
       "      <td>Mauritania</td>\n",
       "      <td>False</td>\n",
       "      <td>55</td>\n",
       "    </tr>\n",
       "    <tr>\n",
       "      <th>6</th>\n",
       "      <td>FN</td>\n",
       "      <td>PHONE_NUMBER</td>\n",
       "      <td>O</td>\n",
       "      <td>026</td>\n",
       "      <td>I would like to stop receiving messages to 026...</td>\n",
       "      <td>male</td>\n",
       "      <td>Hungarian</td>\n",
       "      <td>Mongolia</td>\n",
       "      <td>False</td>\n",
       "      <td>43</td>\n",
       "    </tr>\n",
       "    <tr>\n",
       "      <th>7</th>\n",
       "      <td>FN</td>\n",
       "      <td>PHONE_NUMBER</td>\n",
       "      <td>O</td>\n",
       "      <td>848</td>\n",
       "      <td>I would like to stop receiving messages to 026...</td>\n",
       "      <td>male</td>\n",
       "      <td>Hungarian</td>\n",
       "      <td>Mongolia</td>\n",
       "      <td>False</td>\n",
       "      <td>43</td>\n",
       "    </tr>\n",
       "    <tr>\n",
       "      <th>8</th>\n",
       "      <td>FN</td>\n",
       "      <td>PHONE_NUMBER</td>\n",
       "      <td>O</td>\n",
       "      <td>14</td>\n",
       "      <td>I would like to stop receiving messages to 026...</td>\n",
       "      <td>male</td>\n",
       "      <td>Hungarian</td>\n",
       "      <td>Mongolia</td>\n",
       "      <td>False</td>\n",
       "      <td>43</td>\n",
       "    </tr>\n",
       "    <tr>\n",
       "      <th>9</th>\n",
       "      <td>FN</td>\n",
       "      <td>PHONE_NUMBER</td>\n",
       "      <td>O</td>\n",
       "      <td>90</td>\n",
       "      <td>I would like to stop receiving messages to 026...</td>\n",
       "      <td>male</td>\n",
       "      <td>Hungarian</td>\n",
       "      <td>Mongolia</td>\n",
       "      <td>False</td>\n",
       "      <td>43</td>\n",
       "    </tr>\n",
       "    <tr>\n",
       "      <th>10</th>\n",
       "      <td>FN</td>\n",
       "      <td>PHONE_NUMBER</td>\n",
       "      <td>O</td>\n",
       "      <td>66</td>\n",
       "      <td>Please have the manager call me at 66 554 64 6...</td>\n",
       "      <td>male</td>\n",
       "      <td>Slovenian</td>\n",
       "      <td>Pakistan</td>\n",
       "      <td>False</td>\n",
       "      <td>35</td>\n",
       "    </tr>\n",
       "    <tr>\n",
       "      <th>11</th>\n",
       "      <td>FN</td>\n",
       "      <td>PHONE_NUMBER</td>\n",
       "      <td>O</td>\n",
       "      <td>554</td>\n",
       "      <td>Please have the manager call me at 66 554 64 6...</td>\n",
       "      <td>male</td>\n",
       "      <td>Slovenian</td>\n",
       "      <td>Pakistan</td>\n",
       "      <td>False</td>\n",
       "      <td>35</td>\n",
       "    </tr>\n",
       "    <tr>\n",
       "      <th>12</th>\n",
       "      <td>FN</td>\n",
       "      <td>PHONE_NUMBER</td>\n",
       "      <td>O</td>\n",
       "      <td>64</td>\n",
       "      <td>Please have the manager call me at 66 554 64 6...</td>\n",
       "      <td>male</td>\n",
       "      <td>Slovenian</td>\n",
       "      <td>Pakistan</td>\n",
       "      <td>False</td>\n",
       "      <td>35</td>\n",
       "    </tr>\n",
       "    <tr>\n",
       "      <th>13</th>\n",
       "      <td>FN</td>\n",
       "      <td>PHONE_NUMBER</td>\n",
       "      <td>O</td>\n",
       "      <td>62</td>\n",
       "      <td>Please have the manager call me at 66 554 64 6...</td>\n",
       "      <td>male</td>\n",
       "      <td>Slovenian</td>\n",
       "      <td>Pakistan</td>\n",
       "      <td>False</td>\n",
       "      <td>35</td>\n",
       "    </tr>\n",
       "    <tr>\n",
       "      <th>14</th>\n",
       "      <td>FN</td>\n",
       "      <td>PHONE_NUMBER</td>\n",
       "      <td>O</td>\n",
       "      <td>789</td>\n",
       "      <td>how can we reach you? you can call 789 0750</td>\n",
       "      <td>male</td>\n",
       "      <td>Slovenian</td>\n",
       "      <td>Saudi Arabia</td>\n",
       "      <td>True</td>\n",
       "      <td>68</td>\n",
       "    </tr>\n",
       "    <tr>\n",
       "      <th>15</th>\n",
       "      <td>FN</td>\n",
       "      <td>PHONE_NUMBER</td>\n",
       "      <td>O</td>\n",
       "      <td>0750</td>\n",
       "      <td>how can we reach you? you can call 789 0750</td>\n",
       "      <td>male</td>\n",
       "      <td>Slovenian</td>\n",
       "      <td>Saudi Arabia</td>\n",
       "      <td>True</td>\n",
       "      <td>68</td>\n",
       "    </tr>\n",
       "    <tr>\n",
       "      <th>16</th>\n",
       "      <td>FN</td>\n",
       "      <td>PHONE_NUMBER</td>\n",
       "      <td>O</td>\n",
       "      <td>60</td>\n",
       "      <td>I have done an online order but didn't get any...</td>\n",
       "      <td>female</td>\n",
       "      <td>Norwegian</td>\n",
       "      <td>Estonia</td>\n",
       "      <td>False</td>\n",
       "      <td>12</td>\n",
       "    </tr>\n",
       "    <tr>\n",
       "      <th>17</th>\n",
       "      <td>FN</td>\n",
       "      <td>PHONE_NUMBER</td>\n",
       "      <td>O</td>\n",
       "      <td>-</td>\n",
       "      <td>I have done an online order but didn't get any...</td>\n",
       "      <td>female</td>\n",
       "      <td>Norwegian</td>\n",
       "      <td>Estonia</td>\n",
       "      <td>False</td>\n",
       "      <td>12</td>\n",
       "    </tr>\n",
       "    <tr>\n",
       "      <th>18</th>\n",
       "      <td>FN</td>\n",
       "      <td>PHONE_NUMBER</td>\n",
       "      <td>O</td>\n",
       "      <td>17</td>\n",
       "      <td>I have done an online order but didn't get any...</td>\n",
       "      <td>female</td>\n",
       "      <td>Norwegian</td>\n",
       "      <td>Estonia</td>\n",
       "      <td>False</td>\n",
       "      <td>12</td>\n",
       "    </tr>\n",
       "    <tr>\n",
       "      <th>19</th>\n",
       "      <td>FN</td>\n",
       "      <td>PHONE_NUMBER</td>\n",
       "      <td>O</td>\n",
       "      <td>-</td>\n",
       "      <td>I have done an online order but didn't get any...</td>\n",
       "      <td>female</td>\n",
       "      <td>Norwegian</td>\n",
       "      <td>Estonia</td>\n",
       "      <td>False</td>\n",
       "      <td>12</td>\n",
       "    </tr>\n",
       "    <tr>\n",
       "      <th>20</th>\n",
       "      <td>FN</td>\n",
       "      <td>PHONE_NUMBER</td>\n",
       "      <td>O</td>\n",
       "      <td>51</td>\n",
       "      <td>I have done an online order but didn't get any...</td>\n",
       "      <td>female</td>\n",
       "      <td>Norwegian</td>\n",
       "      <td>Estonia</td>\n",
       "      <td>False</td>\n",
       "      <td>12</td>\n",
       "    </tr>\n",
       "    <tr>\n",
       "      <th>21</th>\n",
       "      <td>FN</td>\n",
       "      <td>PHONE_NUMBER</td>\n",
       "      <td>O</td>\n",
       "      <td>-</td>\n",
       "      <td>I have done an online order but didn't get any...</td>\n",
       "      <td>female</td>\n",
       "      <td>Norwegian</td>\n",
       "      <td>Estonia</td>\n",
       "      <td>False</td>\n",
       "      <td>12</td>\n",
       "    </tr>\n",
       "    <tr>\n",
       "      <th>22</th>\n",
       "      <td>FN</td>\n",
       "      <td>PHONE_NUMBER</td>\n",
       "      <td>O</td>\n",
       "      <td>75</td>\n",
       "      <td>I have done an online order but didn't get any...</td>\n",
       "      <td>female</td>\n",
       "      <td>Norwegian</td>\n",
       "      <td>Estonia</td>\n",
       "      <td>False</td>\n",
       "      <td>12</td>\n",
       "    </tr>\n",
       "    <tr>\n",
       "      <th>23</th>\n",
       "      <td>FN</td>\n",
       "      <td>PHONE_NUMBER</td>\n",
       "      <td>O</td>\n",
       "      <td>070</td>\n",
       "      <td>Please have the manager call me at 070 7033 91...</td>\n",
       "      <td>male</td>\n",
       "      <td>Greenland</td>\n",
       "      <td>Mozambique</td>\n",
       "      <td>False</td>\n",
       "      <td>35</td>\n",
       "    </tr>\n",
       "    <tr>\n",
       "      <th>24</th>\n",
       "      <td>FN</td>\n",
       "      <td>PHONE_NUMBER</td>\n",
       "      <td>O</td>\n",
       "      <td>7033</td>\n",
       "      <td>Please have the manager call me at 070 7033 91...</td>\n",
       "      <td>male</td>\n",
       "      <td>Greenland</td>\n",
       "      <td>Mozambique</td>\n",
       "      <td>False</td>\n",
       "      <td>35</td>\n",
       "    </tr>\n",
       "    <tr>\n",
       "      <th>25</th>\n",
       "      <td>FN</td>\n",
       "      <td>PHONE_NUMBER</td>\n",
       "      <td>O</td>\n",
       "      <td>9168</td>\n",
       "      <td>Please have the manager call me at 070 7033 91...</td>\n",
       "      <td>male</td>\n",
       "      <td>Greenland</td>\n",
       "      <td>Mozambique</td>\n",
       "      <td>False</td>\n",
       "      <td>35</td>\n",
       "    </tr>\n",
       "  </tbody>\n",
       "</table>\n",
       "</div>"
      ],
      "text/plain": [
       "   error_type    annotation prediction   token  \\\n",
       "0          FN  PHONE_NUMBER          O      99   \n",
       "1          FN  PHONE_NUMBER          O  702542   \n",
       "2          FN  PHONE_NUMBER          O    0477   \n",
       "3          FN  PHONE_NUMBER          O      99   \n",
       "4          FN  PHONE_NUMBER          O      13   \n",
       "5          FN  PHONE_NUMBER          O      51   \n",
       "6          FN  PHONE_NUMBER          O     026   \n",
       "7          FN  PHONE_NUMBER          O     848   \n",
       "8          FN  PHONE_NUMBER          O      14   \n",
       "9          FN  PHONE_NUMBER          O      90   \n",
       "10         FN  PHONE_NUMBER          O      66   \n",
       "11         FN  PHONE_NUMBER          O     554   \n",
       "12         FN  PHONE_NUMBER          O      64   \n",
       "13         FN  PHONE_NUMBER          O      62   \n",
       "14         FN  PHONE_NUMBER          O     789   \n",
       "15         FN  PHONE_NUMBER          O    0750   \n",
       "16         FN  PHONE_NUMBER          O      60   \n",
       "17         FN  PHONE_NUMBER          O       -   \n",
       "18         FN  PHONE_NUMBER          O      17   \n",
       "19         FN  PHONE_NUMBER          O       -   \n",
       "20         FN  PHONE_NUMBER          O      51   \n",
       "21         FN  PHONE_NUMBER          O       -   \n",
       "22         FN  PHONE_NUMBER          O      75   \n",
       "23         FN  PHONE_NUMBER          O     070   \n",
       "24         FN  PHONE_NUMBER          O    7033   \n",
       "25         FN  PHONE_NUMBER          O    9168   \n",
       "\n",
       "                                            full_text  Gender    NameSet  \\\n",
       "0   Can someone call me on 99 702542? I have some ...    male  Hungarian   \n",
       "1   Can someone call me on 99 702542? I have some ...    male  Hungarian   \n",
       "2   Can someone call me on 0477 99 13 51? I have s...  female      Czech   \n",
       "3   Can someone call me on 0477 99 13 51? I have s...  female      Czech   \n",
       "4   Can someone call me on 0477 99 13 51? I have s...  female      Czech   \n",
       "5   Can someone call me on 0477 99 13 51? I have s...  female      Czech   \n",
       "6   I would like to stop receiving messages to 026...    male  Hungarian   \n",
       "7   I would like to stop receiving messages to 026...    male  Hungarian   \n",
       "8   I would like to stop receiving messages to 026...    male  Hungarian   \n",
       "9   I would like to stop receiving messages to 026...    male  Hungarian   \n",
       "10  Please have the manager call me at 66 554 64 6...    male  Slovenian   \n",
       "11  Please have the manager call me at 66 554 64 6...    male  Slovenian   \n",
       "12  Please have the manager call me at 66 554 64 6...    male  Slovenian   \n",
       "13  Please have the manager call me at 66 554 64 6...    male  Slovenian   \n",
       "14        how can we reach you? you can call 789 0750    male  Slovenian   \n",
       "15        how can we reach you? you can call 789 0750    male  Slovenian   \n",
       "16  I have done an online order but didn't get any...  female  Norwegian   \n",
       "17  I have done an online order but didn't get any...  female  Norwegian   \n",
       "18  I have done an online order but didn't get any...  female  Norwegian   \n",
       "19  I have done an online order but didn't get any...  female  Norwegian   \n",
       "20  I have done an online order but didn't get any...  female  Norwegian   \n",
       "21  I have done an online order but didn't get any...  female  Norwegian   \n",
       "22  I have done an online order but didn't get any...  female  Norwegian   \n",
       "23  Please have the manager call me at 070 7033 91...    male  Greenland   \n",
       "24  Please have the manager call me at 070 7033 91...    male  Greenland   \n",
       "25  Please have the manager call me at 070 7033 91...    male  Greenland   \n",
       "\n",
       "         Country  Lowercase  Template#  \n",
       "0         Guinea      False         55  \n",
       "1         Guinea      False         55  \n",
       "2     Mauritania      False         55  \n",
       "3     Mauritania      False         55  \n",
       "4     Mauritania      False         55  \n",
       "5     Mauritania      False         55  \n",
       "6       Mongolia      False         43  \n",
       "7       Mongolia      False         43  \n",
       "8       Mongolia      False         43  \n",
       "9       Mongolia      False         43  \n",
       "10      Pakistan      False         35  \n",
       "11      Pakistan      False         35  \n",
       "12      Pakistan      False         35  \n",
       "13      Pakistan      False         35  \n",
       "14  Saudi Arabia       True         68  \n",
       "15  Saudi Arabia       True         68  \n",
       "16       Estonia      False         12  \n",
       "17       Estonia      False         12  \n",
       "18       Estonia      False         12  \n",
       "19       Estonia      False         12  \n",
       "20       Estonia      False         12  \n",
       "21       Estonia      False         12  \n",
       "22       Estonia      False         12  \n",
       "23    Mozambique      False         35  \n",
       "24    Mozambique      False         35  \n",
       "25    Mozambique      False         35  "
      ]
     },
     "execution_count": 79,
     "metadata": {},
     "output_type": "execute_result"
    }
   ],
   "source": [
    "fns_df = ModelEvaluator.get_fns_dataframe(errors,entity='PHONE_NUMBER')\n",
    "fns_df"
   ]
  },
  {
   "cell_type": "code",
   "execution_count": 15,
   "metadata": {},
   "outputs": [
    {
     "data": {
      "text/plain": [
       "Full text: What's your credit card? 4929218835001304\n",
       "Spans: [Type: CREDIT_CARD, value: 4929218835001304, start: 25, end: 41]\n",
       "Tokens: [What, 's, your, credit, card, ?, 4929218835001304]\n",
       "Tags: ['O', 'O', 'O', 'O', 'O', 'O', 'U-CREDIT_CARD']"
      ]
     },
     "execution_count": 15,
     "metadata": {},
     "output_type": "execute_result"
    }
   ],
   "source": [
    "input_samples[100]"
   ]
  }
 ],
 "metadata": {
  "kernelspec": {
   "display_name": "Python 3",
   "language": "python",
   "name": "python3"
  },
  "language_info": {
   "codemirror_mode": {
    "name": "ipython",
    "version": 3
   },
   "file_extension": ".py",
   "mimetype": "text/x-python",
   "name": "python",
   "nbconvert_exporter": "python",
   "pygments_lexer": "ipython3",
   "version": "3.7.9"
  },
  "pycharm": {
   "stem_cell": {
    "cell_type": "raw",
    "metadata": {
     "collapsed": false
    },
    "source": []
   }
  }
 },
 "nbformat": 4,
 "nbformat_minor": 4
}
