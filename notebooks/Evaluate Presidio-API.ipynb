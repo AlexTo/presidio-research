{
 "cells": [
  {
   "cell_type": "code",
   "execution_count": 1,
   "metadata": {
    "pycharm": {
     "is_executing": true
    }
   },
   "outputs": [],
   "source": [
    "from presidio_evaluator.data_generator import read_synth_dataset\n",
    "from presidio_evaluator import ModelEvaluator\n",
    "from collections import Counter\n",
    "\n",
    "%load_ext autoreload\n",
    "%autoreload 2\n",
    "\n",
    "MY_PRESIDIO_ENDPOINT = \"http://localhost:8080/api/v1/projects/test/analyze\""
   ]
  },
  {
   "cell_type": "markdown",
   "metadata": {},
   "source": [
    "## Evaluate your Presidio instance via the Presidio API"
   ]
  },
  {
   "cell_type": "markdown",
   "metadata": {},
   "source": [
    "#### A. Read dataset for evaluation"
   ]
  },
  {
   "cell_type": "code",
   "execution_count": 2,
   "metadata": {
    "pycharm": {
     "is_executing": true
    }
   },
   "outputs": [
    {
     "name": "stdout",
     "output_type": "stream",
     "text": [
      "Read 299 samples\n"
     ]
    }
   ],
   "source": [
    "input_samples = read_synth_dataset(\"../data/synth_dataset.json\")\n",
    "print(\"Read {} samples\".format(len(input_samples)))"
   ]
  },
  {
   "cell_type": "markdown",
   "metadata": {},
   "source": [
    "#### B. Descriptive statistics"
   ]
  },
  {
   "cell_type": "code",
   "execution_count": 3,
   "metadata": {
    "pycharm": {
     "is_executing": true
    }
   },
   "outputs": [
    {
     "data": {
      "text/plain": [
       "Counter({'PERSON': 174,\n",
       "         'CREDIT_CARD': 49,\n",
       "         'LOCATION': 75,\n",
       "         'ORGANIZATION': 48,\n",
       "         'US_SSN': 1,\n",
       "         'EMAIL': 11,\n",
       "         'BIRTHDAY': 4,\n",
       "         'TITLE': 4,\n",
       "         'URL': 8,\n",
       "         'PHONE_NUMBER': 9,\n",
       "         'IP_ADDRESS': 3,\n",
       "         'IBAN': 3,\n",
       "         'NATIONALITY': 1})"
      ]
     },
     "execution_count": 3,
     "metadata": {},
     "output_type": "execute_result"
    }
   ],
   "source": [
    "flatten = lambda l: [item for sublist in l for item in sublist]\n",
    "\n",
    "count_per_entity = Counter([span.entity_type for span in flatten([input_sample.spans for input_sample in input_samples])])\n",
    "count_per_entity"
   ]
  },
  {
   "cell_type": "markdown",
   "metadata": {},
   "source": [
    "#### C. Match the dataset's entity names with Presidio's entity names"
   ]
  },
  {
   "cell_type": "code",
   "execution_count": 4,
   "metadata": {},
   "outputs": [],
   "source": [
    "# Mapping between dataset entities and Presidio entities. Key: Dataset entity, Value: Presidio entity\n",
    "entities_mapping = {\n",
    "    'PERSON': 'PERSON',\n",
    "    'EMAIL': 'EMAIL_ADDRESS',\n",
    "    'CREDIT_CARD': 'CREDIT_CARD',\n",
    "    'FIRST_NAME': 'PERSON',\n",
    "    'PHONE_NUMBER': 'PHONE_NUMBER',\n",
    "    'LOCATION':'LOCATION',\n",
    "    'BIRTHDAY': 'DATE_TIME',\n",
    "    'DATE': 'DATE_TIME',\n",
    "    'DOMAIN': 'DOMAIN',\n",
    "    'CITY': 'LOCATION',\n",
    "    'ADDRESS': 'LOCATION',\n",
    "    'IBAN': 'IBAN_CODE',\n",
    "    'URL': 'DOMAIN_NAME',\n",
    "    'US_SSN': 'US_SSN',\n",
    "    'IP_ADDRESS': 'IP_ADDRESS',\n",
    "    'ORGANIZATION':'ORG',\n",
    "    'O': 'O'\n",
    "}\n",
    "presidio_fields = ['CREDIT_CARD', 'CRYPTO', 'DATE_TIME', 'DOMAIN_NAME', 'EMAIL_ADDRESS', 'IBAN_CODE', 'ORG', \n",
    "                   'IP_ADDRESS', 'NRP', 'LOCATION', 'PERSON', 'PHONE_NUMBER', 'US_SSN']\n",
    "\n",
    "new_list = ModelEvaluator.align_input_samples_to_presidio_analyzer(input_samples,\n",
    "                                                                   entities_mapping,\n",
    "                                                                   presidio_fields)"
   ]
  },
  {
   "cell_type": "markdown",
   "metadata": {},
   "source": [
    "#### D. Recalculate statistics on updated dataset"
   ]
  },
  {
   "cell_type": "code",
   "execution_count": 5,
   "metadata": {},
   "outputs": [
    {
     "data": {
      "text/plain": [
       "Counter({'PERSON': 174,\n",
       "         'CREDIT_CARD': 49,\n",
       "         'LOCATION': 75,\n",
       "         'ORG': 48,\n",
       "         'US_SSN': 1,\n",
       "         'EMAIL_ADDRESS': 11,\n",
       "         'DATE_TIME': 4,\n",
       "         'DOMAIN_NAME': 8,\n",
       "         'PHONE_NUMBER': 9,\n",
       "         'IP_ADDRESS': 3,\n",
       "         'IBAN_CODE': 3})"
      ]
     },
     "execution_count": 5,
     "metadata": {},
     "output_type": "execute_result"
    }
   ],
   "source": [
    "## recheck counter\n",
    "count_per_entity_new = Counter([span.entity_type for span in flatten([input_sample.spans for input_sample in new_list])])\n",
    "count_per_entity_new"
   ]
  },
  {
   "cell_type": "markdown",
   "metadata": {},
   "source": [
    "#### E. Run the presidio-evaluator framework with Presidio's API as the 'model' at test"
   ]
  },
  {
   "cell_type": "code",
   "execution_count": 6,
   "metadata": {},
   "outputs": [
    {
     "name": "stderr",
     "output_type": "stream",
     "text": [
      "Evaluating <class 'presidio_evaluator.presidio_api_evaluator.PresidioAPIEvaluator'>:   0%|          | 0/299 [00:00<?, ?it/s]"
     ]
    },
    {
     "name": "stdout",
     "output_type": "stream",
     "text": [
      "loading model en_core_web_lg\n"
     ]
    },
    {
     "name": "stderr",
     "output_type": "stream",
     "text": [
      "Evaluating <class 'presidio_evaluator.presidio_api_evaluator.PresidioAPIEvaluator'>: 100%|██████████| 299/299 [00:15<00:00, 19.47it/s]\n"
     ]
    }
   ],
   "source": [
    "from presidio_evaluator import PresidioAPIEvaluator\n",
    "presidio = PresidioAPIEvaluator(entities_to_keep=list(count_per_entity_new.keys()),endpoint=MY_PRESIDIO_ENDPOINT)\n",
    "evaluted_samples = presidio.evaluate_all(new_list)"
   ]
  },
  {
   "cell_type": "markdown",
   "metadata": {},
   "source": [
    "#### F. Extract statistics\n",
    "- Presicion, recall and F measure are calculated based on a PII/Not PII binary classification per token.\n",
    "- Specific entity recall and precision are calculated on the specific PII entity level."
   ]
  },
  {
   "cell_type": "code",
   "execution_count": 7,
   "metadata": {},
   "outputs": [],
   "source": [
    "evaluation_result = presidio.calculate_score(evaluted_samples)"
   ]
  },
  {
   "cell_type": "code",
   "execution_count": 8,
   "metadata": {},
   "outputs": [
    {
     "name": "stdout",
     "output_type": "stream",
     "text": [
      "                        Entity                     Precision                        Recall\n",
      "                        PERSON                        80.81%                        85.41%\n",
      "                   CREDIT_CARD                       100.00%                        93.88%\n",
      "                      LOCATION                        67.19%                        14.19%\n",
      "                           ORG                          nan%                         0.00%\n",
      "                        US_SSN                          nan%                          nan%\n",
      "                 EMAIL_ADDRESS                       100.00%                       100.00%\n",
      "                     DATE_TIME                         2.60%                        50.00%\n",
      "                   DOMAIN_NAME                          nan%                          nan%\n",
      "                  PHONE_NUMBER                       100.00%                        27.78%\n",
      "                    IP_ADDRESS                          nan%                          nan%\n",
      "                     IBAN_CODE                       100.00%                       100.00%\n",
      "                           PII                        85.83%                        54.09%\n",
      "PII F measure: 0.6636225266362253\n"
     ]
    }
   ],
   "source": [
    "evaluation_result.print()"
   ]
  },
  {
   "cell_type": "markdown",
   "metadata": {},
   "source": [
    "#### G. Analyze wrong predictions"
   ]
  },
  {
   "cell_type": "code",
   "execution_count": 21,
   "metadata": {},
   "outputs": [],
   "source": [
    "errors = evaluation_result.model_errors"
   ]
  },
  {
   "cell_type": "code",
   "execution_count": 22,
   "metadata": {},
   "outputs": [
    {
     "name": "stdout",
     "output_type": "stream",
     "text": [
      "Most common false positive tokens:\n",
      "[('Jesus', 126), ('David', 45), ('the', 33), ('Israel', 32), ('Saul', 28)]\n",
      "Example sentence with each FP token:\n",
      "When Jesus finished speaking, the people were amazed at his teaching.\n",
      "I will do this for my servant David, so he will always have someone to rule near me in Jerusalem, the city that I chose to be my own.\n",
      "They said, \"John the Baptizer sent us to you with this question: 'Are you the one who is coming, or should we wait for someone else?'\"\n",
      "I swear by the Lord who saves Israel, that even if my own son Jonathan sinned, he must die.\n",
      "Saul quickly fell to the ground and lay stretched out there.\n"
     ]
    }
   ],
   "source": [
    "ModelEvaluator.most_common_fp_tokens(errors,n=5)"
   ]
  },
  {
   "cell_type": "code",
   "execution_count": 27,
   "metadata": {
    "pycharm": {
     "name": "#%%\n"
    }
   },
   "outputs": [
    {
     "data": {
      "text/html": [
       "<div>\n",
       "<style scoped>\n",
       "    .dataframe tbody tr th:only-of-type {\n",
       "        vertical-align: middle;\n",
       "    }\n",
       "\n",
       "    .dataframe tbody tr th {\n",
       "        vertical-align: top;\n",
       "    }\n",
       "\n",
       "    .dataframe thead th {\n",
       "        text-align: right;\n",
       "    }\n",
       "</style>\n",
       "<table border=\"1\" class=\"dataframe\">\n",
       "  <thead>\n",
       "    <tr style=\"text-align: right;\">\n",
       "      <th></th>\n",
       "      <th>full_text</th>\n",
       "      <th>token</th>\n",
       "      <th>prediction</th>\n",
       "    </tr>\n",
       "  </thead>\n",
       "  <tbody>\n",
       "    <tr>\n",
       "      <th>0</th>\n",
       "      <td>Pero Stolar will be back next week at a specia...</td>\n",
       "      <td>Eastern</td>\n",
       "      <td>PERSON</td>\n",
       "    </tr>\n",
       "    <tr>\n",
       "      <th>1</th>\n",
       "      <td>Our Rabbis teach us that committing a crime in...</td>\n",
       "      <td>Torah</td>\n",
       "      <td>PERSON</td>\n",
       "    </tr>\n",
       "    <tr>\n",
       "      <th>2</th>\n",
       "      <td>The result, \"Poodle Springs\" (Newmark &amp; Lewis,...</td>\n",
       "      <td>Marlowe</td>\n",
       "      <td>PERSON</td>\n",
       "    </tr>\n",
       "    <tr>\n",
       "      <th>3</th>\n",
       "      <td>If your point is that it was done to goad Japa...</td>\n",
       "      <td>Japan</td>\n",
       "      <td>LOCATION</td>\n",
       "    </tr>\n",
       "    <tr>\n",
       "      <th>4</th>\n",
       "      <td>If your point is that it was done to goad Japa...</td>\n",
       "      <td>Indochina</td>\n",
       "      <td>LOCATION</td>\n",
       "    </tr>\n",
       "    <tr>\n",
       "      <th>...</th>\n",
       "      <td>...</td>\n",
       "      <td>...</td>\n",
       "      <td>...</td>\n",
       "    </tr>\n",
       "    <tr>\n",
       "      <th>1905</th>\n",
       "      <td>And Elijah, the woman, and her son had enough ...</td>\n",
       "      <td>Elijah</td>\n",
       "      <td>PERSON</td>\n",
       "    </tr>\n",
       "    <tr>\n",
       "      <th>1906</th>\n",
       "      <td>I would love to hitch a ride from the hotel to...</td>\n",
       "      <td>PreParty</td>\n",
       "      <td>PERSON</td>\n",
       "    </tr>\n",
       "    <tr>\n",
       "      <th>1907</th>\n",
       "      <td>I would love to hitch a ride from the hotel to...</td>\n",
       "      <td>Wednesay</td>\n",
       "      <td>PERSON</td>\n",
       "    </tr>\n",
       "    <tr>\n",
       "      <th>1908</th>\n",
       "      <td>He thinks most of the noise complaints origina...</td>\n",
       "      <td>Bill</td>\n",
       "      <td>PERSON</td>\n",
       "    </tr>\n",
       "    <tr>\n",
       "      <th>1909</th>\n",
       "      <td>He thinks most of the noise complaints origina...</td>\n",
       "      <td>Cornick</td>\n",
       "      <td>PERSON</td>\n",
       "    </tr>\n",
       "  </tbody>\n",
       "</table>\n",
       "<p>1910 rows × 3 columns</p>\n",
       "</div>"
      ],
      "text/plain": [
       "                                              full_text      token prediction\n",
       "0     Pero Stolar will be back next week at a specia...    Eastern     PERSON\n",
       "1     Our Rabbis teach us that committing a crime in...      Torah     PERSON\n",
       "2     The result, \"Poodle Springs\" (Newmark & Lewis,...    Marlowe     PERSON\n",
       "3     If your point is that it was done to goad Japa...      Japan   LOCATION\n",
       "4     If your point is that it was done to goad Japa...  Indochina   LOCATION\n",
       "...                                                 ...        ...        ...\n",
       "1905  And Elijah, the woman, and her son had enough ...     Elijah     PERSON\n",
       "1906  I would love to hitch a ride from the hotel to...   PreParty     PERSON\n",
       "1907  I would love to hitch a ride from the hotel to...   Wednesay     PERSON\n",
       "1908  He thinks most of the noise complaints origina...       Bill     PERSON\n",
       "1909  He thinks most of the noise complaints origina...    Cornick     PERSON\n",
       "\n",
       "[1910 rows x 3 columns]"
      ]
     },
     "execution_count": 27,
     "metadata": {},
     "output_type": "execute_result"
    }
   ],
   "source": [
    "fps_df = ModelEvaluator.get_fps_dataframe(errors,entity='PERSON')\n",
    "fps_df[['full_text','token','prediction']]"
   ]
  },
  {
   "cell_type": "code",
   "execution_count": 24,
   "metadata": {},
   "outputs": [
    {
     "data": {
      "text/html": [
       "<div>\n",
       "<style scoped>\n",
       "    .dataframe tbody tr th:only-of-type {\n",
       "        vertical-align: middle;\n",
       "    }\n",
       "\n",
       "    .dataframe tbody tr th {\n",
       "        vertical-align: top;\n",
       "    }\n",
       "\n",
       "    .dataframe thead th {\n",
       "        text-align: right;\n",
       "    }\n",
       "</style>\n",
       "<table border=\"1\" class=\"dataframe\">\n",
       "  <thead>\n",
       "    <tr style=\"text-align: right;\">\n",
       "      <th></th>\n",
       "      <th>error_type</th>\n",
       "      <th>annotation</th>\n",
       "      <th>prediction</th>\n",
       "      <th>token</th>\n",
       "      <th>full_text</th>\n",
       "      <th>Gender</th>\n",
       "      <th>NameSet</th>\n",
       "      <th>Country</th>\n",
       "      <th>Lowercase</th>\n",
       "      <th>Template#</th>\n",
       "    </tr>\n",
       "  </thead>\n",
       "  <tbody>\n",
       "    <tr>\n",
       "      <th>0</th>\n",
       "      <td>FN</td>\n",
       "      <td>PERSON</td>\n",
       "      <td>O</td>\n",
       "      <td>Landmark'schecks</td>\n",
       "      <td>An initial batch of Mr. Caroline Landmark'sche...</td>\n",
       "      <td>female</td>\n",
       "      <td>Norwegian</td>\n",
       "      <td>Middle-East</td>\n",
       "      <td>False</td>\n",
       "      <td>7900</td>\n",
       "    </tr>\n",
       "    <tr>\n",
       "      <th>1</th>\n",
       "      <td>FN</td>\n",
       "      <td>PERSON</td>\n",
       "      <td>O</td>\n",
       "      <td>Thaís</td>\n",
       "      <td>Although Thaís Correia'strip would seem to hav...</td>\n",
       "      <td>female</td>\n",
       "      <td>Czech</td>\n",
       "      <td>Bolivia</td>\n",
       "      <td>False</td>\n",
       "      <td>36146</td>\n",
       "    </tr>\n",
       "    <tr>\n",
       "      <th>2</th>\n",
       "      <td>FN</td>\n",
       "      <td>PERSON</td>\n",
       "      <td>O</td>\n",
       "      <td>Correia'strip</td>\n",
       "      <td>Although Thaís Correia'strip would seem to hav...</td>\n",
       "      <td>female</td>\n",
       "      <td>Czech</td>\n",
       "      <td>Bolivia</td>\n",
       "      <td>False</td>\n",
       "      <td>36146</td>\n",
       "    </tr>\n",
       "    <tr>\n",
       "      <th>3</th>\n",
       "      <td>FN</td>\n",
       "      <td>PERSON</td>\n",
       "      <td>O</td>\n",
       "      <td>Efimiya</td>\n",
       "      <td>According to Efimiya Dubinina, deputy secretar...</td>\n",
       "      <td>female</td>\n",
       "      <td>Russian</td>\n",
       "      <td>Ethiopia</td>\n",
       "      <td>False</td>\n",
       "      <td>75227</td>\n",
       "    </tr>\n",
       "    <tr>\n",
       "      <th>4</th>\n",
       "      <td>FN</td>\n",
       "      <td>PERSON</td>\n",
       "      <td>O</td>\n",
       "      <td>Dubinina</td>\n",
       "      <td>According to Efimiya Dubinina, deputy secretar...</td>\n",
       "      <td>female</td>\n",
       "      <td>Russian</td>\n",
       "      <td>Ethiopia</td>\n",
       "      <td>False</td>\n",
       "      <td>75227</td>\n",
       "    </tr>\n",
       "    <tr>\n",
       "      <th>...</th>\n",
       "      <td>...</td>\n",
       "      <td>...</td>\n",
       "      <td>...</td>\n",
       "      <td>...</td>\n",
       "      <td>...</td>\n",
       "      <td>...</td>\n",
       "      <td>...</td>\n",
       "      <td>...</td>\n",
       "      <td>...</td>\n",
       "      <td>...</td>\n",
       "    </tr>\n",
       "    <tr>\n",
       "      <th>252</th>\n",
       "      <td>FN</td>\n",
       "      <td>PERSON</td>\n",
       "      <td>O</td>\n",
       "      <td>Asu</td>\n",
       "      <td>A third assistant principal Asu Vizirov was ki...</td>\n",
       "      <td>male</td>\n",
       "      <td>Chechen (Latin)</td>\n",
       "      <td>Iraq</td>\n",
       "      <td>False</td>\n",
       "      <td>8636</td>\n",
       "    </tr>\n",
       "    <tr>\n",
       "      <th>253</th>\n",
       "      <td>FN</td>\n",
       "      <td>PERSON</td>\n",
       "      <td>O</td>\n",
       "      <td>Vizirov</td>\n",
       "      <td>A third assistant principal Asu Vizirov was ki...</td>\n",
       "      <td>male</td>\n",
       "      <td>Chechen (Latin)</td>\n",
       "      <td>Iraq</td>\n",
       "      <td>False</td>\n",
       "      <td>8636</td>\n",
       "    </tr>\n",
       "    <tr>\n",
       "      <th>254</th>\n",
       "      <td>FN</td>\n",
       "      <td>PERSON</td>\n",
       "      <td>O</td>\n",
       "      <td>Lafontaine'sThe</td>\n",
       "      <td>The transaction called for Mr. Valérie Lafonta...</td>\n",
       "      <td>female</td>\n",
       "      <td>French</td>\n",
       "      <td>Bangladesh</td>\n",
       "      <td>False</td>\n",
       "      <td>15276</td>\n",
       "    </tr>\n",
       "    <tr>\n",
       "      <th>255</th>\n",
       "      <td>FN</td>\n",
       "      <td>PERSON</td>\n",
       "      <td>O</td>\n",
       "      <td>zorislav</td>\n",
       "      <td>it is worth noting that zorislav ivanković imm...</td>\n",
       "      <td>male</td>\n",
       "      <td>Croatian</td>\n",
       "      <td>Somalia</td>\n",
       "      <td>True</td>\n",
       "      <td>63633</td>\n",
       "    </tr>\n",
       "    <tr>\n",
       "      <th>256</th>\n",
       "      <td>FN</td>\n",
       "      <td>PERSON</td>\n",
       "      <td>O</td>\n",
       "      <td>ivanković</td>\n",
       "      <td>it is worth noting that zorislav ivanković imm...</td>\n",
       "      <td>male</td>\n",
       "      <td>Croatian</td>\n",
       "      <td>Somalia</td>\n",
       "      <td>True</td>\n",
       "      <td>63633</td>\n",
       "    </tr>\n",
       "  </tbody>\n",
       "</table>\n",
       "<p>257 rows × 10 columns</p>\n",
       "</div>"
      ],
      "text/plain": [
       "    error_type annotation prediction             token  \\\n",
       "0           FN     PERSON          O  Landmark'schecks   \n",
       "1           FN     PERSON          O             Thaís   \n",
       "2           FN     PERSON          O     Correia'strip   \n",
       "3           FN     PERSON          O           Efimiya   \n",
       "4           FN     PERSON          O          Dubinina   \n",
       "..         ...        ...        ...               ...   \n",
       "252         FN     PERSON          O               Asu   \n",
       "253         FN     PERSON          O           Vizirov   \n",
       "254         FN     PERSON          O   Lafontaine'sThe   \n",
       "255         FN     PERSON          O          zorislav   \n",
       "256         FN     PERSON          O         ivanković   \n",
       "\n",
       "                                             full_text  Gender  \\\n",
       "0    An initial batch of Mr. Caroline Landmark'sche...  female   \n",
       "1    Although Thaís Correia'strip would seem to hav...  female   \n",
       "2    Although Thaís Correia'strip would seem to hav...  female   \n",
       "3    According to Efimiya Dubinina, deputy secretar...  female   \n",
       "4    According to Efimiya Dubinina, deputy secretar...  female   \n",
       "..                                                 ...     ...   \n",
       "252  A third assistant principal Asu Vizirov was ki...    male   \n",
       "253  A third assistant principal Asu Vizirov was ki...    male   \n",
       "254  The transaction called for Mr. Valérie Lafonta...  female   \n",
       "255  it is worth noting that zorislav ivanković imm...    male   \n",
       "256  it is worth noting that zorislav ivanković imm...    male   \n",
       "\n",
       "             NameSet      Country  Lowercase  Template#  \n",
       "0          Norwegian  Middle-East      False       7900  \n",
       "1              Czech      Bolivia      False      36146  \n",
       "2              Czech      Bolivia      False      36146  \n",
       "3            Russian     Ethiopia      False      75227  \n",
       "4            Russian     Ethiopia      False      75227  \n",
       "..               ...          ...        ...        ...  \n",
       "252  Chechen (Latin)         Iraq      False       8636  \n",
       "253  Chechen (Latin)         Iraq      False       8636  \n",
       "254           French   Bangladesh      False      15276  \n",
       "255         Croatian      Somalia       True      63633  \n",
       "256         Croatian      Somalia       True      63633  \n",
       "\n",
       "[257 rows x 10 columns]"
      ]
     },
     "execution_count": 24,
     "metadata": {},
     "output_type": "execute_result"
    }
   ],
   "source": [
    "fns_df = ModelEvaluator.get_fns_dataframe(errors,entity='PERSON')\n",
    "fns_df"
   ]
  },
  {
   "cell_type": "code",
   "execution_count": 35,
   "metadata": {},
   "outputs": [
    {
     "data": {
      "text/plain": [
       "Full text: \"But advertisers wouldn't think of it,\" she said.\n",
       "Spans: []\n",
       "Tokens: [\", But, advertisers, would, n't, think, of, it, ,, \", she, said, .]\n",
       "Tags: ['O', 'O', 'O', 'O', 'O', 'O', 'O', 'O', 'O', 'O', 'O', 'O', 'O']"
      ]
     },
     "execution_count": 35,
     "metadata": {},
     "output_type": "execute_result"
    }
   ],
   "source": [
    "input_samples[100]"
   ]
  },
  {
   "cell_type": "code",
   "execution_count": null,
   "metadata": {},
   "outputs": [],
   "source": []
  }
 ],
 "metadata": {
  "kernelspec": {
   "display_name": "Python 3",
   "language": "python",
   "name": "python3"
  },
  "language_info": {
   "codemirror_mode": {
    "name": "ipython",
    "version": 3
   },
   "file_extension": ".py",
   "mimetype": "text/x-python",
   "name": "python",
   "nbconvert_exporter": "python",
   "pygments_lexer": "ipython3",
   "version": "3.7.7"
  },
  "pycharm": {
   "stem_cell": {
    "cell_type": "raw",
    "metadata": {
     "collapsed": false
    },
    "source": []
   }
  }
 },
 "nbformat": 4,
 "nbformat_minor": 4
}
