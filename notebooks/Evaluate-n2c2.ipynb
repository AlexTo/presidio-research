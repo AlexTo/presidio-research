{
 "cells": [
  {
   "cell_type": "code",
   "execution_count": 6,
   "metadata": {
    "pycharm": {
     "is_executing": true
    }
   },
   "outputs": [
    {
     "name": "stdout",
     "output_type": "stream",
     "text": [
      "The autoreload extension is already loaded. To reload it, use:\n",
      "  %reload_ext autoreload\n"
     ]
    }
   ],
   "source": [
    "from presidio_evaluator.data_generator import read_synth_dataset\n",
    "from presidio_evaluator import ModelEvaluator\n",
    "from collections import Counter\n",
    "\n",
    "%load_ext autoreload\n",
    "%autoreload 2\n",
    "\n",
    "MY_PRESIDIO_ENDPOINT = \"http://localhost:8080/api/v1/projects/test/analyze\""
   ]
  },
  {
   "cell_type": "markdown",
   "metadata": {},
   "source": [
    "## Evaluate your Presidio instance via the Presidio API"
   ]
  },
  {
   "cell_type": "markdown",
   "metadata": {},
   "source": [
    "#### A. Read dataset for evaluation"
   ]
  },
  {
   "cell_type": "code",
   "execution_count": 9,
   "metadata": {
    "pycharm": {
     "is_executing": true
    }
   },
   "outputs": [
    {
     "name": "stdout",
     "output_type": "stream",
     "text": [
      "Read 237 samples\n"
     ]
    }
   ],
   "source": [
    "input_samples = read_synth_dataset(\"../data/n2c2/set_2.json\")\n",
    "print(\"Read {} samples\".format(len(input_samples)))"
   ]
  },
  {
   "cell_type": "code",
   "execution_count": 10,
   "metadata": {},
   "outputs": [
    {
     "data": {
      "text/plain": [
       "\"\\n\\n\\nRecord date: 2092-11-16\\n\\n \\n \\n \\n \\n \\n \\nNovember 16, 2092\\n \\n \\n \\nStuart J. Long, M.D.\\nGlenn Helen Medical Group\\nGlenn Helen Infirmary\\nAlgoma, CO  71183\\n \\nRE:  Roberta Vincent\\n     MR #380-18-32-2\\n \\nDear Dr. Long:\\n \\nThank you for referring Ms. Roberta Vincent to the Renal Services Clinic.  I had the pleasure of seeing her on November 16,\\n2092.  Please allow me to summarize her history for our records.\\n \\nMs. Vincent is a 56-year-old mother of eight with chronic renal\\nfailure of unknown etiology.  She is six years status post\\nhysterectomy for endometriosis during which an occult\\nleiomyosarcoma was discovered.  She has an extensive history of\\nhidradenitis, obesity, and hypertension.  She had one stillborn\\ninfant, one premature infant, and three spontaneous abortions. \\nSFOC records are unavailable at this time.\\n \\nHer medications include Premarin 0.625 qd, Diltiazem 240 qd,\\nfurosemide 40 mg qd, Mevacor 20 mg qd, Calcitriol 0.25 mcg qd,\\nNiferex 300 mg qd, Vitamin E 400 units qd, fish oil qd, and Keflex\\n250 mg qid.\\n \\nOn physical examination Ms. Vincent is a 56-year-old woman in no\\ndistress.  Her weight is 101.5 kilograms, or 223 lbs.  Temperature\\nis normal.  Pulse is 88 beats per minute.  Blood pressure is\\n178/96.  There is striking hirsutism and moon facies.  There is a\\nbuffalo hump.  The lungs show scattered wheezing.  Cardiovascular\\nexam is normal.  There are discolorations of the skin across the\\nneck, upper extremities, and trunk which are hyperpigmented but not\\nraised.  The abdomen is obese without palpable masses.  There is a\\nventral hernia deep in the lower part of the abdomen.  The\\nextremities show trace edema.  There are several areas of\\nsuperficial petechiae.\\n \\nIn summary, this 56-year-old woman has chronic renal failure of\\nunclear etiology.  She does report an episode of lower extremity\\nswelling in association with an episode of hidradenitis.  ThisRoberta Vincent\\nMR #380-18-32-2               -2-            November 16, 2092\\n \\n \\nraises the possibility of a post-infectious glomerulonephritis now\\nin a chronic phase.  Other diagnostic possibilities include other\\nforms of chronic glomerulonephritis including systemic lupus\\nerythematosus given the history of spontaneous abortions. \\nNevertheless, I agree that kidney biopsy is not indicated at this\\ntime given the advanced nature of her disease and the increased\\nrisk due to her body habitus.\\n \\nI discussed several options in renal replacement therapy with Ms.\\nVincent. Although she has no medical conditions which would\\npreclude living-related or cadaveric kidney transplantation, her\\nobesity and glucose intolerance along with the history of\\nhidradenitis make transplantation a less attractive option.  I have\\nencouraged Ms. Vincent to attempt a gradual weight loss program in\\norder to improve her fitness prior to either dialysis or\\ntransplantation.  Nevertheless, her appearance is quite reminiscent\\nof Cushing's disease, and this should be worked up if it has not\\nbeen performed previously.\\n \\nI have arranged an iothalamate GFR to more closely approximate her\\nkidney function and a follow-up appointment in two months' time to\\nmeet with Helen Uren and consider creation of a native AV\\nfistula or placement of a graft.\\n \\nThank you once again for your kind referral.\\n \\nRespectfully,\\n \\n \\n \\nElias Q. Mercado, M.D.\\n \\n \\n \\nS. Quenton Jolley, M.D.\\nGlenn Helen Medical Group\\n80 Whitney St\\nAlgoma, CO  71183\\n \\nDD: 11/16/92\\nDT: 11/24/92\\nDV: 11/16/92\\n \\n/joshi\\n \\ncc:  Edward Xanthos, M.D.\\n     Saint Francis Outpatient Center\\n     784 Greatstone Drive\\n     Boulder, CO  72529\\n\\n\\n\\n\\n\""
      ]
     },
     "execution_count": 10,
     "metadata": {},
     "output_type": "execute_result"
    }
   ],
   "source": [
    "input_samples[0].full_text"
   ]
  },
  {
   "cell_type": "markdown",
   "metadata": {},
   "source": [
    "#### B. Descriptive statistics"
   ]
  },
  {
   "cell_type": "code",
   "execution_count": 11,
   "metadata": {
    "pycharm": {
     "is_executing": true
    }
   },
   "outputs": [
    {
     "data": {
      "text/plain": [
       "Counter({'DATE_TIME': 1802,\n",
       "         'PERSON': 1235,\n",
       "         'ORGANIZATION': 404,\n",
       "         'LOCATION': 365,\n",
       "         'MEDICALRECORD': 168,\n",
       "         'AGE': 339,\n",
       "         'PROFESSION': 72,\n",
       "         'IDNUM': 87,\n",
       "         'USERNAME': 45,\n",
       "         'PHONE_NUMBER': 48,\n",
       "         'EMAIL_ADDRESS': 1})"
      ]
     },
     "execution_count": 11,
     "metadata": {},
     "output_type": "execute_result"
    }
   ],
   "source": [
    "flatten = lambda l: [item for sublist in l for item in sublist]\n",
    "\n",
    "count_per_entity = Counter([span.entity_type for span in flatten([input_sample.spans for input_sample in input_samples])])\n",
    "count_per_entity"
   ]
  },
  {
   "cell_type": "markdown",
   "metadata": {},
   "source": [
    "#### C. Match the dataset's entity names"
   ]
  },
  {
   "cell_type": "code",
   "execution_count": 12,
   "metadata": {},
   "outputs": [],
   "source": [
    "# Mapping between dataset entities and Presidio entities. Key: Dataset entity, Value: Presidio entity\n",
    "entities_mapping = {'PERSON': 'PERSON',\n",
    "                    'DATE': 'DATE_TIME',\n",
    "                    'HOSPITAL': 'ORG',\n",
    "                    'PATIENT': 'PERSON',\n",
    "                    'MEDICALRECORD': 'AGE',\n",
    "                    'AGE': 'AGE',\n",
    "                    'COUNTRY': 'LOCATION',\n",
    "                    'IDNUM': 'IDNUM',\n",
    "                    'DOCTOR': 'PERSON',\n",
    "                    'USERNAME': 'USERNAME',\n",
    "                    'STREET': 'LOCATION',\n",
    "                    'CITY': 'LOCATION',\n",
    "                    'STATE': 'LOCATION',\n",
    "                    'ZIP': 'LOCATION',\n",
    "                    'PROFESSION': 'PROFESSION',\n",
    "                    'PHONE': 'PHONE_NUMBER',\n",
    "                    'ORGANIZATION': 'ORG',\n",
    "                    'BIOID': 'BIOID',\n",
    "                    'DEVICE': 'DEVICE',\n",
    "                    'LOCATION-OTHER': 'LOCATION',\n",
    "                    'PHONE_NUMBER': 'PHONE_NUMBER',\n",
    "                    'EMAIL_ADDRESS': 'EMAIL_ADDRESS',\n",
    "                    'HEALTHPLAN': 'HEALTHPLAN',\n",
    "                    'URL': 'URL',\n",
    "                    'O': 'O'}\n",
    "\n",
    "new_list = ModelEvaluator.align_input_samples_to_presidio_analyzer(input_samples,\n",
    "                                                                   entities_mapping)"
   ]
  },
  {
   "cell_type": "markdown",
   "metadata": {},
   "source": [
    "#### D. Recalculate statistics on updated dataset"
   ]
  },
  {
   "cell_type": "code",
   "execution_count": 13,
   "metadata": {},
   "outputs": [
    {
     "data": {
      "text/plain": [
       "Counter({'PERSON': 1235,\n",
       "         'ORG': 404,\n",
       "         'AGE': 507,\n",
       "         'PROFESSION': 72,\n",
       "         'IDNUM': 87,\n",
       "         'USERNAME': 45,\n",
       "         'PHONE_NUMBER': 48,\n",
       "         'EMAIL_ADDRESS': 1})"
      ]
     },
     "execution_count": 13,
     "metadata": {},
     "output_type": "execute_result"
    }
   ],
   "source": [
    "## recheck counter\n",
    "count_per_entity_new = Counter([span.entity_type for span in flatten([input_sample.spans for input_sample in new_list])])\n",
    "count_per_entity_new"
   ]
  },
  {
   "cell_type": "markdown",
   "metadata": {},
   "source": [
    "#### E. Run the presidio-evaluator framework with Presidio's API as the 'model' at test"
   ]
  },
  {
   "cell_type": "code",
   "execution_count": 14,
   "metadata": {},
   "outputs": [],
   "source": [
    "from presidio_evaluator import PresidioAPIEvaluator\n",
    "presidio = PresidioAPIEvaluator(all_fields=False, entities_to_keep=list(count_per_entity_new.keys()),endpoint=MY_PRESIDIO_ENDPOINT)\n",
    "evaluted_samples = presidio.evaluate_all(new_list)"
   ]
  },
  {
   "cell_type": "markdown",
   "metadata": {},
   "source": [
    "#### F. Extract statistics\n",
    "- Presicion, recall and F measure are calculated based on a PII/Not PII binary classification per token.\n",
    "- Specific entity recall and precision are calculated on the specific PII entity level."
   ]
  },
  {
   "cell_type": "code",
   "execution_count": 55,
   "metadata": {},
   "outputs": [],
   "source": [
    "evaluation_result = presidio.calculate_score(evaluted_samples)"
   ]
  },
  {
   "cell_type": "code",
   "execution_count": 8,
   "metadata": {},
   "outputs": [
    {
     "name": "stdout",
     "output_type": "stream",
     "text": [
      "                        Entity                     Precision                        Recall\n",
      "                     DATE_TIME                        52.61%                        88.05%\n",
      "                        PERSON                        94.48%                        72.49%\n",
      "                           ORG                        50.58%                        58.99%\n",
      "                      LOCATION                        72.66%                        38.75%\n",
      "                           AGE                          nan%                         0.00%\n",
      "                    PROFESSION                          nan%                         0.00%\n",
      "                         IDNUM                          nan%                         0.00%\n",
      "                      USERNAME                          nan%                         0.00%\n",
      "                  PHONE_NUMBER                       100.00%                        70.68%\n",
      "                 EMAIL_ADDRESS                       100.00%                       100.00%\n",
      "                           PII                        64.95%                        68.17%\n",
      "PII F measure: 0.6652166447255452\n"
     ]
    }
   ],
   "source": [
    "evaluation_result.print() #1 "
   ]
  },
  {
   "cell_type": "code",
   "execution_count": 13,
   "metadata": {},
   "outputs": [
    {
     "name": "stdout",
     "output_type": "stream",
     "text": [
      "                        Entity                     Precision                        Recall\n",
      "                     DATE_TIME                        52.61%                        88.05%\n",
      "                        PERSON                        93.68%                        73.33%\n",
      "                           ORG                        50.58%                        58.99%\n",
      "                      LOCATION                        72.66%                        38.75%\n",
      "                           AGE                          nan%                         0.00%\n",
      "                    PROFESSION                          nan%                         0.00%\n",
      "                         IDNUM                          nan%                         0.00%\n",
      "                      USERNAME                          nan%                         0.00%\n",
      "                  PHONE_NUMBER                       100.00%                        70.68%\n",
      "                 EMAIL_ADDRESS                       100.00%                       100.00%\n",
      "                           PII                        64.90%                        68.41%\n",
      "PII F measure: 0.6660954992003655\n"
     ]
    }
   ],
   "source": [
    "evaluation_result.print()"
   ]
  },
  {
   "cell_type": "code",
   "execution_count": 23,
   "metadata": {},
   "outputs": [
    {
     "name": "stdout",
     "output_type": "stream",
     "text": [
      "                        Entity                     Precision                        Recall\n",
      "                     DATE_TIME                        52.61%                        88.05%\n",
      "                        PERSON                        86.81%                        75.30%\n",
      "                           ORG                        50.58%                        58.99%\n",
      "                      LOCATION                        72.82%                        38.56%\n",
      "                           AGE                          nan%                         0.00%\n",
      "                    PROFESSION                          nan%                         0.00%\n",
      "                         IDNUM                          nan%                         0.00%\n",
      "                      USERNAME                          nan%                         0.00%\n",
      "                  PHONE_NUMBER                       100.00%                        70.68%\n",
      "                 EMAIL_ADDRESS                       100.00%                       100.00%\n",
      "                           PII                        64.06%                        69.02%\n",
      "PII F measure: 0.6644454483849108\n"
     ]
    }
   ],
   "source": [
    "evaluation_result.print()"
   ]
  },
  {
   "cell_type": "code",
   "execution_count": 16,
   "metadata": {},
   "outputs": [
    {
     "name": "stdout",
     "output_type": "stream",
     "text": [
      "                        Entity                     Precision                        Recall\n",
      "                     DATE_TIME                        52.61%                        88.05%\n",
      "                        PERSON                        89.51%                        75.14%\n",
      "                           ORG                        50.48%                        58.74%\n",
      "                      LOCATION                        72.57%                        38.56%\n",
      "                           AGE                          nan%                         0.00%\n",
      "                    PROFESSION                          nan%                         0.00%\n",
      "                         IDNUM                          nan%                         0.00%\n",
      "                      USERNAME                          nan%                         0.00%\n",
      "                  PHONE_NUMBER                       100.00%                        70.68%\n",
      "                 EMAIL_ADDRESS                       100.00%                       100.00%\n",
      "                           PII                        64.52%                        69.01%\n",
      "PII F measure: 0.6668934240362813\n"
     ]
    }
   ],
   "source": [
    "evaluation_result.print()"
   ]
  },
  {
   "cell_type": "code",
   "execution_count": 28,
   "metadata": {},
   "outputs": [
    {
     "name": "stdout",
     "output_type": "stream",
     "text": [
      "                        Entity                     Precision                        Recall\n",
      "                     DATE_TIME                        52.61%                        88.05%\n",
      "                        PERSON                        79.71%                        78.24%\n",
      "                           ORG                        50.58%                        58.74%\n",
      "                      LOCATION                        72.28%                        38.01%\n",
      "                           AGE                          nan%                         0.00%\n",
      "                    PROFESSION                          nan%                         0.00%\n",
      "                         IDNUM                          nan%                         0.00%\n",
      "                      USERNAME                          nan%                         0.00%\n",
      "                  PHONE_NUMBER                       100.00%                        70.68%\n",
      "                 EMAIL_ADDRESS                       100.00%                       100.00%\n",
      "                           PII                        63.03%                        69.87%\n",
      "PII F measure: 0.6627350617558696\n"
     ]
    }
   ],
   "source": [
    "evaluation_result.print()"
   ]
  },
  {
   "cell_type": "code",
   "execution_count": 32,
   "metadata": {},
   "outputs": [
    {
     "name": "stdout",
     "output_type": "stream",
     "text": [
      "                        Entity                     Precision                        Recall\n",
      "                     DATE_TIME                        52.61%                        88.05%\n",
      "                        PERSON                        87.11%                        78.24%\n",
      "                           ORG                        50.69%                        58.99%\n",
      "                      LOCATION                        72.38%                        38.19%\n",
      "                           AGE                          nan%                         0.00%\n",
      "                    PROFESSION                          nan%                         0.00%\n",
      "                         IDNUM                          nan%                         0.00%\n",
      "                      USERNAME                          nan%                         0.00%\n",
      "                  PHONE_NUMBER                       100.00%                        70.68%\n",
      "                 EMAIL_ADDRESS                       100.00%                       100.00%\n",
      "                           PII                        64.27%                        69.78%\n",
      "PII F measure: 0.6691416357295533\n"
     ]
    }
   ],
   "source": [
    "evaluation_result.print()"
   ]
  },
  {
   "cell_type": "code",
   "execution_count": 38,
   "metadata": {},
   "outputs": [
    {
     "name": "stdout",
     "output_type": "stream",
     "text": [
      "                        Entity                     Precision                        Recall\n",
      "                     DATE_TIME                        52.61%                        88.05%\n",
      "                        PERSON                        87.24%                        78.24%\n",
      "                           ORG                        50.69%                        58.99%\n",
      "                      LOCATION                        72.47%                        38.38%\n",
      "                           AGE                          nan%                         0.00%\n",
      "                    PROFESSION                          nan%                         0.00%\n",
      "                         IDNUM                          nan%                         0.00%\n",
      "                      USERNAME                          nan%                         0.00%\n",
      "                  PHONE_NUMBER                       100.00%                        70.68%\n",
      "                 EMAIL_ADDRESS                       100.00%                       100.00%\n",
      "                           PII                        64.29%                        69.78%\n",
      "PII F measure: 0.6692169216921693\n"
     ]
    }
   ],
   "source": [
    "evaluation_result.print()"
   ]
  },
  {
   "cell_type": "code",
   "execution_count": 45,
   "metadata": {},
   "outputs": [
    {
     "name": "stdout",
     "output_type": "stream",
     "text": [
      "                        Entity                     Precision                        Recall\n",
      "                     DATE_TIME                        52.65%                        88.05%\n",
      "                        PERSON                        85.76%                        72.70%\n",
      "                           ORG                        51.35%                        58.74%\n",
      "                      LOCATION                        76.21%                        37.82%\n",
      "                           AGE                          nan%                         0.00%\n",
      "                    PROFESSION                          nan%                         0.00%\n",
      "                         IDNUM                          nan%                         0.00%\n",
      "                      USERNAME                          nan%                         0.00%\n",
      "                  PHONE_NUMBER                       100.00%                        70.68%\n",
      "                 EMAIL_ADDRESS                       100.00%                       100.00%\n",
      "                           PII                        63.77%                        68.05%\n",
      "PII F measure: 0.6584189319561886\n"
     ]
    }
   ],
   "source": [
    "evaluation_result.print()"
   ]
  },
  {
   "cell_type": "code",
   "execution_count": 53,
   "metadata": {},
   "outputs": [
    {
     "name": "stdout",
     "output_type": "stream",
     "text": [
      "                        Entity                     Precision                        Recall\n",
      "                     DATE_TIME                        52.65%                        88.05%\n",
      "                        PERSON                        85.38%                        79.58%\n",
      "                           ORG                        51.35%                        58.74%\n",
      "                      LOCATION                        76.21%                        37.82%\n",
      "                           AGE                          nan%                         0.00%\n",
      "                    PROFESSION                          nan%                         0.00%\n",
      "                         IDNUM                          nan%                         0.00%\n",
      "                      USERNAME                          nan%                         0.00%\n",
      "                  PHONE_NUMBER                       100.00%                        70.68%\n",
      "                 EMAIL_ADDRESS                       100.00%                       100.00%\n",
      "                           PII                        64.15%                        69.98%\n",
      "PII F measure: 0.6693973740320952\n"
     ]
    }
   ],
   "source": [
    "evaluation_result.print()"
   ]
  },
  {
   "cell_type": "code",
   "execution_count": 57,
   "metadata": {},
   "outputs": [
    {
     "name": "stdout",
     "output_type": "stream",
     "text": [
      "                        Entity                     Precision                        Recall\n",
      "                     DATE_TIME                        52.65%                        88.05%\n",
      "                        PERSON                        85.38%                        79.58%\n",
      "                           ORG                        51.35%                        58.74%\n",
      "                      LOCATION                        76.21%                        37.82%\n",
      "                           AGE                          nan%                         0.00%\n",
      "                    PROFESSION                          nan%                         0.00%\n",
      "                         IDNUM                          nan%                         0.00%\n",
      "                      USERNAME                          nan%                         0.00%\n",
      "                  PHONE_NUMBER                       100.00%                        70.68%\n",
      "                 EMAIL_ADDRESS                       100.00%                       100.00%\n",
      "                           PII                        64.15%                        69.98%\n",
      "PII F measure: 0.6693973740320952\n"
     ]
    }
   ],
   "source": [
    "evaluation_result.print()"
   ]
  },
  {
   "cell_type": "code",
   "execution_count": 88,
   "metadata": {},
   "outputs": [
    {
     "name": "stdout",
     "output_type": "stream",
     "text": [
      "                        Entity                     Precision                        Recall\n",
      "                     DATE_TIME                        52.65%                        88.05%\n",
      "                        PERSON                        83.80%                        82.18%\n",
      "                           ORG                        51.68%                        58.62%\n",
      "                      LOCATION                        77.36%                        37.82%\n",
      "                           AGE                          nan%                         0.00%\n",
      "                    PROFESSION                          nan%                         0.00%\n",
      "                         IDNUM                          nan%                         0.00%\n",
      "                      USERNAME                          nan%                         0.00%\n",
      "                  PHONE_NUMBER                       100.00%                        70.68%\n",
      "                 EMAIL_ADDRESS                       100.00%                       100.00%\n",
      "                           PII                        64.05%                        70.65%\n",
      "PII F measure: 0.6718732567220796\n"
     ]
    }
   ],
   "source": [
    "evaluation_result.print()"
   ]
  },
  {
   "cell_type": "code",
   "execution_count": 98,
   "metadata": {},
   "outputs": [
    {
     "name": "stdout",
     "output_type": "stream",
     "text": [
      "                        Entity                     Precision                        Recall\n",
      "                     DATE_TIME                        52.65%                        88.05%\n",
      "                        PERSON                        83.25%                        83.35%\n",
      "                           ORG                        51.91%                        58.62%\n",
      "                      LOCATION                        75.09%                        37.82%\n",
      "                           AGE                          nan%                         0.00%\n",
      "                    PROFESSION                          nan%                         0.00%\n",
      "                         IDNUM                          nan%                         0.00%\n",
      "                      USERNAME                          nan%                         0.00%\n",
      "                  PHONE_NUMBER                       100.00%                        70.68%\n",
      "                 EMAIL_ADDRESS                       100.00%                       100.00%\n",
      "                           PII                        64.03%                        71.02%\n",
      "PII F measure: 0.6734523610879359\n"
     ]
    }
   ],
   "source": [
    "evaluation_result.print()"
   ]
  },
  {
   "cell_type": "code",
   "execution_count": 15,
   "metadata": {},
   "outputs": [
    {
     "name": "stdout",
     "output_type": "stream",
     "text": [
      "                        Entity                     Precision                        Recall\n",
      "                     DATE_TIME                        52.65%                        88.05%\n",
      "                        PERSON                        82.53%                        83.98%\n",
      "                           ORG                        51.74%                        58.62%\n",
      "                      LOCATION                        78.24%                        37.82%\n",
      "                           AGE                          nan%                         0.00%\n",
      "                    PROFESSION                          nan%                         0.00%\n",
      "                         IDNUM                          nan%                         0.00%\n",
      "                      USERNAME                          nan%                         0.00%\n",
      "                  PHONE_NUMBER                       100.00%                        70.68%\n",
      "                 EMAIL_ADDRESS                       100.00%                       100.00%\n",
      "                           PII                        63.89%                        71.11%\n",
      "PII F measure: 0.673070516379789\n"
     ]
    }
   ],
   "source": [
    "evaluation_result.print()"
   ]
  },
  {
   "cell_type": "code",
   "execution_count": 30,
   "metadata": {},
   "outputs": [
    {
     "name": "stdout",
     "output_type": "stream",
     "text": [
      "                        Entity                     Precision                        Recall\n",
      "                     DATE_TIME                        52.65%                        88.05%\n",
      "                        PERSON                        82.55%                        85.49%\n",
      "                           ORG                        51.91%                        58.62%\n",
      "                      LOCATION                        78.85%                        37.82%\n",
      "                           AGE                          nan%                         0.00%\n",
      "                    PROFESSION                          nan%                         0.00%\n",
      "                         IDNUM                          nan%                         0.00%\n",
      "                      USERNAME                          nan%                         0.00%\n",
      "                  PHONE_NUMBER                       100.00%                        70.68%\n",
      "                 EMAIL_ADDRESS                       100.00%                       100.00%\n",
      "                           PII                        63.99%                        71.49%\n",
      "PII F measure: 0.6753102836879432\n"
     ]
    }
   ],
   "source": [
    "evaluation_result.print()"
   ]
  },
  {
   "cell_type": "code",
   "execution_count": 40,
   "metadata": {},
   "outputs": [
    {
     "name": "stdout",
     "output_type": "stream",
     "text": [
      "                        Entity                     Precision                        Recall\n",
      "                        PERSON                        65.05%                        87.88%\n",
      "                           ORG                        52.88%                        56.53%\n",
      "                           AGE                          nan%                         0.00%\n",
      "                    PROFESSION                          nan%                         0.00%\n",
      "                         IDNUM                          nan%                         0.00%\n",
      "                      USERNAME                          nan%                         0.00%\n",
      "                  PHONE_NUMBER                       100.00%                        66.92%\n",
      "                 EMAIL_ADDRESS                       100.00%                       100.00%\n",
      "                           PII                        64.31%                        59.40%\n",
      "PII F measure: 0.6175761056863871\n"
     ]
    }
   ],
   "source": [
    "evaluation_result.print()"
   ]
  },
  {
   "cell_type": "code",
   "execution_count": 9,
   "metadata": {},
   "outputs": [
    {
     "name": "stdout",
     "output_type": "stream",
     "text": [
      "                        Entity                     Precision                        Recall\n",
      "                        PERSON                        65.25%                        85.58%\n",
      "                           ORG                        52.57%                        56.77%\n",
      "                           AGE                          nan%                         0.00%\n",
      "                    PROFESSION                          nan%                         0.00%\n",
      "                         IDNUM                          nan%                         0.00%\n",
      "                      USERNAME                          nan%                         0.00%\n",
      "                  PHONE_NUMBER                       100.00%                        66.92%\n",
      "                 EMAIL_ADDRESS                       100.00%                       100.00%\n",
      "                           PII                        64.30%                        58.19%\n",
      "PII F measure: 0.6109048723897912\n"
     ]
    }
   ],
   "source": [
    "evaluation_result.print()"
   ]
  },
  {
   "cell_type": "code",
   "execution_count": 17,
   "metadata": {},
   "outputs": [
    {
     "name": "stdout",
     "output_type": "stream",
     "text": [
      "                        Entity                     Precision                        Recall\n",
      "                        PERSON                        65.25%                        85.58%\n",
      "                           ORG                        52.57%                        56.77%\n",
      "                           AGE                          nan%                         0.00%\n",
      "                    PROFESSION                          nan%                         0.00%\n",
      "                         IDNUM                          nan%                         0.00%\n",
      "                      USERNAME                          nan%                         0.00%\n",
      "                  PHONE_NUMBER                       100.00%                        66.92%\n",
      "                 EMAIL_ADDRESS                       100.00%                       100.00%\n",
      "                           PII                        64.30%                        58.19%\n",
      "PII F measure: 0.6109048723897912\n"
     ]
    }
   ],
   "source": [
    "evaluation_result.print()"
   ]
  },
  {
   "cell_type": "code",
   "execution_count": 9,
   "metadata": {},
   "outputs": [
    {
     "name": "stdout",
     "output_type": "stream",
     "text": [
      "                        Entity                     Precision                        Recall\n",
      "                        PERSON                        65.03%                        89.81%\n",
      "                           ORG                        53.00%                        56.53%\n",
      "                           AGE                          nan%                         0.00%\n",
      "                    PROFESSION                          nan%                         0.00%\n",
      "                         IDNUM                          nan%                         0.00%\n",
      "                      USERNAME                          nan%                         0.00%\n",
      "                  PHONE_NUMBER                       100.00%                        66.92%\n",
      "                 EMAIL_ADDRESS                       100.00%                       100.00%\n",
      "                           PII                        64.35%                        60.44%\n",
      "PII F measure: 0.6233618233618233\n"
     ]
    }
   ],
   "source": [
    "evaluation_result.print()"
   ]
  },
  {
   "cell_type": "code",
   "execution_count": 9,
   "metadata": {},
   "outputs": [
    {
     "name": "stdout",
     "output_type": "stream",
     "text": [
      "                        Entity                     Precision                        Recall\n",
      "                        PERSON                        65.03%                        89.81%\n",
      "                           ORG                        53.00%                        56.53%\n",
      "                           AGE                          nan%                         0.00%\n",
      "                    PROFESSION                          nan%                         0.00%\n",
      "                         IDNUM                          nan%                         0.00%\n",
      "                      USERNAME                          nan%                         0.00%\n",
      "                  PHONE_NUMBER                       100.00%                        66.92%\n",
      "                 EMAIL_ADDRESS                       100.00%                       100.00%\n",
      "                           PII                        64.35%                        60.44%\n",
      "PII F measure: 0.6233618233618233\n"
     ]
    }
   ],
   "source": [
    "evaluation_result.print()"
   ]
  },
  {
   "cell_type": "code",
   "execution_count": 9,
   "metadata": {},
   "outputs": [
    {
     "name": "stdout",
     "output_type": "stream",
     "text": [
      "                        Entity                     Precision                        Recall\n",
      "                        PERSON                        51.05%                        89.81%\n",
      "                           ORG                        17.53%                        34.36%\n",
      "                           AGE                          nan%                         0.00%\n",
      "                    PROFESSION                          nan%                         0.00%\n",
      "                         IDNUM                          nan%                         0.00%\n",
      "                      USERNAME                          nan%                         0.00%\n",
      "                  PHONE_NUMBER                       100.00%                        66.92%\n",
      "                 EMAIL_ADDRESS                       100.00%                       100.00%\n",
      "                           PII                        44.66%                        58.01%\n",
      "PII F measure: 0.5046621166971066\n"
     ]
    }
   ],
   "source": [
    "evaluation_result.print()"
   ]
  },
  {
   "cell_type": "code",
   "execution_count": 29,
   "metadata": {},
   "outputs": [
    {
     "name": "stdout",
     "output_type": "stream",
     "text": [
      "                        Entity                     Precision                        Recall\n",
      "                        PERSON                        60.59%                        91.40%\n",
      "                           ORG                        52.94%                        56.53%\n",
      "                           AGE                          nan%                         0.00%\n",
      "                    PROFESSION                          nan%                         0.00%\n",
      "                         IDNUM                          nan%                         0.00%\n",
      "                      USERNAME                          nan%                         0.00%\n",
      "                  PHONE_NUMBER                       100.00%                        66.92%\n",
      "                 EMAIL_ADDRESS                       100.00%                       100.00%\n",
      "                           PII                        60.88%                        61.28%\n",
      "PII F measure: 0.6107929515418502\n"
     ]
    }
   ],
   "source": [
    "evaluation_result.print()"
   ]
  },
  {
   "cell_type": "code",
   "execution_count": 64,
   "metadata": {},
   "outputs": [
    {
     "name": "stdout",
     "output_type": "stream",
     "text": [
      "                        Entity                     Precision                        Recall\n",
      "                        PERSON                        60.55%                        91.53%\n",
      "                           ORG                        53.19%                        56.53%\n",
      "                           AGE                          nan%                         0.00%\n",
      "                    PROFESSION                          nan%                         0.00%\n",
      "                         IDNUM                          nan%                         0.00%\n",
      "                      USERNAME                          nan%                         0.00%\n",
      "                  PHONE_NUMBER                       100.00%                        66.92%\n",
      "                 EMAIL_ADDRESS                       100.00%                       100.00%\n",
      "                           PII                        60.86%                        61.30%\n",
      "PII F measure: 0.6108114059231531\n"
     ]
    }
   ],
   "source": [
    "evaluation_result.print()"
   ]
  },
  {
   "cell_type": "code",
   "execution_count": 45,
   "metadata": {},
   "outputs": [
    {
     "name": "stdout",
     "output_type": "stream",
     "text": [
      "                        Entity                     Precision                        Recall\n",
      "                        PERSON                        60.57%                        91.99%\n",
      "                           ORG                        53.19%                        56.53%\n",
      "                           AGE                          nan%                         0.00%\n",
      "                    PROFESSION                          nan%                         0.00%\n",
      "                         IDNUM                          nan%                         0.00%\n",
      "                      USERNAME                          nan%                         0.00%\n",
      "                  PHONE_NUMBER                       100.00%                        66.92%\n",
      "                 EMAIL_ADDRESS                       100.00%                       100.00%\n",
      "                           PII                        60.87%                        61.55%\n",
      "PII F measure: 0.6120879120879121\n"
     ]
    }
   ],
   "source": [
    "evaluation_result.print()"
   ]
  },
  {
   "cell_type": "code",
   "execution_count": 56,
   "metadata": {},
   "outputs": [
    {
     "name": "stdout",
     "output_type": "stream",
     "text": [
      "                        Entity                     Precision                        Recall\n",
      "                        PERSON                        59.67%                        93.75%\n",
      "                           ORG                        51.81%                        52.83%\n",
      "                           AGE                          nan%                         0.00%\n",
      "                    PROFESSION                          nan%                         0.00%\n",
      "                         IDNUM                          nan%                         0.00%\n",
      "                      USERNAME                          nan%                         0.00%\n",
      "                  PHONE_NUMBER                       100.00%                        66.92%\n",
      "                 EMAIL_ADDRESS                       100.00%                       100.00%\n",
      "                           PII                        59.98%                        61.83%\n",
      "PII F measure: 0.6089227421109902\n"
     ]
    }
   ],
   "source": [
    "evaluation_result.print()"
   ]
  },
  {
   "cell_type": "markdown",
   "metadata": {},
   "source": [
    "#### G. Analyze wrong predictions"
   ]
  },
  {
   "cell_type": "code",
   "execution_count": 57,
   "metadata": {},
   "outputs": [],
   "source": [
    "errors = evaluation_result.model_errors"
   ]
  },
  {
   "cell_type": "code",
   "execution_count": null,
   "metadata": {},
   "outputs": [],
   "source": [
    "ModelEvaluator.most_common_fp_tokens(errors,n=5)"
   ]
  },
  {
   "cell_type": "code",
   "execution_count": 42,
   "metadata": {
    "pycharm": {
     "name": "#%%\n"
    }
   },
   "outputs": [
    {
     "data": {
      "text/html": [
       "<div>\n",
       "<style scoped>\n",
       "    .dataframe tbody tr th:only-of-type {\n",
       "        vertical-align: middle;\n",
       "    }\n",
       "\n",
       "    .dataframe tbody tr th {\n",
       "        vertical-align: top;\n",
       "    }\n",
       "\n",
       "    .dataframe thead th {\n",
       "        text-align: right;\n",
       "    }\n",
       "</style>\n",
       "<table border=\"1\" class=\"dataframe\">\n",
       "  <thead>\n",
       "    <tr style=\"text-align: right;\">\n",
       "      <th></th>\n",
       "      <th>error_type</th>\n",
       "      <th>annotation</th>\n",
       "      <th>prediction</th>\n",
       "      <th>token</th>\n",
       "      <th>full_text</th>\n",
       "      <th>0</th>\n",
       "    </tr>\n",
       "  </thead>\n",
       "  <tbody>\n",
       "    <tr>\n",
       "      <th>0</th>\n",
       "      <td>FP</td>\n",
       "      <td>O</td>\n",
       "      <td>PERSON</td>\n",
       "      <td>Medical</td>\n",
       "      <td>\\n\\n\\nRecord date: 2092-11-16\\n\\n \\n \\n \\n \\n ...</td>\n",
       "      <td>None</td>\n",
       "    </tr>\n",
       "    <tr>\n",
       "      <th>1</th>\n",
       "      <td>FP</td>\n",
       "      <td>O</td>\n",
       "      <td>PERSON</td>\n",
       "      <td>Group</td>\n",
       "      <td>\\n\\n\\nRecord date: 2092-11-16\\n\\n \\n \\n \\n \\n ...</td>\n",
       "      <td>None</td>\n",
       "    </tr>\n",
       "    <tr>\n",
       "      <th>2</th>\n",
       "      <td>FP</td>\n",
       "      <td>O</td>\n",
       "      <td>PERSON</td>\n",
       "      <td>\\n</td>\n",
       "      <td>\\n\\n\\nRecord date: 2092-11-16\\n\\n \\n \\n \\n \\n ...</td>\n",
       "      <td>None</td>\n",
       "    </tr>\n",
       "    <tr>\n",
       "      <th>3</th>\n",
       "      <td>FP</td>\n",
       "      <td>O</td>\n",
       "      <td>PERSON</td>\n",
       "      <td>\\n</td>\n",
       "      <td>\\n\\n\\nRecord date: 2092-11-16\\n\\n \\n \\n \\n \\n ...</td>\n",
       "      <td>None</td>\n",
       "    </tr>\n",
       "    <tr>\n",
       "      <th>4</th>\n",
       "      <td>FP</td>\n",
       "      <td>O</td>\n",
       "      <td>PERSON</td>\n",
       "      <td>MR</td>\n",
       "      <td>\\n\\n\\nRecord date: 2092-11-16\\n\\n \\n \\n \\n \\n ...</td>\n",
       "      <td>None</td>\n",
       "    </tr>\n",
       "    <tr>\n",
       "      <th>...</th>\n",
       "      <td>...</td>\n",
       "      <td>...</td>\n",
       "      <td>...</td>\n",
       "      <td>...</td>\n",
       "      <td>...</td>\n",
       "      <td>...</td>\n",
       "    </tr>\n",
       "    <tr>\n",
       "      <th>1085</th>\n",
       "      <td>FP</td>\n",
       "      <td>O</td>\n",
       "      <td>PERSON</td>\n",
       "      <td>if</td>\n",
       "      <td>\\n\\n\\nRecord date: 2088-10-18\\n\\n64 yo for f/u...</td>\n",
       "      <td>None</td>\n",
       "    </tr>\n",
       "    <tr>\n",
       "      <th>1086</th>\n",
       "      <td>FP</td>\n",
       "      <td>O</td>\n",
       "      <td>PERSON</td>\n",
       "      <td>her</td>\n",
       "      <td>\\n\\n\\nRecord date: 2088-10-18\\n\\n64 yo for f/u...</td>\n",
       "      <td>None</td>\n",
       "    </tr>\n",
       "    <tr>\n",
       "      <th>1087</th>\n",
       "      <td>FP</td>\n",
       "      <td>O</td>\n",
       "      <td>PERSON</td>\n",
       "      <td>LENIS</td>\n",
       "      <td>\\n\\n\\nRecord date: 2064-02-25\\n\\n\\n\\n\\n\\nINTER...</td>\n",
       "      <td>None</td>\n",
       "    </tr>\n",
       "    <tr>\n",
       "      <th>1088</th>\n",
       "      <td>FP</td>\n",
       "      <td>O</td>\n",
       "      <td>PERSON</td>\n",
       "      <td>MD</td>\n",
       "      <td>\\n\\n\\nRecord date: 2077-07-03\\n\\n\\n\\n\\n\\nINTER...</td>\n",
       "      <td>None</td>\n",
       "    </tr>\n",
       "    <tr>\n",
       "      <th>1089</th>\n",
       "      <td>FP</td>\n",
       "      <td>O</td>\n",
       "      <td>PERSON</td>\n",
       "      <td>.</td>\n",
       "      <td>\\n\\n\\nRecord date: 2125-07-18\\n\\n             ...</td>\n",
       "      <td>None</td>\n",
       "    </tr>\n",
       "  </tbody>\n",
       "</table>\n",
       "<p>1090 rows × 6 columns</p>\n",
       "</div>"
      ],
      "text/plain": [
       "     error_type annotation prediction    token  \\\n",
       "0            FP          O     PERSON  Medical   \n",
       "1            FP          O     PERSON    Group   \n",
       "2            FP          O     PERSON       \\n   \n",
       "3            FP          O     PERSON       \\n   \n",
       "4            FP          O     PERSON       MR   \n",
       "...         ...        ...        ...      ...   \n",
       "1085         FP          O     PERSON       if   \n",
       "1086         FP          O     PERSON      her   \n",
       "1087         FP          O     PERSON    LENIS   \n",
       "1088         FP          O     PERSON       MD   \n",
       "1089         FP          O     PERSON        .   \n",
       "\n",
       "                                              full_text     0  \n",
       "0     \\n\\n\\nRecord date: 2092-11-16\\n\\n \\n \\n \\n \\n ...  None  \n",
       "1     \\n\\n\\nRecord date: 2092-11-16\\n\\n \\n \\n \\n \\n ...  None  \n",
       "2     \\n\\n\\nRecord date: 2092-11-16\\n\\n \\n \\n \\n \\n ...  None  \n",
       "3     \\n\\n\\nRecord date: 2092-11-16\\n\\n \\n \\n \\n \\n ...  None  \n",
       "4     \\n\\n\\nRecord date: 2092-11-16\\n\\n \\n \\n \\n \\n ...  None  \n",
       "...                                                 ...   ...  \n",
       "1085  \\n\\n\\nRecord date: 2088-10-18\\n\\n64 yo for f/u...  None  \n",
       "1086  \\n\\n\\nRecord date: 2088-10-18\\n\\n64 yo for f/u...  None  \n",
       "1087  \\n\\n\\nRecord date: 2064-02-25\\n\\n\\n\\n\\n\\nINTER...  None  \n",
       "1088  \\n\\n\\nRecord date: 2077-07-03\\n\\n\\n\\n\\n\\nINTER...  None  \n",
       "1089  \\n\\n\\nRecord date: 2125-07-18\\n\\n             ...  None  \n",
       "\n",
       "[1090 rows x 6 columns]"
      ]
     },
     "execution_count": 42,
     "metadata": {},
     "output_type": "execute_result"
    }
   ],
   "source": [
    "fps_df = ModelEvaluator.get_fps_dataframe(errors,entity='PERSON')\n",
    "fps_df"
   ]
  },
  {
   "cell_type": "code",
   "execution_count": 58,
   "metadata": {},
   "outputs": [],
   "source": [
    "fns_df = ModelEvaluator.get_fns_dataframe(errors,entity='ORG')\n",
    "fns_df"
   ]
  },
  {
   "cell_type": "code",
   "execution_count": 19,
   "metadata": {},
   "outputs": [
    {
     "data": {
      "text/plain": [
       "Full text: Other analysts were more bullish, even though the company is expected to shrink to slightly more than half its current size in sales.\n",
       "Spans: []\n",
       "Tokens: [Other, analysts, were, more, bullish, ,, even, though, the, company, is, expected, to, shrink, to, slightly, more, than, half, its, current, size, in, sales, .]\n",
       "Tags: ['O', 'O', 'O', 'O', 'O', 'O', 'O', 'O', 'O', 'O', 'O', 'O', 'O', 'O', 'O', 'O', 'O', 'O', 'O', 'O', 'O', 'O', 'O', 'O', 'O']"
      ]
     },
     "execution_count": 19,
     "metadata": {},
     "output_type": "execute_result"
    }
   ],
   "source": [
    "input_samples[6001]"
   ]
  },
  {
   "cell_type": "code",
   "execution_count": 3,
   "metadata": {},
   "outputs": [
    {
     "data": {
      "text/plain": [
       "7"
      ]
     },
     "execution_count": 3,
     "metadata": {},
     "output_type": "execute_result"
    }
   ],
   "source": [
    "for idx, inp in enumerate(input_samples):\n",
    "    if \"OCAMPO, NATHAN\" in inp.full_text:\n",
    "        break\n",
    "idx"
   ]
  },
  {
   "cell_type": "code",
   "execution_count": 17,
   "metadata": {},
   "outputs": [
    {
     "data": {
      "text/plain": [
       "<presidio_evaluator.data_objects.EvaluationResult at 0x7f0f7a617150>"
      ]
     },
     "execution_count": 17,
     "metadata": {},
     "output_type": "execute_result"
    }
   ],
   "source": [
    "result"
   ]
  },
  {
   "cell_type": "code",
   "execution_count": 19,
   "metadata": {},
   "outputs": [
    {
     "name": "stdout",
     "output_type": "stream",
     "text": [
      "                        Entity                     Precision                        Recall\n",
      "                        PERSON                        87.50%                        77.78%\n",
      "                           ORG                          nan%                         0.00%\n",
      "                           AGE                          nan%                         0.00%\n",
      "                    PROFESSION                          nan%                          nan%\n",
      "                         IDNUM                          nan%                         0.00%\n",
      "                      USERNAME                          nan%                          nan%\n",
      "                  PHONE_NUMBER                          nan%                         0.00%\n",
      "                 EMAIL_ADDRESS                          nan%                          nan%\n",
      "                           PII                        87.50%                        35.00%\n",
      "PII F measure: 0.4999999999999999\n"
     ]
    }
   ],
   "source": [
    "presidio.calculate_score([result]).print()"
   ]
  },
  {
   "cell_type": "code",
   "execution_count": 4,
   "metadata": {},
   "outputs": [
    {
     "data": {
      "text/plain": [
       "Full text: \n",
       "\n",
       "\n",
       "Record date: 2093-09-13\n",
       "\n",
       "\n",
       "HMS Cardiovascular Division\n",
       "CVD R56\n",
       "82 Ferry Road                                      OCAMPO, NATHAN-OLIVER\n",
       "Foxborough, TX 58771                                           80531359\n",
       "(564) 243-4471                                           09/13/93\n",
       "\n",
       "\n",
       "Kenneth X. Sylvester, Jr., M.D.\n",
       "Holden District Hospital\n",
       "62 Ferry Road Cardiology\n",
       "Foxborough, TX  58771\n",
       "\n",
       "\n",
       "Dear Ken:\n",
       "\n",
       "Mr. Ocampo returns to the office following his recent coronary artery bypass graft surgery.  As you know, Dr. Todd Banks took him to the operating room on August 17th, at which point, he underwent multivessel bypass surgery with placement of a left internal mammary artery to his LAD and reverse saphenous vein grafts to his PDA, first obtuse marginal, and second obtuse marginal.  He tolerated the procedure uneventfully.  His postoperative course was notable for intermittent atrial fibrillation for which he was eventually started on amiodarone therapy.  He also had some difficulty with urinary retention and had a Foley placed, which has stayed in since discharge.  He spent approximately 10 days in Gadsden Medical and has now been discharged to home.  Currently, he complains of a variety of musculoskeletal complaints involving his upper chest and left arm; however, he denies symptoms of active angina, congestive failure, or sensed arrhythmias.  He is slowly recovering his overall strength.\n",
       "\n",
       "The last blood studies available to me indicate a random glucose of 118, creatinine of 1.1, normal liver function studies, cholesterol of 124, triglyceride of 124, HDL 39, LDL 60, hematocrit of 33.3.\n",
       "\n",
       "On a regimen of amiodarone 200 mg p.o. q.d., enteric-coated aspirin 81 mg p.o. q.d., Niferex 150 mg p.o. q.d., p.r.n. Tylenol No. 3, Hytrin 10 mg p.o. q.d., Proscar 5 mg p.o. q.d., Toprol-XL 50 mg p.o. q.d., Pletal 100 mg p.o. b.i.d., possibly simvastatin at 20 mg p.o. q.d.\n",
       "\n",
       "Physical exam today reveals a pleasant male in no acute distress.  Blood pressure right arm sitting 110/50, heart rate 65 and regular, respirations 14 and unlabored, and weight 183 pounds.  The neck is supple, JVP flat, carotids are 2+ without significant bruits.  Chest is clear.  Cardiac exam shows normal S1, physiologically split S2 with 1/6 systolic ejection murmur radiating from the apex to the base, no significant diastolic murmur or rub.  The abdomen is benign.  Extremities reveal markedly diminished peripheral pulses and 1+ pedal edema.\n",
       "\n",
       "Electrocardiogram shows sinus rhythm at a rate of 60, PR interval 0.14, QRS 0.12, QT 0.38, axis -20 degrees.  There is evidence of left bundle-branch block with secondary ST and T-wave changes.  An echocardiogram performed prior to discharge revealed mildly reduced left ventricular systolic function with a global ejection fraction of 40% at a time when he had a very rapid heart rate.  No subsequent echocardiogram has been performed when he is in sinus rhythm.\n",
       "\n",
       "Impression and Plan:  Mr. Ocampo is making a slow but study recovery from his multivessel coronary bypass graft surgery.  I suggested he undergo repeat echocardiogram to document current left ventricular function now that he is back in sinus rhythm.  I told him he would stay on amiodarone for approximately 3-6 months, and assuming, he was in normal sinus rhythm throughout this time period, his amiodarone would then be discontinued.  At that time, I would also discontinue his Coumadin.  In addition, at the time of his diagnostic catheterization, he had evidence for severe peripheral vascular disease, and he understands that when he has completed his recovery from his recent surgery, I would strongly encourage further evaluation of his lower extremity arterial system with an eye toward potential percutaneous intervention.  In addition, I have asked him to obtain copies of his discharge summary from the Gadsden Medical Center.  I would like to resume ACE inhibitor therapy in light of his significant CAD and probable left ventricular dysfunction.  He will have routine blood studies obtained today.  I would target his LDL cholesterol to the 70 range.  Beyond this, I have not altered his current regimen.\n",
       "\n",
       "Thank you very much for allowing me to assist in his care.\n",
       "\n",
       "Sincerely yours,\n",
       "\n",
       "\n",
       "\n",
       "\n",
       "\n",
       "______________________________\n",
       "Nicholas Gomes, M.D.\n",
       "\n",
       "\n",
       "Dictated By: Nicholas Gomes\n",
       "\n",
       "\n",
       "eScription document:5-3575980 AFFocus\n",
       "\n",
       "\n",
       "\n",
       "DD: 09/13/93\n",
       "DT: 09/14/93\n",
       "DV: 09/13/93\n",
       "\n",
       "\n",
       "\n",
       "\n",
       "Spans: [Type: DATE_TIME, value: 2093-09-13, start: 16, end: 26, Type: ORGANIZATION, value: HMS, start: 29, end: 32, Type: LOCATION, value: 82 Ferry Road, start: 65, end: 78, Type: PERSON, value: OCAMPO, NATHAN-OLIVER, start: 116, end: 137, Type: LOCATION, value: Foxborough, start: 138, end: 148, Type: LOCATION, value: TX, start: 150, end: 152, Type: LOCATION, value: 58771, start: 153, end: 158, Type: MEDICALRECORD, value: 80531359, start: 201, end: 209, Type: PHONE_NUMBER, value: (564) 243-4471, start: 210, end: 224, Type: DATE_TIME, value: 09/13/93, start: 267, end: 275, Type: PERSON, value: Kenneth X. Sylvester, Jr., start: 278, end: 303, Type: ORGANIZATION, value: Holden District Hospital, start: 310, end: 334, Type: LOCATION, value: 62 Ferry Road, start: 335, end: 348, Type: LOCATION, value: Foxborough, start: 360, end: 370, Type: LOCATION, value: TX, start: 372, end: 374, Type: LOCATION, value: 58771, start: 376, end: 381, Type: PERSON, value: Ken, start: 389, end: 392, Type: PERSON, value: Ocampo, start: 399, end: 405, Type: PERSON, value: Todd Banks, start: 505, end: 515, Type: DATE_TIME, value: August 17th, start: 550, end: 561, Type: ORGANIZATION, value: Gadsden Medical, start: 1100, end: 1115, Type: PERSON, value: Ocampo, start: 2917, end: 2923, Type: ORGANIZATION, value: Gadsden Medical Center, start: 3805, end: 3827, Type: PERSON, value: Nicholas Gomes, start: 4223, end: 4237, Type: PERSON, value: Nicholas Gomes, start: 4259, end: 4273, Type: IDNUM, value: 5-3575980, start: 4296, end: 4305, Type: DATE_TIME, value: 09/13/93, start: 4321, end: 4329, Type: DATE_TIME, value: 09/14/93, start: 4334, end: 4342, Type: DATE_TIME, value: 09/13/93, start: 4347, end: 4355]\n",
       "Tokens: [\n",
       "\n",
       "\n",
       ", Record, date, :, 2093, -, 09, -, 13, \n",
       "\n",
       "\n",
       ", HMS, Cardiovascular, Division, \n",
       ", CVD, R56, \n",
       ", 82, Ferry, Road,                                      , OCAMPO, ,, NATHAN, -, OLIVER, \n",
       ", Foxborough, ,, TX, 58771,                                           , 80531359, \n",
       ", (, 564, ), 243, -, 4471,                                           , 09/13/93, \n",
       "\n",
       "\n",
       ", Kenneth, X., Sylvester, ,, Jr., ,, M.D., \n",
       ", Holden, District, Hospital, \n",
       ", 62, Ferry, Road, Cardiology, \n",
       ", Foxborough, ,, TX,  , 58771, \n",
       "\n",
       "\n",
       ", Dear, Ken, :, \n",
       "\n",
       ", Mr., Ocampo, returns, to, the, office, following, his, recent, coronary, artery, bypass, graft, surgery, .,  , As, you, know, ,, Dr., Todd, Banks, took, him, to, the, operating, room, on, August, 17th, ,, at, which, point, ,, he, underwent, multivessel, bypass, surgery, with, placement, of, a, left, internal, mammary, artery, to, his, LAD, and, reverse, saphenous, vein, grafts, to, his, PDA, ,, first, obtuse, marginal, ,, and, second, obtuse, marginal, .,  , He, tolerated, the, procedure, uneventfully, .,  , His, postoperative, course, was, notable, for, intermittent, atrial, fibrillation, for, which, he, was, eventually, started, on, amiodarone, therapy, .,  , He, also, had, some, difficulty, with, urinary, retention, and, had, a, Foley, placed, ,, which, has, stayed, in, since, discharge, .,  , He, spent, approximately, 10, days, in, Gadsden, Medical, and, has, now, been, discharged, to, home, .,  , Currently, ,, he, complains, of, a, variety, of, musculoskeletal, complaints, involving, his, upper, chest, and, left, arm, ;, however, ,, he, denies, symptoms, of, active, angina, ,, congestive, failure, ,, or, sensed, arrhythmias, .,  , He, is, slowly, recovering, his, overall, strength, ., \n",
       "\n",
       ", The, last, blood, studies, available, to, me, indicate, a, random, glucose, of, 118, ,, creatinine, of, 1.1, ,, normal, liver, function, studies, ,, cholesterol, of, 124, ,, triglyceride, of, 124, ,, HDL, 39, ,, LDL, 60, ,, hematocrit, of, 33.3, ., \n",
       "\n",
       ", On, a, regimen, of, amiodarone, 200, mg, p.o, ., q.d, ., ,, enteric, -, coated, aspirin, 81, mg, p.o, ., q.d, ., ,, Niferex, 150, mg, p.o, ., q.d, ., ,, p.r.n, ., Tylenol, No, ., 3, ,, Hytrin, 10, mg, p.o, ., q.d, ., ,, Proscar, 5, mg, p.o, ., q.d, ., ,, Toprol, -, XL, 50, mg, p.o, ., q.d, ., ,, Pletal, 100, mg, p.o, ., b.i.d, ., ,, possibly, simvastatin, at, 20, mg, p.o, ., q.d, ., \n",
       "\n",
       ", Physical, exam, today, reveals, a, pleasant, male, in, no, acute, distress, .,  , Blood, pressure, right, arm, sitting, 110/50, ,, heart, rate, 65, and, regular, ,, respirations, 14, and, unlabored, ,, and, weight, 183, pounds, .,  , The, neck, is, supple, ,, JVP, flat, ,, carotids, are, 2, +, without, significant, bruits, .,  , Chest, is, clear, .,  , Cardiac, exam, shows, normal, S1, ,, physiologically, split, S2, with, 1/6, systolic, ejection, murmur, radiating, from, the, apex, to, the, base, ,, no, significant, diastolic, murmur, or, rub, .,  , The, abdomen, is, benign, .,  , Extremities, reveal, markedly, diminished, peripheral, pulses, and, 1, +, pedal, edema, ., \n",
       "\n",
       ", Electrocardiogram, shows, sinus, rhythm, at, a, rate, of, 60, ,, PR, interval, 0.14, ,, QRS, 0.12, ,, QT, 0.38, ,, axis, -20, degrees, .,  , There, is, evidence, of, left, bundle, -, branch, block, with, secondary, ST, and, T, -, wave, changes, .,  , An, echocardiogram, performed, prior, to, discharge, revealed, mildly, reduced, left, ventricular, systolic, function, with, a, global, ejection, fraction, of, 40, %, at, a, time, when, he, had, a, very, rapid, heart, rate, .,  , No, subsequent, echocardiogram, has, been, performed, when, he, is, in, sinus, rhythm, ., \n",
       "\n",
       ", Impression, and, Plan, :,  , Mr., Ocampo, is, making, a, slow, but, study, recovery, from, his, multivessel, coronary, bypass, graft, surgery, .,  , I, suggested, he, undergo, repeat, echocardiogram, to, document, current, left, ventricular, function, now, that, he, is, back, in, sinus, rhythm, .,  , I, told, him, he, would, stay, on, amiodarone, for, approximately, 3, -, 6, months, ,, and, assuming, ,, he, was, in, normal, sinus, rhythm, throughout, this, time, period, ,, his, amiodarone, would, then, be, discontinued, .,  , At, that, time, ,, I, would, also, discontinue, his, Coumadin, .,  , In, addition, ,, at, the, time, of, his, diagnostic, catheterization, ,, he, had, evidence, for, severe, peripheral, vascular, disease, ,, and, he, understands, that, when, he, has, completed, his, recovery, from, his, recent, surgery, ,, I, would, strongly, encourage, further, evaluation, of, his, lower, extremity, arterial, system, with, an, eye, toward, potential, percutaneous, intervention, .,  , In, addition, ,, I, have, asked, him, to, obtain, copies, of, his, discharge, summary, from, the, Gadsden, Medical, Center, .,  , I, would, like, to, resume, ACE, inhibitor, therapy, in, light, of, his, significant, CAD, and, probable, left, ventricular, dysfunction, .,  , He, will, have, routine, blood, studies, obtained, today, .,  , I, would, target, his, LDL, cholesterol, to, the, 70, range, .,  , Beyond, this, ,, I, have, not, altered, his, current, regimen, ., \n",
       "\n",
       ", Thank, you, very, much, for, allowing, me, to, assist, in, his, care, ., \n",
       "\n",
       ", Sincerely, yours, ,, \n",
       "\n",
       "\n",
       "\n",
       "\n",
       "\n",
       ", _, _, _, _, _, _, _, _, _, _, _, _, _, _, _, _, _, _, _, _, _, _, _, _, _, _, _, _, _, _, \n",
       ", Nicholas, Gomes, ,, M.D., \n",
       "\n",
       "\n",
       ", Dictated, By, :, Nicholas, Gomes, \n",
       "\n",
       "\n",
       ", eScription, document:5, -, 3575980, AFFocus, \n",
       "\n",
       "\n",
       "\n",
       ", DD, :, 09/13/93, \n",
       ", DT, :, 09/14/93, \n",
       ", DV, :, 09/13/93, \n",
       "\n",
       "\n",
       "\n",
       "]\n",
       "Tags: ['O', 'O', 'O', 'O', 'B-DATE_TIME', 'I-DATE_TIME', 'I-DATE_TIME', 'I-DATE_TIME', 'L-DATE_TIME', 'O', 'U-ORGANIZATION', 'O', 'O', 'O', 'O', 'O', 'O', 'B-LOCATION', 'I-LOCATION', 'L-LOCATION', 'O', 'B-PERSON', 'I-PERSON', 'I-PERSON', 'I-PERSON', 'L-PERSON', 'O', 'U-LOCATION', 'O', 'B-LOCATION', 'L-LOCATION', 'O', 'U-MEDICALRECORD', 'O', 'B-PHONE_NUMBER', 'I-PHONE_NUMBER', 'I-PHONE_NUMBER', 'I-PHONE_NUMBER', 'I-PHONE_NUMBER', 'L-PHONE_NUMBER', 'O', 'U-DATE_TIME', 'O', 'B-PERSON', 'I-PERSON', 'I-PERSON', 'I-PERSON', 'L-PERSON', 'O', 'O', 'O', 'B-ORGANIZATION', 'I-ORGANIZATION', 'L-ORGANIZATION', 'O', 'B-LOCATION', 'I-LOCATION', 'L-LOCATION', 'O', 'O', 'U-LOCATION', 'O', 'U-LOCATION', 'O', 'U-LOCATION', 'O', 'O', 'U-PERSON', 'O', 'O', 'O', 'U-PERSON', 'O', 'O', 'O', 'O', 'O', 'O', 'O', 'O', 'O', 'O', 'O', 'O', 'O', 'O', 'O', 'O', 'O', 'O', 'O', 'B-PERSON', 'L-PERSON', 'O', 'O', 'O', 'O', 'O', 'O', 'O', 'B-DATE_TIME', 'L-DATE_TIME', 'O', 'O', 'O', 'O', 'O', 'O', 'O', 'O', 'O', 'O', 'O', 'O', 'O', 'O', 'O', 'O', 'O', 'O', 'O', 'O', 'O', 'O', 'O', 'O', 'O', 'O', 'O', 'O', 'O', 'O', 'O', 'O', 'O', 'O', 'O', 'O', 'O', 'O', 'O', 'O', 'O', 'O', 'O', 'O', 'O', 'O', 'O', 'O', 'O', 'O', 'O', 'O', 'O', 'O', 'O', 'O', 'O', 'O', 'O', 'O', 'O', 'O', 'O', 'O', 'O', 'O', 'O', 'O', 'O', 'O', 'O', 'O', 'O', 'O', 'O', 'O', 'O', 'O', 'O', 'O', 'O', 'O', 'O', 'O', 'O', 'O', 'O', 'O', 'O', 'O', 'O', 'O', 'O', 'O', 'O', 'B-ORGANIZATION', 'L-ORGANIZATION', 'O', 'O', 'O', 'O', 'O', 'O', 'O', 'O', 'O', 'O', 'O', 'O', 'O', 'O', 'O', 'O', 'O', 'O', 'O', 'O', 'O', 'O', 'O', 'O', 'O', 'O', 'O', 'O', 'O', 'O', 'O', 'O', 'O', 'O', 'O', 'O', 'O', 'O', 'O', 'O', 'O', 'O', 'O', 'O', 'O', 'O', 'O', 'O', 'O', 'O', 'O', 'O', 'O', 'O', 'O', 'O', 'O', 'O', 'O', 'O', 'O', 'O', 'O', 'O', 'O', 'O', 'O', 'O', 'O', 'O', 'O', 'O', 'O', 'O', 'O', 'O', 'O', 'O', 'O', 'O', 'O', 'O', 'O', 'O', 'O', 'O', 'O', 'O', 'O', 'O', 'O', 'O', 'O', 'O', 'O', 'O', 'O', 'O', 'O', 'O', 'O', 'O', 'O', 'O', 'O', 'O', 'O', 'O', 'O', 'O', 'O', 'O', 'O', 'O', 'O', 'O', 'O', 'O', 'O', 'O', 'O', 'O', 'O', 'O', 'O', 'O', 'O', 'O', 'O', 'O', 'O', 'O', 'O', 'O', 'O', 'O', 'O', 'O', 'O', 'O', 'O', 'O', 'O', 'O', 'O', 'O', 'O', 'O', 'O', 'O', 'O', 'O', 'O', 'O', 'O', 'O', 'O', 'O', 'O', 'O', 'O', 'O', 'O', 'O', 'O', 'O', 'O', 'O', 'O', 'O', 'O', 'O', 'O', 'O', 'O', 'O', 'O', 'O', 'O', 'O', 'O', 'O', 'O', 'O', 'O', 'O', 'O', 'O', 'O', 'O', 'O', 'O', 'O', 'O', 'O', 'O', 'O', 'O', 'O', 'O', 'O', 'O', 'O', 'O', 'O', 'O', 'O', 'O', 'O', 'O', 'O', 'O', 'O', 'O', 'O', 'O', 'O', 'O', 'O', 'O', 'O', 'O', 'O', 'O', 'O', 'O', 'O', 'O', 'O', 'O', 'O', 'O', 'O', 'O', 'O', 'O', 'O', 'O', 'O', 'O', 'O', 'O', 'O', 'O', 'O', 'O', 'O', 'O', 'O', 'O', 'O', 'O', 'O', 'O', 'O', 'O', 'O', 'O', 'O', 'O', 'O', 'O', 'O', 'O', 'O', 'O', 'O', 'O', 'O', 'O', 'O', 'O', 'O', 'O', 'O', 'O', 'O', 'O', 'O', 'O', 'O', 'O', 'O', 'O', 'O', 'O', 'O', 'O', 'O', 'O', 'O', 'O', 'O', 'O', 'O', 'O', 'O', 'O', 'O', 'O', 'O', 'O', 'O', 'O', 'O', 'O', 'O', 'O', 'O', 'O', 'O', 'O', 'O', 'O', 'O', 'O', 'O', 'O', 'O', 'O', 'O', 'O', 'O', 'O', 'O', 'O', 'O', 'O', 'O', 'O', 'O', 'O', 'O', 'O', 'O', 'O', 'O', 'O', 'O', 'O', 'O', 'O', 'O', 'O', 'O', 'O', 'O', 'O', 'O', 'O', 'O', 'O', 'O', 'O', 'O', 'O', 'O', 'O', 'O', 'O', 'O', 'O', 'O', 'O', 'O', 'O', 'O', 'O', 'O', 'O', 'O', 'O', 'O', 'O', 'O', 'O', 'O', 'O', 'O', 'O', 'O', 'O', 'O', 'U-PERSON', 'O', 'O', 'O', 'O', 'O', 'O', 'O', 'O', 'O', 'O', 'O', 'O', 'O', 'O', 'O', 'O', 'O', 'O', 'O', 'O', 'O', 'O', 'O', 'O', 'O', 'O', 'O', 'O', 'O', 'O', 'O', 'O', 'O', 'O', 'O', 'O', 'O', 'O', 'O', 'O', 'O', 'O', 'O', 'O', 'O', 'O', 'O', 'O', 'O', 'O', 'O', 'O', 'O', 'O', 'O', 'O', 'O', 'O', 'O', 'O', 'O', 'O', 'O', 'O', 'O', 'O', 'O', 'O', 'O', 'O', 'O', 'O', 'O', 'O', 'O', 'O', 'O', 'O', 'O', 'O', 'O', 'O', 'O', 'O', 'O', 'O', 'O', 'O', 'O', 'O', 'O', 'O', 'O', 'O', 'O', 'O', 'O', 'O', 'O', 'O', 'O', 'O', 'O', 'O', 'O', 'O', 'O', 'O', 'O', 'O', 'O', 'O', 'O', 'O', 'O', 'O', 'O', 'O', 'O', 'O', 'O', 'O', 'O', 'O', 'O', 'O', 'O', 'O', 'O', 'O', 'O', 'O', 'O', 'O', 'O', 'O', 'O', 'O', 'O', 'O', 'O', 'O', 'O', 'O', 'O', 'O', 'O', 'O', 'O', 'O', 'O', 'O', 'O', 'O', 'O', 'O', 'O', 'O', 'O', 'B-ORGANIZATION', 'I-ORGANIZATION', 'L-ORGANIZATION', 'O', 'O', 'O', 'O', 'O', 'O', 'O', 'O', 'O', 'O', 'O', 'O', 'O', 'O', 'O', 'O', 'O', 'O', 'O', 'O', 'O', 'O', 'O', 'O', 'O', 'O', 'O', 'O', 'O', 'O', 'O', 'O', 'O', 'O', 'O', 'O', 'O', 'O', 'O', 'O', 'O', 'O', 'O', 'O', 'O', 'O', 'O', 'O', 'O', 'O', 'O', 'O', 'O', 'O', 'O', 'O', 'O', 'O', 'O', 'O', 'O', 'O', 'O', 'O', 'O', 'O', 'O', 'O', 'O', 'O', 'O', 'O', 'O', 'O', 'O', 'O', 'O', 'O', 'O', 'O', 'O', 'O', 'O', 'O', 'O', 'O', 'O', 'O', 'O', 'O', 'O', 'O', 'O', 'O', 'O', 'O', 'O', 'O', 'O', 'O', 'O', 'O', 'O', 'O', 'O', 'O', 'B-PERSON', 'L-PERSON', 'O', 'O', 'O', 'O', 'O', 'O', 'B-PERSON', 'L-PERSON', 'O', 'O', 'O', 'B-IDNUM', 'L-IDNUM', 'O', 'O', 'O', 'O', 'U-DATE_TIME', 'O', 'O', 'O', 'U-DATE_TIME', 'O', 'O', 'O', 'U-DATE_TIME', 'O']"
      ]
     },
     "execution_count": 4,
     "metadata": {},
     "output_type": "execute_result"
    }
   ],
   "source": [
    "input_samples[7]"
   ]
  },
  {
   "cell_type": "code",
   "execution_count": null,
   "metadata": {},
   "outputs": [],
   "source": []
  }
 ],
 "metadata": {
  "kernelspec": {
   "display_name": "Python 3",
   "language": "python",
   "name": "python3"
  },
  "language_info": {
   "codemirror_mode": {
    "name": "ipython",
    "version": 3
   },
   "file_extension": ".py",
   "mimetype": "text/x-python",
   "name": "python",
   "nbconvert_exporter": "python",
   "pygments_lexer": "ipython3",
   "version": "3.7.9"
  },
  "pycharm": {
   "stem_cell": {
    "cell_type": "raw",
    "metadata": {
     "collapsed": false
    },
    "source": []
   }
  }
 },
 "nbformat": 4,
 "nbformat_minor": 4
}
