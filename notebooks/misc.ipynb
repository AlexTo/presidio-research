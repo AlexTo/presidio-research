{
 "cells": [
  {
   "cell_type": "code",
   "execution_count": 1,
   "metadata": {},
   "outputs": [],
   "source": [
    "from presidio_evaluator.data_generator import read_synth_dataset\n",
    "from presidio_evaluator import ModelEvaluator\n",
    "from collections import Counter\n",
    "\n",
    "%load_ext autoreload\n",
    "%autoreload 2\n",
    "\n",
    "MY_PRESIDIO_ENDPOINT = \"http://localhost:8080/api/v1/projects/test/analyze\""
   ]
  },
  {
   "cell_type": "code",
   "execution_count": 2,
   "metadata": {},
   "outputs": [
    {
     "name": "stdout",
     "output_type": "stream",
     "text": [
      "Read 237 samples\n"
     ]
    }
   ],
   "source": [
    "input_samples = read_synth_dataset(\"../data/n2c2/set_2.json\")\n",
    "print(\"Read {} samples\".format(len(input_samples)))"
   ]
  },
  {
   "cell_type": "code",
   "execution_count": 3,
   "metadata": {},
   "outputs": [],
   "source": [
    "# Mapping between dataset entities and Presidio entities. Key: Dataset entity, Value: Presidio entity\n",
    "entities_mapping = {'DATE': 'DATE_TIME',\n",
    "                    'HOSPITAL': 'ORG',\n",
    "                    'PATIENT': 'PERSON',\n",
    "                    'MEDICALRECORD': 'MEDICALRECORD',\n",
    "                    'AGE': 'AGE',\n",
    "                    'COUNTRY': 'LOCATION',\n",
    "                    'IDNUM': 'IDNUM',\n",
    "                    'DOCTOR': 'PERSON',\n",
    "                    'USERNAME': 'USERNAME',\n",
    "                    'STREET': 'LOCATION',\n",
    "                    'CITY': 'LOCATION',\n",
    "                    'STATE': 'LOCATION',\n",
    "                    'ZIP': 'LOCATION',\n",
    "                    'PROFESSION': 'PROFESSION',\n",
    "                    'PHONE': 'PHONE_NUMBER',\n",
    "                    'ORGANIZATION': 'ORG',\n",
    "                    'BIOID': 'BIOID',\n",
    "                    'DEVICE': 'DEVICE',\n",
    "                    'LOCATION-OTHER': 'LOCATION',\n",
    "                    'FAX': 'PHONE_NUMBER',\n",
    "                    'EMAIL': 'EMAIL_ADDRESS',\n",
    "                    'HEALTHPLAN': 'HEALTHPLAN',\n",
    "                    'URL': 'URL'}\n",
    "\n",
    "new_list = ModelEvaluator.align_input_samples_to_presidio_analyzer(input_samples,\n",
    "                                                                   entities_mapping)"
   ]
  },
  {
   "cell_type": "code",
   "execution_count": 6,
   "metadata": {},
   "outputs": [],
   "source": [
    "flatten = lambda l: [item for sublist in l for item in sublist]\n",
    "\n",
    "count_per_entity = Counter([span.entity_type for span in flatten([input_sample.spans for input_sample in input_samples])])\n",
    "count_per_entity\n",
    "\n",
    "## recheck counter\n",
    "count_per_entity_new = Counter([span.entity_type for span in flatten([input_sample.spans for input_sample in new_list])])\n",
    "count_per_entity_new\n",
    "\n",
    "from presidio_evaluator import PresidioAPIEvaluator\n",
    "presidio = PresidioAPIEvaluator(all_fields=False, entities_to_keep=list(count_per_entity_new.keys()),endpoint=MY_PRESIDIO_ENDPOINT)"
   ]
  },
  {
   "cell_type": "code",
   "execution_count": 47,
   "metadata": {},
   "outputs": [],
   "source": [
    "prediction = presidio.predict(new_list[8])"
   ]
  },
  {
   "cell_type": "code",
   "execution_count": null,
   "metadata": {},
   "outputs": [],
   "source": [
    "presidio.compare()"
   ]
  },
  {
   "cell_type": "code",
   "execution_count": 40,
   "metadata": {},
   "outputs": [],
   "source": [
    "for i, t in enumerate(new_list):\n",
    "    if \"Name\" in t.full_text:\n",
    "        break"
   ]
  },
  {
   "cell_type": "code",
   "execution_count": 41,
   "metadata": {},
   "outputs": [
    {
     "data": {
      "text/plain": [
       "8"
      ]
     },
     "execution_count": 41,
     "metadata": {},
     "output_type": "execute_result"
    }
   ],
   "source": [
    "i"
   ]
  },
  {
   "cell_type": "code",
   "execution_count": 43,
   "metadata": {},
   "outputs": [
    {
     "data": {
      "text/plain": [
       "Full text: \n",
       "\n",
       "\n",
       "Record date: 2091-07-24\n",
       "\n",
       "\n",
       "\n",
       "Visit Note\n",
       "\n",
       "\n",
       "Patient Name: JUSTUS, QUIANA                       MRN: 9814048\n",
       "Dictated Date: 07/27/2091                      Dictated By: Ida Xayachack, M.D.\n",
       "\n",
       "\n",
       "Date of Visit: 07/24/2091\n",
       "\n",
       "\n",
       "\n",
       "\n",
       "The patient is a 79-year-old woman with a history of diabetes, hypertension, coronary artery disease who comes in today for followup. Please see the recent note from cardiology from 06/27/2091. She is status post stenting in 03/2091 and 06/2091. Post her second procedure she also had a large hematoma which has been gradually resolving. \n",
       "\n",
       "\n",
       "She has type 2 diabetes and her fasting sugars have been very well controlled. She is currently on metformin 1000 mg b.i.d. and glyburide 5 mg b.i.d. She is trying to watch her diet and salt intake. She has not had any symptoms of hypoglycemia. She had lost some weight after her first heart attack but her weight has been stable. \n",
       "\n",
       "\n",
       "Her lisinopril was recently increased by cardiology. She has no exertional chest pain, PND, orthopnea, edema, or claudication. \n",
       "\n",
       "\n",
       "She has a history of iron deficiency anemia and had refused colonoscopies in the past. At the time of her heart attack she had been intubated and had some coffee grounds noted and also required a blood transfusion. She has not noted any epigastric pain, abdominal pain, melena, or hematochezia. She does take her iron supplements and her stools are dark on the iron supplements. I had discussed with patient and daughter several times that she should get a colonoscopy to evaluate her guaiac iron deficiency anemia but she continues to refuse one. \n",
       "\n",
       "\n",
       "Also noted on her admissions was that she had a lung nodule and possible pancreatic mass on CT from 03/2091 and 06/2091. She should get a repeat CT in 12/2091. \n",
       "\n",
       "\n",
       "She is not having any abdominal pain. \n",
       "\n",
       "\n",
       "She has chronic back pain and osteoarthritis pain. Of note she also had elevated parathyroid levels in the past but refuses to see Endocrinology either in Fayetteville or at United Methodist Behavioral Hospital. \n",
       "\n",
       "\n",
       "Please see her medication list which was reviewed with the patient and her daughter. \n",
       "\n",
       "\n",
       "PHYSICAL EXAMINATION: She is in no acute distress. Blood pressure 132/70. Neck: Supple without JVD or bruits. Lungs: Clear without wheezes, rales, or rhonchi. Cardiac: Rate regularly regular, normal S1 and S2. No S3, S4 or bruits. Abdomen: Mildly obese, soft, nontender. She still has some residual hematoma near her right groin. She has a left femoral artery bruit. The hematoma has significantly decreased in size compared to prior visit. No CCE. Distal pulses intact. \n",
       "\n",
       "\n",
       "1. Coronary artery disease. She has no symptoms of decompensated heart failure on her current regimen. Her blood pressure is well controlled with the recent increase in the lisinopril from 20 to 40 mg daily. Check Chem-7. \n",
       "\n",
       "\n",
       "Hypomagnesemia. Check followup magnesium level. \n",
       "\n",
       "\n",
       "Type 2 diabetes. Her last hemoglobin A1c was 6.1 which is excellent. Continue current medications. \n",
       "Iron deficiency anemia. She should have a colonoscopy +/- an upper endoscopy but she declines these procedures. She is aware that we have not ruled out colon cancer or adenomatous colonic polyps or other cause for her iron deficiency anemia. Check CBC. \n",
       "\n",
       "\n",
       "History of lung nodule and possible pancreatic mass versus IPMN. These were both stable on imaging from 03/2091 and 06/2091. She needs repeat imaging in 6 months. She will follow up with me in 10/2091 so we can get a flu shot and schedule these procedures. \n",
       "\n",
       "\n",
       "\n",
       "\n",
       "___________________________\n",
       "Ida Xayachack, M.D.\n",
       "\n",
       "\n",
       "\n",
       "\n",
       "\n",
       "\n",
       "cc:\n",
       "\n",
       "\n",
       "\n",
       "\n",
       "\n",
       "\n",
       "TD: 07/28/2091 04:38:30\n",
       "TR: 7999590\n",
       "BackJob ID:  411287\n",
       "VoiceJob ID:  17480048\n",
       "\n",
       "\n",
       "\n",
       "\n",
       "\n",
       "\n",
       "\n",
       "\n",
       "\n",
       "Spans: [Type: DATE_TIME, value: 2091-07-24, start: 16, end: 26, Type: PERSON, value: JUSTUS, QUIANA, start: 57, end: 71, Type: AGE, value: 9814048, start: 99, end: 106, Type: DATE_TIME, value: 07/27/2091, start: 122, end: 132, Type: PERSON, value: Ida Xayachack, start: 167, end: 180, Type: DATE_TIME, value: 07/24/2091, start: 204, end: 214, Type: AGE, value: 79, start: 236, end: 238, Type: DATE_TIME, value: 06/27/2091, start: 401, end: 411, Type: DATE_TIME, value: 03/2091, start: 444, end: 451, Type: DATE_TIME, value: 06/2091, start: 456, end: 463, Type: DATE_TIME, value: 03/2091, start: 1675, end: 1682, Type: DATE_TIME, value: 06/2091, start: 1687, end: 1694, Type: DATE_TIME, value: 12/2091, start: 1726, end: 1733, Type: LOCATION, value: Fayetteville, start: 1934, end: 1946, Type: ORG, value: United Methodist Behavioral Hospital, start: 1953, end: 1989, Type: DATE_TIME, value: 03/2091, start: 3292, end: 3299, Type: DATE_TIME, value: 06/2091, start: 3304, end: 3311, Type: DATE_TIME, value: 10/2091, start: 3381, end: 3388, Type: PERSON, value: Ida Xayachack, start: 3478, end: 3491, Type: DATE_TIME, value: 07/28/2091, start: 3518, end: 3528, Type: IDNUM, value: 7999590, start: 3542, end: 3549, Type: IDNUM, value: 411287, start: 3563, end: 3569, Type: IDNUM, value: 17480048, start: 3584, end: 3592]\n",
       "Tokens: [\n",
       "\n",
       "\n",
       ", Record, date, :, 2091, -, 07, -, 24, \n",
       "\n",
       "\n",
       "\n",
       ", Visit, Note, \n",
       "\n",
       "\n",
       ", Patient, Name, :, JUSTUS, ,, QUIANA,                       , MRN, :, 9814048, \n",
       ", Dictated, Date, :, 07/27/2091,                      , Dictated, By, :, Ida, Xayachack, ,, M.D., \n",
       "\n",
       "\n",
       ", Date, of, Visit, :, 07/24/2091, \n",
       "\n",
       "\n",
       "\n",
       "\n",
       ", The, patient, is, a, 79, -, year, -, old, woman, with, a, history, of, diabetes, ,, hypertension, ,, coronary, artery, disease, who, comes, in, today, for, followup, ., Please, see, the, recent, note, from, cardiology, from, 06/27/2091, ., She, is, status, post, stenting, in, 03/2091, and, 06/2091, ., Post, her, second, procedure, she, also, had, a, large, hematoma, which, has, been, gradually, resolving, ., \n",
       "\n",
       "\n",
       ", She, has, type, 2, diabetes, and, her, fasting, sugars, have, been, very, well, controlled, ., She, is, currently, on, metformin, 1000, mg, b.i.d, ., and, glyburide, 5, mg, b.i.d, ., She, is, trying, to, watch, her, diet, and, salt, intake, ., She, has, not, had, any, symptoms, of, hypoglycemia, ., She, had, lost, some, weight, after, her, first, heart, attack, but, her, weight, has, been, stable, ., \n",
       "\n",
       "\n",
       ", Her, lisinopril, was, recently, increased, by, cardiology, ., She, has, no, exertional, chest, pain, ,, PND, ,, orthopnea, ,, edema, ,, or, claudication, ., \n",
       "\n",
       "\n",
       ", She, has, a, history, of, iron, deficiency, anemia, and, had, refused, colonoscopies, in, the, past, ., At, the, time, of, her, heart, attack, she, had, been, intubated, and, had, some, coffee, grounds, noted, and, also, required, a, blood, transfusion, ., She, has, not, noted, any, epigastric, pain, ,, abdominal, pain, ,, melena, ,, or, hematochezia, ., She, does, take, her, iron, supplements, and, her, stools, are, dark, on, the, iron, supplements, ., I, had, discussed, with, patient, and, daughter, several, times, that, she, should, get, a, colonoscopy, to, evaluate, her, guaiac, iron, deficiency, anemia, but, she, continues, to, refuse, one, ., \n",
       "\n",
       "\n",
       ", Also, noted, on, her, admissions, was, that, she, had, a, lung, nodule, and, possible, pancreatic, mass, on, CT, from, 03/2091, and, 06/2091, ., She, should, get, a, repeat, CT, in, 12/2091, ., \n",
       "\n",
       "\n",
       ", She, is, not, having, any, abdominal, pain, ., \n",
       "\n",
       "\n",
       ", She, has, chronic, back, pain, and, osteoarthritis, pain, ., Of, note, she, also, had, elevated, parathyroid, levels, in, the, past, but, refuses, to, see, Endocrinology, either, in, Fayetteville, or, at, United, Methodist, Behavioral, Hospital, ., \n",
       "\n",
       "\n",
       ", Please, see, her, medication, list, which, was, reviewed, with, the, patient, and, her, daughter, ., \n",
       "\n",
       "\n",
       ", PHYSICAL, EXAMINATION, :, She, is, in, no, acute, distress, ., Blood, pressure, 132/70, ., Neck, :, Supple, without, JVD, or, bruits, ., Lungs, :, Clear, without, wheezes, ,, rales, ,, or, rhonchi, ., Cardiac, :, Rate, regularly, regular, ,, normal, S1, and, S2, ., No, S3, ,, S4, or, bruits, ., Abdomen, :, Mildly, obese, ,, soft, ,, nontender, ., She, still, has, some, residual, hematoma, near, her, right, groin, ., She, has, a, left, femoral, artery, bruit, ., The, hematoma, has, significantly, decreased, in, size, compared, to, prior, visit, ., No, CCE, ., Distal, pulses, intact, ., \n",
       "\n",
       "\n",
       ", 1, ., Coronary, artery, disease, ., She, has, no, symptoms, of, decompensated, heart, failure, on, her, current, regimen, ., Her, blood, pressure, is, well, controlled, with, the, recent, increase, in, the, lisinopril, from, 20, to, 40, mg, daily, ., Check, Chem-7, ., \n",
       "\n",
       "\n",
       ", Hypomagnesemia, ., Check, followup, magnesium, level, ., \n",
       "\n",
       "\n",
       ", Type, 2, diabetes, ., Her, last, hemoglobin, A1c, was, 6.1, which, is, excellent, ., Continue, current, medications, ., \n",
       ", Iron, deficiency, anemia, ., She, should, have, a, colonoscopy, +, /-, an, upper, endoscopy, but, she, declines, these, procedures, ., She, is, aware, that, we, have, not, ruled, out, colon, cancer, or, adenomatous, colonic, polyps, or, other, cause, for, her, iron, deficiency, anemia, ., Check, CBC, ., \n",
       "\n",
       "\n",
       ", History, of, lung, nodule, and, possible, pancreatic, mass, versus, IPMN, ., These, were, both, stable, on, imaging, from, 03/2091, and, 06/2091, ., She, needs, repeat, imaging, in, 6, months, ., She, will, follow, up, with, me, in, 10/2091, so, we, can, get, a, flu, shot, and, schedule, these, procedures, ., \n",
       "\n",
       "\n",
       "\n",
       "\n",
       ", _, _, _, _, _, _, _, _, _, _, _, _, _, _, _, _, _, _, _, _, _, _, _, _, _, _, _, \n",
       ", Ida, Xayachack, ,, M.D., \n",
       "\n",
       "\n",
       "\n",
       "\n",
       "\n",
       "\n",
       ", cc, :, \n",
       "\n",
       "\n",
       "\n",
       "\n",
       "\n",
       "\n",
       ", TD, :, 07/28/2091, 04:38:30, \n",
       ", TR, :, 7999590, \n",
       ", BackJob, ID, :,  , 411287, \n",
       ", VoiceJob, ID, :,  , 17480048, \n",
       "\n",
       "\n",
       "\n",
       "\n",
       "\n",
       "\n",
       "\n",
       "\n",
       "]\n",
       "Tags: ['O', 'O', 'O', 'O', 'DATE_TIME', 'DATE_TIME', 'DATE_TIME', 'DATE_TIME', 'DATE_TIME', 'O', 'O', 'O', 'O', 'O', 'O', 'O', 'PERSON', 'PERSON', 'PERSON', 'O', 'O', 'O', 'AGE', 'O', 'O', 'O', 'O', 'DATE_TIME', 'O', 'O', 'O', 'O', 'PERSON', 'PERSON', 'O', 'O', 'O', 'O', 'O', 'O', 'O', 'DATE_TIME', 'O', 'O', 'O', 'O', 'O', 'AGE', 'O', 'O', 'O', 'O', 'O', 'O', 'O', 'O', 'O', 'O', 'O', 'O', 'O', 'O', 'O', 'O', 'O', 'O', 'O', 'O', 'O', 'O', 'O', 'O', 'O', 'O', 'O', 'O', 'O', 'O', 'O', 'DATE_TIME', 'O', 'O', 'O', 'O', 'O', 'O', 'O', 'DATE_TIME', 'O', 'DATE_TIME', 'O', 'O', 'O', 'O', 'O', 'O', 'O', 'O', 'O', 'O', 'O', 'O', 'O', 'O', 'O', 'O', 'O', 'O', 'O', 'O', 'O', 'O', 'O', 'O', 'O', 'O', 'O', 'O', 'O', 'O', 'O', 'O', 'O', 'O', 'O', 'O', 'O', 'O', 'O', 'O', 'O', 'O', 'O', 'O', 'O', 'O', 'O', 'O', 'O', 'O', 'O', 'O', 'O', 'O', 'O', 'O', 'O', 'O', 'O', 'O', 'O', 'O', 'O', 'O', 'O', 'O', 'O', 'O', 'O', 'O', 'O', 'O', 'O', 'O', 'O', 'O', 'O', 'O', 'O', 'O', 'O', 'O', 'O', 'O', 'O', 'O', 'O', 'O', 'O', 'O', 'O', 'O', 'O', 'O', 'O', 'O', 'O', 'O', 'O', 'O', 'O', 'O', 'O', 'O', 'O', 'O', 'O', 'O', 'O', 'O', 'O', 'O', 'O', 'O', 'O', 'O', 'O', 'O', 'O', 'O', 'O', 'O', 'O', 'O', 'O', 'O', 'O', 'O', 'O', 'O', 'O', 'O', 'O', 'O', 'O', 'O', 'O', 'O', 'O', 'O', 'O', 'O', 'O', 'O', 'O', 'O', 'O', 'O', 'O', 'O', 'O', 'O', 'O', 'O', 'O', 'O', 'O', 'O', 'O', 'O', 'O', 'O', 'O', 'O', 'O', 'O', 'O', 'O', 'O', 'O', 'O', 'O', 'O', 'O', 'O', 'O', 'O', 'O', 'O', 'O', 'O', 'O', 'O', 'O', 'O', 'O', 'O', 'O', 'O', 'O', 'O', 'O', 'O', 'O', 'O', 'O', 'O', 'O', 'O', 'O', 'O', 'O', 'O', 'O', 'O', 'O', 'O', 'O', 'O', 'O', 'O', 'O', 'O', 'O', 'O', 'O', 'O', 'O', 'O', 'O', 'O', 'O', 'O', 'O', 'O', 'O', 'O', 'O', 'O', 'O', 'O', 'O', 'DATE_TIME', 'O', 'DATE_TIME', 'O', 'O', 'O', 'O', 'O', 'O', 'O', 'O', 'DATE_TIME', 'O', 'O', 'O', 'O', 'O', 'O', 'O', 'O', 'O', 'O', 'O', 'O', 'O', 'O', 'O', 'O', 'O', 'O', 'O', 'O', 'O', 'O', 'O', 'O', 'O', 'O', 'O', 'O', 'O', 'O', 'O', 'O', 'O', 'O', 'O', 'O', 'O', 'O', 'LOCATION', 'O', 'O', 'ORG', 'ORG', 'ORG', 'ORG', 'O', 'O', 'O', 'O', 'O', 'O', 'O', 'O', 'O', 'O', 'O', 'O', 'O', 'O', 'O', 'O', 'O', 'O', 'O', 'O', 'O', 'O', 'O', 'O', 'O', 'O', 'O', 'O', 'O', 'O', 'O', 'O', 'O', 'O', 'O', 'O', 'O', 'O', 'O', 'O', 'O', 'O', 'O', 'O', 'O', 'O', 'O', 'O', 'O', 'O', 'O', 'O', 'O', 'O', 'O', 'O', 'O', 'O', 'O', 'O', 'O', 'O', 'O', 'O', 'O', 'O', 'O', 'O', 'O', 'O', 'O', 'O', 'O', 'O', 'O', 'O', 'O', 'O', 'O', 'O', 'O', 'O', 'O', 'O', 'O', 'O', 'O', 'O', 'O', 'O', 'O', 'O', 'O', 'O', 'O', 'O', 'O', 'O', 'O', 'O', 'O', 'O', 'O', 'O', 'O', 'O', 'O', 'O', 'O', 'O', 'O', 'O', 'O', 'O', 'O', 'O', 'O', 'O', 'O', 'O', 'O', 'O', 'O', 'O', 'O', 'O', 'O', 'O', 'O', 'O', 'O', 'O', 'O', 'O', 'O', 'O', 'O', 'O', 'O', 'O', 'O', 'O', 'O', 'O', 'O', 'O', 'O', 'O', 'O', 'O', 'O', 'O', 'O', 'O', 'O', 'O', 'O', 'O', 'O', 'O', 'O', 'O', 'O', 'O', 'O', 'O', 'O', 'O', 'O', 'O', 'O', 'O', 'O', 'O', 'O', 'O', 'O', 'O', 'O', 'O', 'O', 'O', 'O', 'O', 'O', 'O', 'O', 'O', 'O', 'O', 'O', 'O', 'O', 'O', 'O', 'O', 'O', 'O', 'O', 'O', 'O', 'O', 'O', 'O', 'O', 'O', 'O', 'O', 'O', 'O', 'O', 'O', 'O', 'O', 'O', 'O', 'O', 'O', 'O', 'O', 'O', 'O', 'O', 'O', 'O', 'O', 'O', 'O', 'O', 'O', 'O', 'O', 'O', 'O', 'O', 'O', 'O', 'O', 'O', 'O', 'O', 'O', 'O', 'O', 'O', 'O', 'O', 'O', 'O', 'O', 'O', 'O', 'O', 'DATE_TIME', 'O', 'DATE_TIME', 'O', 'O', 'O', 'O', 'O', 'O', 'O', 'O', 'O', 'O', 'O', 'O', 'O', 'O', 'O', 'O', 'DATE_TIME', 'O', 'O', 'O', 'O', 'O', 'O', 'O', 'O', 'O', 'O', 'O', 'O', 'O', 'O', 'O', 'O', 'O', 'O', 'O', 'O', 'O', 'O', 'O', 'O', 'O', 'O', 'O', 'O', 'O', 'O', 'O', 'O', 'O', 'O', 'O', 'O', 'O', 'O', 'O', 'O', 'O', 'PERSON', 'PERSON', 'O', 'O', 'O', 'O', 'O', 'O', 'O', 'O', 'DATE_TIME', 'O', 'O', 'O', 'O', 'IDNUM', 'O', 'O', 'O', 'O', 'O', 'IDNUM', 'O', 'O', 'O', 'O', 'O', 'IDNUM', 'O']"
      ]
     },
     "execution_count": 43,
     "metadata": {},
     "output_type": "execute_result"
    }
   ],
   "source": [
    "t"
   ]
  },
  {
   "cell_type": "code",
   "execution_count": null,
   "metadata": {},
   "outputs": [],
   "source": []
  }
 ],
 "metadata": {
  "kernelspec": {
   "display_name": "Python 3",
   "language": "python",
   "name": "python3"
  },
  "language_info": {
   "codemirror_mode": {
    "name": "ipython",
    "version": 3
   },
   "file_extension": ".py",
   "mimetype": "text/x-python",
   "name": "python",
   "nbconvert_exporter": "python",
   "pygments_lexer": "ipython3",
   "version": "3.7.9"
  }
 },
 "nbformat": 4,
 "nbformat_minor": 4
}
